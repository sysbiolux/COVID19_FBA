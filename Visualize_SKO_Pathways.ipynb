{
 "cells": [
  {
   "cell_type": "code",
   "execution_count": 95,
   "metadata": {},
   "outputs": [],
   "source": [
    "import numpy as np\n",
    "import pandas as pd\n",
    "import seaborn as sns\n",
    "from matplotlib import pyplot as plt"
   ]
  },
  {
   "cell_type": "code",
   "execution_count": 96,
   "metadata": {
    "scrolled": true
   },
   "outputs": [
    {
     "data": {
      "text/html": [
       "<div>\n",
       "<style scoped>\n",
       "    .dataframe tbody tr th:only-of-type {\n",
       "        vertical-align: middle;\n",
       "    }\n",
       "\n",
       "    .dataframe tbody tr th {\n",
       "        vertical-align: top;\n",
       "    }\n",
       "\n",
       "    .dataframe thead th {\n",
       "        text-align: right;\n",
       "    }\n",
       "</style>\n",
       "<table border=\"1\" class=\"dataframe\">\n",
       "  <thead>\n",
       "    <tr style=\"text-align: right;\">\n",
       "      <th></th>\n",
       "      <th>Pathway</th>\n",
       "      <th>NB</th>\n",
       "      <th>Phenotype</th>\n",
       "    </tr>\n",
       "  </thead>\n",
       "  <tbody>\n",
       "    <tr>\n",
       "      <th>0</th>\n",
       "      <td>Fatty acid oxidation</td>\n",
       "      <td>2</td>\n",
       "      <td>S1</td>\n",
       "    </tr>\n",
       "    <tr>\n",
       "      <th>1</th>\n",
       "      <td>Glycerophospholipid metabolism</td>\n",
       "      <td>19</td>\n",
       "      <td>S1</td>\n",
       "    </tr>\n",
       "    <tr>\n",
       "      <th>2</th>\n",
       "      <td>Methionine and cysteine metabolism</td>\n",
       "      <td>3</td>\n",
       "      <td>S1</td>\n",
       "    </tr>\n",
       "    <tr>\n",
       "      <th>3</th>\n",
       "      <td>Nucleotide interconversion</td>\n",
       "      <td>42</td>\n",
       "      <td>S1</td>\n",
       "    </tr>\n",
       "    <tr>\n",
       "      <th>4</th>\n",
       "      <td>Sphingolipid metabolism</td>\n",
       "      <td>2</td>\n",
       "      <td>S1</td>\n",
       "    </tr>\n",
       "  </tbody>\n",
       "</table>\n",
       "</div>"
      ],
      "text/plain": [
       "                              Pathway  NB Phenotype\n",
       "0                Fatty acid oxidation   2        S1\n",
       "1      Glycerophospholipid metabolism  19        S1\n",
       "2  Methionine and cysteine metabolism   3        S1\n",
       "3          Nucleotide interconversion  42        S1\n",
       "4             Sphingolipid metabolism   2        S1"
      ]
     },
     "execution_count": 96,
     "metadata": {},
     "output_type": "execute_result"
    }
   ],
   "source": [
    "der_df = pd.read_csv('KO_data/severity_SKO_RECON_Pathways.csv')\n",
    "der_df.Phenotype= der_df.Phenotype.str.replace('s','Series')\n",
    "der_df.head()"
   ]
  },
  {
   "cell_type": "code",
   "execution_count": 97,
   "metadata": {},
   "outputs": [
    {
     "data": {
      "text/plain": [
       "array(['Fatty acid oxidation', 'Glycerophospholipid metabolism',\n",
       "       'Methionine and cysteine metabolism', 'Nucleotide interconversion',\n",
       "       'Sphingolipid metabolism', 'Starch and sucrose metabolism',\n",
       "       'Transport, extracellular', 'Inositol phosphate metabolism',\n",
       "       'Pyrimidine synthesis', 'Alanine and aspartate metabolism',\n",
       "       'Folate metabolism',\n",
       "       'Glycine, serine, alanine, and threonine metabolism'], dtype=object)"
      ]
     },
     "execution_count": 97,
     "metadata": {},
     "output_type": "execute_result"
    }
   ],
   "source": [
    "der_df.Pathway.unique()"
   ]
  },
  {
   "cell_type": "code",
   "execution_count": 98,
   "metadata": {},
   "outputs": [
    {
     "data": {
      "text/plain": [
       "(38, 3)"
      ]
     },
     "execution_count": 98,
     "metadata": {},
     "output_type": "execute_result"
    }
   ],
   "source": [
    "der_df.shape"
   ]
  },
  {
   "cell_type": "code",
   "execution_count": 99,
   "metadata": {},
   "outputs": [
    {
     "data": {
      "text/plain": [
       "MultiIndex([('Var2', 'count')],\n",
       "           )"
      ]
     },
     "execution_count": 99,
     "metadata": {},
     "output_type": "execute_result"
    }
   ],
   "source": [
    "# Read Recon pathways reactions for RECON3 subsystems\n",
    "pathway_df = pd.read_csv('RECON_Pathway_Reactions.csv')\n",
    "pathway_df.head()\n",
    "pathway_df_unq = pathway_df.groupby(['Var1']).agg(['count'])\n",
    "pathway_df_unq.columns"
   ]
  },
  {
   "cell_type": "markdown",
   "metadata": {},
   "source": [
    "#Calculate the percentage of rxns in a pathway\n",
    "for i in range(der_df.shape[0]):\n",
    "    pathway = der_df.iloc[i,0]\n",
    "    rxns_count = int(pathway_df_unq.loc[pathway,:].values)\n",
    "    der_df.iloc[i,1] = der_df.iloc[i,1]/rxns_count\n",
    "    der_df.iloc[i,2] = der_df.iloc[i,2]/rxns_count\n",
    "der_df.head()"
   ]
  },
  {
   "cell_type": "code",
   "execution_count": 100,
   "metadata": {},
   "outputs": [
    {
     "data": {
      "text/plain": [
       "<matplotlib.axes._subplots.AxesSubplot at 0x7ff59cfe0150>"
      ]
     },
     "execution_count": 100,
     "metadata": {},
     "output_type": "execute_result"
    },
    {
     "data": {
      "image/png": "[encoded data removed]",
      "text/plain": [
       "<Figure size 432x288 with 1 Axes>"
      ]
     },
     "metadata": {
      "needs_background": "light"
     },
     "output_type": "display_data"
    }
   ],
   "source": [
    "der_df.iloc[:,1].hist()"
   ]
  },
  {
   "cell_type": "code",
   "execution_count": 101,
   "metadata": {},
   "outputs": [],
   "source": [
    "#der_df = der_df.loc[der_df.iloc[:,1]>3,:]\n",
    "# Calculate the percentage of rxns in a pathway\n",
    "for i in range(der_df.shape[0]):\n",
    "    pathway = der_df.iloc[i,0]\n",
    "    rxns_count = int(pathway_df_unq.loc[pathway,:].values)\n",
    "    der_df.iloc[i,1] = der_df.iloc[i,1]/rxns_count"
   ]
  },
  {
   "cell_type": "code",
   "execution_count": 102,
   "metadata": {},
   "outputs": [
    {
     "data": {
      "text/plain": [
       "(38, 3)"
      ]
     },
     "execution_count": 102,
     "metadata": {},
     "output_type": "execute_result"
    }
   ],
   "source": [
    "der_df.shape"
   ]
  },
  {
   "cell_type": "code",
   "execution_count": 103,
   "metadata": {},
   "outputs": [],
   "source": [
    "#der_df = der_df.loc[der_df.iloc[:,1]>0.05,der_df.iloc[:,2]>0.05)"
   ]
  },
  {
   "cell_type": "code",
   "execution_count": 104,
   "metadata": {},
   "outputs": [
    {
     "data": {
      "text/plain": [
       "(38, 3)"
      ]
     },
     "execution_count": 104,
     "metadata": {},
     "output_type": "execute_result"
    }
   ],
   "source": [
    "der_df.shape"
   ]
  },
  {
   "cell_type": "code",
   "execution_count": 105,
   "metadata": {},
   "outputs": [],
   "source": [
    "der_T = der_df.pivot_table(values='NB',index='Pathway', columns='Phenotype',aggfunc='mean',fill_value=None,dropna=False)\n",
    "der_T = der_T.fillna(0)\n"
   ]
  },
  {
   "cell_type": "code",
   "execution_count": 106,
   "metadata": {},
   "outputs": [
    {
     "data": {
      "text/html": [
       "<div>\n",
       "<style scoped>\n",
       "    .dataframe tbody tr th:only-of-type {\n",
       "        vertical-align: middle;\n",
       "    }\n",
       "\n",
       "    .dataframe tbody tr th {\n",
       "        vertical-align: top;\n",
       "    }\n",
       "\n",
       "    .dataframe thead th {\n",
       "        text-align: right;\n",
       "    }\n",
       "</style>\n",
       "<table border=\"1\" class=\"dataframe\">\n",
       "  <thead>\n",
       "    <tr style=\"text-align: right;\">\n",
       "      <th>Phenotype</th>\n",
       "      <th>S1</th>\n",
       "      <th>S16</th>\n",
       "      <th>S2</th>\n",
       "      <th>S5</th>\n",
       "      <th>S6</th>\n",
       "      <th>S7</th>\n",
       "    </tr>\n",
       "    <tr>\n",
       "      <th>Pathway</th>\n",
       "      <th></th>\n",
       "      <th></th>\n",
       "      <th></th>\n",
       "      <th></th>\n",
       "      <th></th>\n",
       "      <th></th>\n",
       "    </tr>\n",
       "  </thead>\n",
       "  <tbody>\n",
       "    <tr>\n",
       "      <th>Alanine and aspartate metabolism</th>\n",
       "      <td>0.000000</td>\n",
       "      <td>0.000000</td>\n",
       "      <td>0.000000</td>\n",
       "      <td>0.000000</td>\n",
       "      <td>0.076923</td>\n",
       "      <td>0.000000</td>\n",
       "    </tr>\n",
       "    <tr>\n",
       "      <th>Fatty acid oxidation</th>\n",
       "      <td>0.002081</td>\n",
       "      <td>0.000000</td>\n",
       "      <td>0.000000</td>\n",
       "      <td>0.000000</td>\n",
       "      <td>0.002081</td>\n",
       "      <td>0.002081</td>\n",
       "    </tr>\n",
       "    <tr>\n",
       "      <th>Folate metabolism</th>\n",
       "      <td>0.000000</td>\n",
       "      <td>0.000000</td>\n",
       "      <td>0.000000</td>\n",
       "      <td>0.000000</td>\n",
       "      <td>0.101695</td>\n",
       "      <td>0.000000</td>\n",
       "    </tr>\n",
       "    <tr>\n",
       "      <th>Glycerophospholipid metabolism</th>\n",
       "      <td>0.115152</td>\n",
       "      <td>0.115152</td>\n",
       "      <td>0.109091</td>\n",
       "      <td>0.109091</td>\n",
       "      <td>0.109091</td>\n",
       "      <td>0.109091</td>\n",
       "    </tr>\n",
       "    <tr>\n",
       "      <th>Glycine, serine, alanine, and threonine metabolism</th>\n",
       "      <td>0.000000</td>\n",
       "      <td>0.000000</td>\n",
       "      <td>0.000000</td>\n",
       "      <td>0.000000</td>\n",
       "      <td>0.042553</td>\n",
       "      <td>0.000000</td>\n",
       "    </tr>\n",
       "    <tr>\n",
       "      <th>Inositol phosphate metabolism</th>\n",
       "      <td>0.000000</td>\n",
       "      <td>0.000000</td>\n",
       "      <td>0.030769</td>\n",
       "      <td>0.030769</td>\n",
       "      <td>0.000000</td>\n",
       "      <td>0.000000</td>\n",
       "    </tr>\n",
       "    <tr>\n",
       "      <th>Methionine and cysteine metabolism</th>\n",
       "      <td>0.065217</td>\n",
       "      <td>0.065217</td>\n",
       "      <td>0.000000</td>\n",
       "      <td>0.000000</td>\n",
       "      <td>0.000000</td>\n",
       "      <td>0.000000</td>\n",
       "    </tr>\n",
       "    <tr>\n",
       "      <th>Nucleotide interconversion</th>\n",
       "      <td>0.256098</td>\n",
       "      <td>0.256098</td>\n",
       "      <td>0.000000</td>\n",
       "      <td>0.030488</td>\n",
       "      <td>0.018293</td>\n",
       "      <td>0.256098</td>\n",
       "    </tr>\n",
       "    <tr>\n",
       "      <th>Pyrimidine synthesis</th>\n",
       "      <td>0.000000</td>\n",
       "      <td>0.000000</td>\n",
       "      <td>0.000000</td>\n",
       "      <td>0.047619</td>\n",
       "      <td>0.000000</td>\n",
       "      <td>0.000000</td>\n",
       "    </tr>\n",
       "    <tr>\n",
       "      <th>Sphingolipid metabolism</th>\n",
       "      <td>0.015038</td>\n",
       "      <td>0.015038</td>\n",
       "      <td>0.015038</td>\n",
       "      <td>0.015038</td>\n",
       "      <td>0.015038</td>\n",
       "      <td>0.015038</td>\n",
       "    </tr>\n",
       "    <tr>\n",
       "      <th>Starch and sucrose metabolism</th>\n",
       "      <td>0.095238</td>\n",
       "      <td>0.095238</td>\n",
       "      <td>0.047619</td>\n",
       "      <td>0.047619</td>\n",
       "      <td>0.000000</td>\n",
       "      <td>0.000000</td>\n",
       "    </tr>\n",
       "    <tr>\n",
       "      <th>Transport, extracellular</th>\n",
       "      <td>0.050528</td>\n",
       "      <td>0.036199</td>\n",
       "      <td>0.010558</td>\n",
       "      <td>0.011312</td>\n",
       "      <td>0.016214</td>\n",
       "      <td>0.016214</td>\n",
       "    </tr>\n",
       "  </tbody>\n",
       "</table>\n",
       "</div>"
      ],
      "text/plain": [
       "Phenotype                                                 S1       S16  \\\n",
       "Pathway                                                                  \n",
       "Alanine and aspartate metabolism                    0.000000  0.000000   \n",
       "Fatty acid oxidation                                0.002081  0.000000   \n",
       "Folate metabolism                                   0.000000  0.000000   \n",
       "Glycerophospholipid metabolism                      0.115152  0.115152   \n",
       "Glycine, serine, alanine, and threonine metabolism  0.000000  0.000000   \n",
       "Inositol phosphate metabolism                       0.000000  0.000000   \n",
       "Methionine and cysteine metabolism                  0.065217  0.065217   \n",
       "Nucleotide interconversion                          0.256098  0.256098   \n",
       "Pyrimidine synthesis                                0.000000  0.000000   \n",
       "Sphingolipid metabolism                             0.015038  0.015038   \n",
       "Starch and sucrose metabolism                       0.095238  0.095238   \n",
       "Transport, extracellular                            0.050528  0.036199   \n",
       "\n",
       "Phenotype                                                 S2        S5  \\\n",
       "Pathway                                                                  \n",
       "Alanine and aspartate metabolism                    0.000000  0.000000   \n",
       "Fatty acid oxidation                                0.000000  0.000000   \n",
       "Folate metabolism                                   0.000000  0.000000   \n",
       "Glycerophospholipid metabolism                      0.109091  0.109091   \n",
       "Glycine, serine, alanine, and threonine metabolism  0.000000  0.000000   \n",
       "Inositol phosphate metabolism                       0.030769  0.030769   \n",
       "Methionine and cysteine metabolism                  0.000000  0.000000   \n",
       "Nucleotide interconversion                          0.000000  0.030488   \n",
       "Pyrimidine synthesis                                0.000000  0.047619   \n",
       "Sphingolipid metabolism                             0.015038  0.015038   \n",
       "Starch and sucrose metabolism                       0.047619  0.047619   \n",
       "Transport, extracellular                            0.010558  0.011312   \n",
       "\n",
       "Phenotype                                                 S6        S7  \n",
       "Pathway                                                                 \n",
       "Alanine and aspartate metabolism                    0.076923  0.000000  \n",
       "Fatty acid oxidation                                0.002081  0.002081  \n",
       "Folate metabolism                                   0.101695  0.000000  \n",
       "Glycerophospholipid metabolism                      0.109091  0.109091  \n",
       "Glycine, serine, alanine, and threonine metabolism  0.042553  0.000000  \n",
       "Inositol phosphate metabolism                       0.000000  0.000000  \n",
       "Methionine and cysteine metabolism                  0.000000  0.000000  \n",
       "Nucleotide interconversion                          0.018293  0.256098  \n",
       "Pyrimidine synthesis                                0.000000  0.000000  \n",
       "Sphingolipid metabolism                             0.015038  0.015038  \n",
       "Starch and sucrose metabolism                       0.000000  0.000000  \n",
       "Transport, extracellular                            0.016214  0.016214  "
      ]
     },
     "execution_count": 106,
     "metadata": {},
     "output_type": "execute_result"
    }
   ],
   "source": [
    "der_T"
   ]
  },
  {
   "cell_type": "code",
   "execution_count": 107,
   "metadata": {},
   "outputs": [
    {
     "data": {
      "text/plain": [
       "Index(['S1', 'S16', 'S2', 'S5', 'S6', 'S7'], dtype='object', name='Phenotype')"
      ]
     },
     "execution_count": 107,
     "metadata": {},
     "output_type": "execute_result"
    }
   ],
   "source": [
    "der_T.columns"
   ]
  },
  {
   "cell_type": "code",
   "execution_count": 108,
   "metadata": {},
   "outputs": [],
   "source": [
    "der_T_1 = der_T.loc[:,['S2', 'S6', 'S5', 'S16', 'S1', 'S7']]"
   ]
  },
  {
   "cell_type": "code",
   "execution_count": 109,
   "metadata": {},
   "outputs": [],
   "source": [
    "der_T_1.columns = ['A549_0.02', 'A549_0.2_ACE2',  'A549_2','A549_2_ACE2','NHBE_2','Calu3_2']"
   ]
  },
  {
   "cell_type": "code",
   "execution_count": 110,
   "metadata": {},
   "outputs": [],
   "source": [
    "lung1_pathways = der_T_1.index.tolist()"
   ]
  },
  {
   "cell_type": "code",
   "execution_count": 111,
   "metadata": {},
   "outputs": [
    {
     "data": {
      "text/plain": [
       "['Alanine and aspartate metabolism',\n",
       " 'Fatty acid oxidation',\n",
       " 'Folate metabolism',\n",
       " 'Glycerophospholipid metabolism',\n",
       " 'Glycine, serine, alanine, and threonine metabolism',\n",
       " 'Inositol phosphate metabolism',\n",
       " 'Methionine and cysteine metabolism',\n",
       " 'Nucleotide interconversion',\n",
       " 'Pyrimidine synthesis',\n",
       " 'Sphingolipid metabolism',\n",
       " 'Starch and sucrose metabolism',\n",
       " 'Transport, extracellular']"
      ]
     },
     "execution_count": 111,
     "metadata": {},
     "output_type": "execute_result"
    }
   ],
   "source": [
    "lung1_pathways"
   ]
  },
  {
   "cell_type": "code",
   "execution_count": 112,
   "metadata": {},
   "outputs": [
    {
     "data": {
      "image/png": "[encoded data removed]",
      "text/plain": [
       "<Figure size 720x720 with 4 Axes>"
      ]
     },
     "metadata": {
      "needs_background": "light"
     },
     "output_type": "display_data"
    }
   ],
   "source": [
    "g = sns.clustermap(der_T_1,\n",
    "                   col_cluster=False,\n",
    "                   row_cluster=True,\n",
    "                   mask=False,\n",
    "                   #standard_scale=0,\n",
    "                   yticklabels=True,\n",
    "                   cmap=\"Blues\",\n",
    "                   #square=True,\n",
    "                   #figsize=(12,(.3*(len(enrich_coverage_all.index))))\n",
    "                  )\n",
    "g.cax.set_visible(False)\n",
    "g.ax_row_dendrogram.set_visible(False)\n",
    "g.ax_col_dendrogram.set_visible(False)\n",
    "g.ax_heatmap.set_xticklabels(g.ax_heatmap.get_xmajorticklabels(), fontsize = 11, rotation=0)\n",
    "g.ax_heatmap.set_yticklabels(g.ax_heatmap.get_ymajorticklabels(), fontsize = 14, rotation=0)\n",
    "#g.savefig('output_summ/SKO_Metabolic_Pathways.svg', dpi=400,bbox_inches='tight')\n",
    "g.savefig('Figs/SKO_Lung_1_Metabolic_Pathways.svg', dpi=400,bbox_inches='tight')"
   ]
  },
  {
   "cell_type": "code",
   "execution_count": 113,
   "metadata": {},
   "outputs": [],
   "source": [
    "#der_T.to_csv('output_summ/Differentially_Expressed_Reactions_Up.csv')"
   ]
  },
  {
   "cell_type": "markdown",
   "metadata": {},
   "source": [
    "### Lung study 2"
   ]
  },
  {
   "cell_type": "code",
   "execution_count": 114,
   "metadata": {
    "scrolled": true
   },
   "outputs": [
    {
     "data": {
      "text/html": [
       "<div>\n",
       "<style scoped>\n",
       "    .dataframe tbody tr th:only-of-type {\n",
       "        vertical-align: middle;\n",
       "    }\n",
       "\n",
       "    .dataframe tbody tr th {\n",
       "        vertical-align: top;\n",
       "    }\n",
       "\n",
       "    .dataframe thead th {\n",
       "        text-align: right;\n",
       "    }\n",
       "</style>\n",
       "<table border=\"1\" class=\"dataframe\">\n",
       "  <thead>\n",
       "    <tr style=\"text-align: right;\">\n",
       "      <th></th>\n",
       "      <th>Pathway</th>\n",
       "      <th>NB</th>\n",
       "      <th>Phenotype</th>\n",
       "    </tr>\n",
       "  </thead>\n",
       "  <tbody>\n",
       "    <tr>\n",
       "      <th>0</th>\n",
       "      <td>Fatty acid oxidation</td>\n",
       "      <td>2</td>\n",
       "      <td>Calu3_12h</td>\n",
       "    </tr>\n",
       "    <tr>\n",
       "      <th>1</th>\n",
       "      <td>Glycerophospholipid metabolism</td>\n",
       "      <td>18</td>\n",
       "      <td>Calu3_12h</td>\n",
       "    </tr>\n",
       "    <tr>\n",
       "      <th>2</th>\n",
       "      <td>Inositol phosphate metabolism</td>\n",
       "      <td>2</td>\n",
       "      <td>Calu3_12h</td>\n",
       "    </tr>\n",
       "    <tr>\n",
       "      <th>3</th>\n",
       "      <td>Nucleotide interconversion</td>\n",
       "      <td>2</td>\n",
       "      <td>Calu3_12h</td>\n",
       "    </tr>\n",
       "    <tr>\n",
       "      <th>4</th>\n",
       "      <td>Sphingolipid metabolism</td>\n",
       "      <td>2</td>\n",
       "      <td>Calu3_12h</td>\n",
       "    </tr>\n",
       "  </tbody>\n",
       "</table>\n",
       "</div>"
      ],
      "text/plain": [
       "                          Pathway  NB  Phenotype\n",
       "0            Fatty acid oxidation   2  Calu3_12h\n",
       "1  Glycerophospholipid metabolism  18  Calu3_12h\n",
       "2   Inositol phosphate metabolism   2  Calu3_12h\n",
       "3      Nucleotide interconversion   2  Calu3_12h\n",
       "4         Sphingolipid metabolism   2  Calu3_12h"
      ]
     },
     "execution_count": 114,
     "metadata": {},
     "output_type": "execute_result"
    }
   ],
   "source": [
    "der_df = pd.read_csv('KO_data/timeseries_RECON_SKO_Pathways.csv')\n",
    "#der_df.Phenotype= der_df.Phenotype.str.replace('s','Series')\n",
    "der_df.head()"
   ]
  },
  {
   "cell_type": "code",
   "execution_count": 115,
   "metadata": {},
   "outputs": [
    {
     "data": {
      "text/plain": [
       "(55, 3)"
      ]
     },
     "execution_count": 115,
     "metadata": {},
     "output_type": "execute_result"
    }
   ],
   "source": [
    "der_df.shape"
   ]
  },
  {
   "cell_type": "markdown",
   "metadata": {},
   "source": [
    "#Calculate the percentage of rxns in a pathway\n",
    "for i in range(der_df.shape[0]):\n",
    "    pathway = der_df.iloc[i,0]\n",
    "    rxns_count = int(pathway_df_unq.loc[pathway,:].values)\n",
    "    der_df.iloc[i,1] = der_df.iloc[i,1]/rxns_count\n",
    "    der_df.iloc[i,2] = der_df.iloc[i,2]/rxns_count\n",
    "der_df.head()"
   ]
  },
  {
   "cell_type": "code",
   "execution_count": 116,
   "metadata": {},
   "outputs": [
    {
     "data": {
      "text/plain": [
       "<matplotlib.axes._subplots.AxesSubplot at 0x7ff59ea08650>"
      ]
     },
     "execution_count": 116,
     "metadata": {},
     "output_type": "execute_result"
    },
    {
     "data": {
      "image/png": "[encoded data removed]",
      "text/plain": [
       "<Figure size 432x288 with 1 Axes>"
      ]
     },
     "metadata": {
      "needs_background": "light"
     },
     "output_type": "display_data"
    }
   ],
   "source": [
    "der_df.iloc[:,1].hist()"
   ]
  },
  {
   "cell_type": "code",
   "execution_count": 117,
   "metadata": {},
   "outputs": [],
   "source": [
    "# Calculate the percentage of rxns in a pathway\n",
    "for i in range(der_df.shape[0]):\n",
    "    pathway = der_df.iloc[i,0]\n",
    "    rxns_count = int(pathway_df_unq.loc[pathway,:].values)\n",
    "    der_df.iloc[i,1] = der_df.iloc[i,1]/rxns_count"
   ]
  },
  {
   "cell_type": "code",
   "execution_count": 118,
   "metadata": {},
   "outputs": [
    {
     "data": {
      "text/plain": [
       "(55, 3)"
      ]
     },
     "execution_count": 118,
     "metadata": {},
     "output_type": "execute_result"
    }
   ],
   "source": [
    "der_df.shape"
   ]
  },
  {
   "cell_type": "code",
   "execution_count": 119,
   "metadata": {},
   "outputs": [],
   "source": [
    "#der_df = der_df.loc[der_df.iloc[:,1]>0.05,der_df.iloc[:,2]>0.05)"
   ]
  },
  {
   "cell_type": "code",
   "execution_count": 120,
   "metadata": {},
   "outputs": [],
   "source": [
    "der_T = der_df.pivot_table(values='NB',index='Pathway', columns='Phenotype',aggfunc='mean',fill_value=None,dropna=False)\n",
    "der_T = der_T.fillna(0)\n",
    "der_T_2  =der_T.loc[:,['Calu3_4h', 'Calu3_8h','Calu3_12h', 'Calu3_24h', 'H1299_4h',  'H1299_12h','H1299_24h', 'H1299_36h']]"
   ]
  },
  {
   "cell_type": "code",
   "execution_count": 121,
   "metadata": {},
   "outputs": [],
   "source": [
    "lung2_pathways = der_T_2.index.tolist()"
   ]
  },
  {
   "cell_type": "code",
   "execution_count": 122,
   "metadata": {},
   "outputs": [
    {
     "data": {
      "text/html": [
       "<div>\n",
       "<style scoped>\n",
       "    .dataframe tbody tr th:only-of-type {\n",
       "        vertical-align: middle;\n",
       "    }\n",
       "\n",
       "    .dataframe tbody tr th {\n",
       "        vertical-align: top;\n",
       "    }\n",
       "\n",
       "    .dataframe thead th {\n",
       "        text-align: right;\n",
       "    }\n",
       "</style>\n",
       "<table border=\"1\" class=\"dataframe\">\n",
       "  <thead>\n",
       "    <tr style=\"text-align: right;\">\n",
       "      <th>Phenotype</th>\n",
       "      <th>Calu3_4h</th>\n",
       "      <th>Calu3_8h</th>\n",
       "      <th>Calu3_12h</th>\n",
       "      <th>Calu3_24h</th>\n",
       "      <th>H1299_4h</th>\n",
       "      <th>H1299_12h</th>\n",
       "      <th>H1299_24h</th>\n",
       "      <th>H1299_36h</th>\n",
       "    </tr>\n",
       "    <tr>\n",
       "      <th>Pathway</th>\n",
       "      <th></th>\n",
       "      <th></th>\n",
       "      <th></th>\n",
       "      <th></th>\n",
       "      <th></th>\n",
       "      <th></th>\n",
       "      <th></th>\n",
       "      <th></th>\n",
       "    </tr>\n",
       "  </thead>\n",
       "  <tbody>\n",
       "    <tr>\n",
       "      <th>Fatty acid oxidation</th>\n",
       "      <td>0.002081</td>\n",
       "      <td>0.002081</td>\n",
       "      <td>0.002081</td>\n",
       "      <td>0.002081</td>\n",
       "      <td>0.002081</td>\n",
       "      <td>0.002081</td>\n",
       "      <td>0.002081</td>\n",
       "      <td>0.002081</td>\n",
       "    </tr>\n",
       "    <tr>\n",
       "      <th>Glycerophospholipid metabolism</th>\n",
       "      <td>0.109091</td>\n",
       "      <td>0.109091</td>\n",
       "      <td>0.109091</td>\n",
       "      <td>0.115152</td>\n",
       "      <td>0.218182</td>\n",
       "      <td>0.218182</td>\n",
       "      <td>0.218182</td>\n",
       "      <td>0.218182</td>\n",
       "    </tr>\n",
       "  </tbody>\n",
       "</table>\n",
       "</div>"
      ],
      "text/plain": [
       "Phenotype                       Calu3_4h  Calu3_8h  Calu3_12h  Calu3_24h  \\\n",
       "Pathway                                                                    \n",
       "Fatty acid oxidation            0.002081  0.002081   0.002081   0.002081   \n",
       "Glycerophospholipid metabolism  0.109091  0.109091   0.109091   0.115152   \n",
       "\n",
       "Phenotype                       H1299_4h  H1299_12h  H1299_24h  H1299_36h  \n",
       "Pathway                                                                    \n",
       "Fatty acid oxidation            0.002081   0.002081   0.002081   0.002081  \n",
       "Glycerophospholipid metabolism  0.218182   0.218182   0.218182   0.218182  "
      ]
     },
     "execution_count": 122,
     "metadata": {},
     "output_type": "execute_result"
    }
   ],
   "source": [
    "der_T_2.head(2)"
   ]
  },
  {
   "cell_type": "code",
   "execution_count": 123,
   "metadata": {},
   "outputs": [
    {
     "data": {
      "image/png": "[encoded data removed]",
      "text/plain": [
       "<Figure size 720x720 with 4 Axes>"
      ]
     },
     "metadata": {
      "needs_background": "light"
     },
     "output_type": "display_data"
    }
   ],
   "source": [
    "g = sns.clustermap(der_T_2,\n",
    "                   col_cluster=False,\n",
    "                   row_cluster=True,\n",
    "                   mask=False,\n",
    "                   #standard_scale=0,\n",
    "                   yticklabels=True,\n",
    "                   cmap=\"Blues\",\n",
    "                   #square=True,\n",
    "                   #figsize=(12,(.3*(len(enrich_coverage_all.index))))\n",
    "                  )\n",
    "g.cax.set_visible(False)\n",
    "g.ax_row_dendrogram.set_visible(False)\n",
    "g.ax_heatmap.set_xticklabels(g.ax_heatmap.get_xmajorticklabels(), fontsize = 12, rotation=45)\n",
    "g.ax_heatmap.set_yticklabels(g.ax_heatmap.get_ymajorticklabels(), fontsize = 14, rotation=0)\n",
    "\n",
    "g.ax_col_dendrogram.set_visible(False)\n",
    "#g.savefig('output_summ_/SKO_Metabolic_Pathways.png', dpi=400,bbox_inches='tight')\n",
    "g.savefig('Figs/SKO_Lung_2_Metabolic_Pathways.svg', dpi=400,bbox_inches='tight')"
   ]
  },
  {
   "cell_type": "code",
   "execution_count": 124,
   "metadata": {},
   "outputs": [],
   "source": [
    "#der_T_2.to_csv('output_summ_/Differentially_Expressed_Reactions_Up.csv')"
   ]
  },
  {
   "cell_type": "code",
   "execution_count": 125,
   "metadata": {},
   "outputs": [],
   "source": [
    "# Merge DER from the 2 studies\n",
    "der_T = pd.concat([der_T_1, der_T_2], axis=1, join=\"outer\")\n",
    "der_T = der_T.fillna(0)"
   ]
  },
  {
   "cell_type": "code",
   "execution_count": 126,
   "metadata": {},
   "outputs": [
    {
     "data": {
      "text/plain": [
       "Index(['Glycerophospholipid metabolism', 'Transport, extracellular',\n",
       "       'Nucleotide interconversion', 'Starch and sucrose metabolism',\n",
       "       'Methionine and cysteine metabolism', 'Inositol phosphate metabolism',\n",
       "       'Sphingolipid metabolism', 'Folate metabolism',\n",
       "       'Phosphatidylinositol phosphate metabolism',\n",
       "       'Alanine and aspartate metabolism', 'Pyrimidine synthesis',\n",
       "       'Glycine, serine, alanine, and threonine metabolism',\n",
       "       'Fatty acid oxidation'],\n",
       "      dtype='object')"
      ]
     },
     "execution_count": 126,
     "metadata": {},
     "output_type": "execute_result"
    }
   ],
   "source": [
    "der_T.mean(axis=1).sort_values(ascending=False).index"
   ]
  },
  {
   "cell_type": "code",
   "execution_count": 127,
   "metadata": {},
   "outputs": [
    {
     "data": {
      "image/png": "[encoded data removed]",
      "text/plain": [
       "<Figure size 1080x468 with 4 Axes>"
      ]
     },
     "metadata": {
      "needs_background": "light"
     },
     "output_type": "display_data"
    }
   ],
   "source": [
    "g = sns.clustermap(der_T*100,col_cluster=False, row_cluster=True,mask=False,\n",
    "                   annot_kws={'fontsize':'x-large'},\n",
    "                   #standard_scale=0,yticklabels=True,#square=True,\n",
    "                   cmap=\"Blues\",\n",
    "                   cbar_kws={'label':'Reactions per Pathway [%]'},#,\"orientation\": \"horizontal\"},\n",
    "                   cbar_pos=(0.1, .6, .02, .2),\n",
    "                   figsize=(15,(0.5*(len(der_T.index)))))\n",
    "#g.cax.set_visible(True)\n",
    "g.ax_row_dendrogram.set_visible(False)\n",
    "g.ax_heatmap.set_xticklabels(g.ax_heatmap.get_xmajorticklabels(), fontsize = 15, rotation=75)\n",
    "g.ax_heatmap.set_yticklabels(g.ax_heatmap.get_ymajorticklabels(), fontsize = 15, rotation=0)\n",
    "plt.setp(g.ax_heatmap.get_xticklabels(), rotation=90)\n",
    "g.ax_heatmap.axvline(6, 0, 1, linewidth=15, c='grey')\n",
    "#g.ax_col_dendrogram.set_visible(False)\n",
    "g1 = g\n",
    "g.savefig('Figs/SKO_Metabolic_Pathways.svg', dpi=400,bbox_inches='tight')\n",
    "g.savefig('Figs/SKO_Metabolic_Pathways.png', dpi=400,bbox_inches='tight')"
   ]
  },
  {
   "cell_type": "code",
   "execution_count": 128,
   "metadata": {},
   "outputs": [
    {
     "data": {
      "text/html": [
       "<div>\n",
       "<style scoped>\n",
       "    .dataframe tbody tr th:only-of-type {\n",
       "        vertical-align: middle;\n",
       "    }\n",
       "\n",
       "    .dataframe tbody tr th {\n",
       "        vertical-align: top;\n",
       "    }\n",
       "\n",
       "    .dataframe thead th {\n",
       "        text-align: right;\n",
       "    }\n",
       "</style>\n",
       "<table border=\"1\" class=\"dataframe\">\n",
       "  <thead>\n",
       "    <tr style=\"text-align: right;\">\n",
       "      <th></th>\n",
       "      <th>A549_0.02</th>\n",
       "      <th>A549_0.2_ACE2</th>\n",
       "      <th>A549_2</th>\n",
       "      <th>A549_2_ACE2</th>\n",
       "      <th>NHBE_2</th>\n",
       "      <th>Calu3_2</th>\n",
       "      <th>CALU3_4H</th>\n",
       "      <th>CALU3_8H</th>\n",
       "      <th>CALU3_12H</th>\n",
       "      <th>CALU3_24H</th>\n",
       "      <th>H1299_4H</th>\n",
       "      <th>H1299_12H</th>\n",
       "      <th>H1299_24H</th>\n",
       "      <th>H1299_36H</th>\n",
       "    </tr>\n",
       "  </thead>\n",
       "  <tbody>\n",
       "    <tr>\n",
       "      <th>Pyrimidine metabolism</th>\n",
       "      <td>0.000000</td>\n",
       "      <td>0.017544</td>\n",
       "      <td>0.017544</td>\n",
       "      <td>0.017544</td>\n",
       "      <td>0.017544</td>\n",
       "      <td>0.017544</td>\n",
       "      <td>0.00</td>\n",
       "      <td>0.000</td>\n",
       "      <td>0.00</td>\n",
       "      <td>0.000</td>\n",
       "      <td>0.000</td>\n",
       "      <td>0.000</td>\n",
       "      <td>0.0</td>\n",
       "      <td>0.000</td>\n",
       "    </tr>\n",
       "    <tr>\n",
       "      <th>Protein digestion and absorption</th>\n",
       "      <td>0.011111</td>\n",
       "      <td>0.000000</td>\n",
       "      <td>0.011111</td>\n",
       "      <td>0.022222</td>\n",
       "      <td>0.022222</td>\n",
       "      <td>0.000000</td>\n",
       "      <td>0.00</td>\n",
       "      <td>0.000</td>\n",
       "      <td>0.00</td>\n",
       "      <td>0.000</td>\n",
       "      <td>0.000</td>\n",
       "      <td>0.000</td>\n",
       "      <td>0.0</td>\n",
       "      <td>0.000</td>\n",
       "    </tr>\n",
       "    <tr>\n",
       "      <th>One carbon pool by folate</th>\n",
       "      <td>0.000000</td>\n",
       "      <td>0.100000</td>\n",
       "      <td>0.000000</td>\n",
       "      <td>0.000000</td>\n",
       "      <td>0.000000</td>\n",
       "      <td>0.000000</td>\n",
       "      <td>0.00</td>\n",
       "      <td>0.000</td>\n",
       "      <td>0.00</td>\n",
       "      <td>0.000</td>\n",
       "      <td>0.000</td>\n",
       "      <td>0.000</td>\n",
       "      <td>0.0</td>\n",
       "      <td>0.000</td>\n",
       "    </tr>\n",
       "    <tr>\n",
       "      <th>Glycine, serine and threonine metabolism</th>\n",
       "      <td>0.000000</td>\n",
       "      <td>0.025000</td>\n",
       "      <td>0.000000</td>\n",
       "      <td>0.025000</td>\n",
       "      <td>0.025000</td>\n",
       "      <td>0.000000</td>\n",
       "      <td>0.00</td>\n",
       "      <td>0.000</td>\n",
       "      <td>0.00</td>\n",
       "      <td>0.000</td>\n",
       "      <td>0.025</td>\n",
       "      <td>0.025</td>\n",
       "      <td>0.0</td>\n",
       "      <td>0.025</td>\n",
       "    </tr>\n",
       "    <tr>\n",
       "      <th>Ferroptosis</th>\n",
       "      <td>0.050000</td>\n",
       "      <td>0.000000</td>\n",
       "      <td>0.050000</td>\n",
       "      <td>0.000000</td>\n",
       "      <td>0.000000</td>\n",
       "      <td>0.000000</td>\n",
       "      <td>0.05</td>\n",
       "      <td>0.025</td>\n",
       "      <td>0.05</td>\n",
       "      <td>0.025</td>\n",
       "      <td>0.000</td>\n",
       "      <td>0.000</td>\n",
       "      <td>0.0</td>\n",
       "      <td>0.000</td>\n",
       "    </tr>\n",
       "  </tbody>\n",
       "</table>\n",
       "</div>"
      ],
      "text/plain": [
       "                                          A549_0.02  A549_0.2_ACE2    A549_2  \\\n",
       "Pyrimidine metabolism                      0.000000       0.017544  0.017544   \n",
       "Protein digestion and absorption           0.011111       0.000000  0.011111   \n",
       "One carbon pool by folate                  0.000000       0.100000  0.000000   \n",
       "Glycine, serine and threonine metabolism   0.000000       0.025000  0.000000   \n",
       "Ferroptosis                                0.050000       0.000000  0.050000   \n",
       "\n",
       "                                          A549_2_ACE2    NHBE_2   Calu3_2  \\\n",
       "Pyrimidine metabolism                        0.017544  0.017544  0.017544   \n",
       "Protein digestion and absorption             0.022222  0.022222  0.000000   \n",
       "One carbon pool by folate                    0.000000  0.000000  0.000000   \n",
       "Glycine, serine and threonine metabolism     0.025000  0.025000  0.000000   \n",
       "Ferroptosis                                  0.000000  0.000000  0.000000   \n",
       "\n",
       "                                          CALU3_4H  CALU3_8H  CALU3_12H  \\\n",
       "Pyrimidine metabolism                         0.00     0.000       0.00   \n",
       "Protein digestion and absorption              0.00     0.000       0.00   \n",
       "One carbon pool by folate                     0.00     0.000       0.00   \n",
       "Glycine, serine and threonine metabolism      0.00     0.000       0.00   \n",
       "Ferroptosis                                   0.05     0.025       0.05   \n",
       "\n",
       "                                          CALU3_24H  H1299_4H  H1299_12H  \\\n",
       "Pyrimidine metabolism                         0.000     0.000      0.000   \n",
       "Protein digestion and absorption              0.000     0.000      0.000   \n",
       "One carbon pool by folate                     0.000     0.000      0.000   \n",
       "Glycine, serine and threonine metabolism      0.000     0.025      0.025   \n",
       "Ferroptosis                                   0.025     0.000      0.000   \n",
       "\n",
       "                                          H1299_24H  H1299_36H  \n",
       "Pyrimidine metabolism                           0.0      0.000  \n",
       "Protein digestion and absorption                0.0      0.000  \n",
       "One carbon pool by folate                       0.0      0.000  \n",
       "Glycine, serine and threonine metabolism        0.0      0.025  \n",
       "Ferroptosis                                     0.0      0.000  "
      ]
     },
     "execution_count": 128,
     "metadata": {},
     "output_type": "execute_result"
    }
   ],
   "source": [
    "# Read Enrichr pathways to make it in 1 fig\n",
    "enrichr1 = pd.read_csv('figs/Lung1_Kegg.csv')\n",
    "enrichr1.index = enrichr1.Term\n",
    "enrichr1 = enrichr1.iloc[:,[5,6,7,8,9,10]]\n",
    "enrichr2 = pd.read_csv('figs/Lung2_Kegg.csv')\n",
    "enrichr2.index = enrichr2.Term\n",
    "enrichr2 = enrichr2.iloc[:,[5,6,7,8,9,10,11,12]]\n",
    "enrichr = pd.concat([enrichr1, enrichr2], axis=1, join=\"outer\")\n",
    "enrichr = enrichr.fillna(0)\n",
    "enrichr.head()"
   ]
  },
  {
   "cell_type": "code",
   "execution_count": 129,
   "metadata": {},
   "outputs": [],
   "source": [
    "enrichr.columns = der_T.columns"
   ]
  },
  {
   "cell_type": "code",
   "execution_count": 130,
   "metadata": {},
   "outputs": [
    {
     "data": {
      "image/png": "[encoded data removed]",
      "text/plain": [
       "<Figure size 1080x612 with 4 Axes>"
      ]
     },
     "metadata": {
      "needs_background": "light"
     },
     "output_type": "display_data"
    }
   ],
   "source": [
    "g = sns.clustermap(enrichr*100,col_cluster=False, row_cluster=True,mask=False,\n",
    "                   annot_kws={'fontsize':'x-large'},\n",
    "                   #standard_scale=0,yticklabels=True,#square=True,\n",
    "                   cmap=\"Blues\",\n",
    "                   cbar_kws={'label':'Enrichment [%]'},#,\"orientation\": \"horizontal\"},\n",
    "                   cbar_pos=(0.1, .6, .02, .2),\n",
    "                   figsize=(15,(0.5*(len(enrichr.index)))))\n",
    "#g.cax.set_visible(True)\n",
    "g.ax_row_dendrogram.set_visible(False)\n",
    "g.ax_heatmap.set_xticklabels(g.ax_heatmap.get_xmajorticklabels(), fontsize = 15, rotation=75)\n",
    "g.ax_heatmap.set_yticklabels(g.ax_heatmap.get_ymajorticklabels(), fontsize = 15, rotation=0)\n",
    "plt.setp(g.ax_heatmap.get_xticklabels(), rotation=90)\n",
    "g.ax_heatmap.axvline(6, 0, 1, linewidth=15, c='grey')\n",
    "#g.ax_col_dendrogram.set_visible(False)\n",
    "g.savefig('Figs/SKO_Enrichr_Pathways.svg', dpi=400,bbox_inches='tight')\n",
    "g.savefig('Figs/SKO_Enrichr_Pathways.png', dpi=400,bbox_inches='tight')"
   ]
  },
  {
   "cell_type": "code",
   "execution_count": 131,
   "metadata": {},
   "outputs": [
    {
     "data": {
      "text/plain": [
       "(13, 14)"
      ]
     },
     "execution_count": 131,
     "metadata": {},
     "output_type": "execute_result"
    }
   ],
   "source": [
    "der_T.shape"
   ]
  },
  {
   "cell_type": "code",
   "execution_count": 132,
   "metadata": {},
   "outputs": [
    {
     "data": {
      "text/plain": [
       "(17, 14)"
      ]
     },
     "execution_count": 132,
     "metadata": {},
     "output_type": "execute_result"
    }
   ],
   "source": [
    "enrichr.shape"
   ]
  },
  {
   "cell_type": "code",
   "execution_count": 133,
   "metadata": {},
   "outputs": [
    {
     "data": {
      "text/html": [
       "<div>\n",
       "<style scoped>\n",
       "    .dataframe tbody tr th:only-of-type {\n",
       "        vertical-align: middle;\n",
       "    }\n",
       "\n",
       "    .dataframe tbody tr th {\n",
       "        vertical-align: top;\n",
       "    }\n",
       "\n",
       "    .dataframe thead th {\n",
       "        text-align: right;\n",
       "    }\n",
       "</style>\n",
       "<table border=\"1\" class=\"dataframe\">\n",
       "  <thead>\n",
       "    <tr style=\"text-align: right;\">\n",
       "      <th></th>\n",
       "      <th>A549_0.02</th>\n",
       "      <th>A549_0.2_ACE2</th>\n",
       "      <th>A549_2</th>\n",
       "      <th>A549_2_ACE2</th>\n",
       "      <th>NHBE_2</th>\n",
       "      <th>Calu3_2</th>\n",
       "      <th>Calu3_4h</th>\n",
       "      <th>Calu3_8h</th>\n",
       "      <th>Calu3_12h</th>\n",
       "      <th>Calu3_24h</th>\n",
       "      <th>H1299_4h</th>\n",
       "      <th>H1299_12h</th>\n",
       "      <th>H1299_24h</th>\n",
       "      <th>H1299_36h</th>\n",
       "    </tr>\n",
       "  </thead>\n",
       "  <tbody>\n",
       "    <tr>\n",
       "      <th>Alanine and aspartate metabolism</th>\n",
       "      <td>0.000000</td>\n",
       "      <td>0.076923</td>\n",
       "      <td>0.000000</td>\n",
       "      <td>0.000000</td>\n",
       "      <td>0.000000</td>\n",
       "      <td>0.000000</td>\n",
       "      <td>0.000000</td>\n",
       "      <td>0.000000</td>\n",
       "      <td>0.000000</td>\n",
       "      <td>0.000000</td>\n",
       "      <td>0.000000</td>\n",
       "      <td>0.000000</td>\n",
       "      <td>0.000000</td>\n",
       "      <td>0.000000</td>\n",
       "    </tr>\n",
       "    <tr>\n",
       "      <th>Fatty acid oxidation</th>\n",
       "      <td>0.000000</td>\n",
       "      <td>0.002081</td>\n",
       "      <td>0.000000</td>\n",
       "      <td>0.000000</td>\n",
       "      <td>0.002081</td>\n",
       "      <td>0.002081</td>\n",
       "      <td>0.002081</td>\n",
       "      <td>0.002081</td>\n",
       "      <td>0.002081</td>\n",
       "      <td>0.002081</td>\n",
       "      <td>0.002081</td>\n",
       "      <td>0.002081</td>\n",
       "      <td>0.002081</td>\n",
       "      <td>0.002081</td>\n",
       "    </tr>\n",
       "    <tr>\n",
       "      <th>Folate metabolism</th>\n",
       "      <td>0.000000</td>\n",
       "      <td>0.101695</td>\n",
       "      <td>0.000000</td>\n",
       "      <td>0.000000</td>\n",
       "      <td>0.000000</td>\n",
       "      <td>0.000000</td>\n",
       "      <td>0.000000</td>\n",
       "      <td>0.000000</td>\n",
       "      <td>0.000000</td>\n",
       "      <td>0.000000</td>\n",
       "      <td>0.000000</td>\n",
       "      <td>0.000000</td>\n",
       "      <td>0.000000</td>\n",
       "      <td>0.000000</td>\n",
       "    </tr>\n",
       "    <tr>\n",
       "      <th>Glycerophospholipid metabolism</th>\n",
       "      <td>0.109091</td>\n",
       "      <td>0.109091</td>\n",
       "      <td>0.109091</td>\n",
       "      <td>0.115152</td>\n",
       "      <td>0.115152</td>\n",
       "      <td>0.109091</td>\n",
       "      <td>0.109091</td>\n",
       "      <td>0.109091</td>\n",
       "      <td>0.109091</td>\n",
       "      <td>0.115152</td>\n",
       "      <td>0.218182</td>\n",
       "      <td>0.218182</td>\n",
       "      <td>0.218182</td>\n",
       "      <td>0.218182</td>\n",
       "    </tr>\n",
       "    <tr>\n",
       "      <th>Glycine, serine, alanine, and threonine metabolism</th>\n",
       "      <td>0.000000</td>\n",
       "      <td>0.042553</td>\n",
       "      <td>0.000000</td>\n",
       "      <td>0.000000</td>\n",
       "      <td>0.000000</td>\n",
       "      <td>0.000000</td>\n",
       "      <td>0.000000</td>\n",
       "      <td>0.000000</td>\n",
       "      <td>0.000000</td>\n",
       "      <td>0.000000</td>\n",
       "      <td>0.000000</td>\n",
       "      <td>0.000000</td>\n",
       "      <td>0.000000</td>\n",
       "      <td>0.000000</td>\n",
       "    </tr>\n",
       "    <tr>\n",
       "      <th>Inositol phosphate metabolism</th>\n",
       "      <td>0.030769</td>\n",
       "      <td>0.000000</td>\n",
       "      <td>0.030769</td>\n",
       "      <td>0.000000</td>\n",
       "      <td>0.000000</td>\n",
       "      <td>0.000000</td>\n",
       "      <td>0.030769</td>\n",
       "      <td>0.030769</td>\n",
       "      <td>0.030769</td>\n",
       "      <td>0.030769</td>\n",
       "      <td>0.030769</td>\n",
       "      <td>0.030769</td>\n",
       "      <td>0.030769</td>\n",
       "      <td>0.030769</td>\n",
       "    </tr>\n",
       "    <tr>\n",
       "      <th>Methionine and cysteine metabolism</th>\n",
       "      <td>0.000000</td>\n",
       "      <td>0.000000</td>\n",
       "      <td>0.000000</td>\n",
       "      <td>0.065217</td>\n",
       "      <td>0.065217</td>\n",
       "      <td>0.000000</td>\n",
       "      <td>0.000000</td>\n",
       "      <td>0.000000</td>\n",
       "      <td>0.000000</td>\n",
       "      <td>0.000000</td>\n",
       "      <td>0.065217</td>\n",
       "      <td>0.065217</td>\n",
       "      <td>0.000000</td>\n",
       "      <td>0.065217</td>\n",
       "    </tr>\n",
       "    <tr>\n",
       "      <th>Nucleotide interconversion</th>\n",
       "      <td>0.000000</td>\n",
       "      <td>0.018293</td>\n",
       "      <td>0.030488</td>\n",
       "      <td>0.256098</td>\n",
       "      <td>0.256098</td>\n",
       "      <td>0.256098</td>\n",
       "      <td>0.012195</td>\n",
       "      <td>0.012195</td>\n",
       "      <td>0.012195</td>\n",
       "      <td>0.012195</td>\n",
       "      <td>0.000000</td>\n",
       "      <td>0.000000</td>\n",
       "      <td>0.000000</td>\n",
       "      <td>0.000000</td>\n",
       "    </tr>\n",
       "    <tr>\n",
       "      <th>Pyrimidine synthesis</th>\n",
       "      <td>0.000000</td>\n",
       "      <td>0.000000</td>\n",
       "      <td>0.047619</td>\n",
       "      <td>0.000000</td>\n",
       "      <td>0.000000</td>\n",
       "      <td>0.000000</td>\n",
       "      <td>0.000000</td>\n",
       "      <td>0.000000</td>\n",
       "      <td>0.000000</td>\n",
       "      <td>0.000000</td>\n",
       "      <td>0.000000</td>\n",
       "      <td>0.000000</td>\n",
       "      <td>0.000000</td>\n",
       "      <td>0.000000</td>\n",
       "    </tr>\n",
       "    <tr>\n",
       "      <th>Sphingolipid metabolism</th>\n",
       "      <td>0.015038</td>\n",
       "      <td>0.015038</td>\n",
       "      <td>0.015038</td>\n",
       "      <td>0.015038</td>\n",
       "      <td>0.015038</td>\n",
       "      <td>0.015038</td>\n",
       "      <td>0.015038</td>\n",
       "      <td>0.015038</td>\n",
       "      <td>0.015038</td>\n",
       "      <td>0.015038</td>\n",
       "      <td>0.015038</td>\n",
       "      <td>0.015038</td>\n",
       "      <td>0.015038</td>\n",
       "      <td>0.015038</td>\n",
       "    </tr>\n",
       "    <tr>\n",
       "      <th>Starch and sucrose metabolism</th>\n",
       "      <td>0.047619</td>\n",
       "      <td>0.000000</td>\n",
       "      <td>0.047619</td>\n",
       "      <td>0.095238</td>\n",
       "      <td>0.095238</td>\n",
       "      <td>0.000000</td>\n",
       "      <td>0.047619</td>\n",
       "      <td>0.047619</td>\n",
       "      <td>0.047619</td>\n",
       "      <td>0.047619</td>\n",
       "      <td>0.000000</td>\n",
       "      <td>0.000000</td>\n",
       "      <td>0.000000</td>\n",
       "      <td>0.000000</td>\n",
       "    </tr>\n",
       "    <tr>\n",
       "      <th>Transport, extracellular</th>\n",
       "      <td>0.010558</td>\n",
       "      <td>0.016214</td>\n",
       "      <td>0.011312</td>\n",
       "      <td>0.036199</td>\n",
       "      <td>0.050528</td>\n",
       "      <td>0.016214</td>\n",
       "      <td>0.027149</td>\n",
       "      <td>0.070513</td>\n",
       "      <td>0.070136</td>\n",
       "      <td>0.069759</td>\n",
       "      <td>0.131222</td>\n",
       "      <td>0.131976</td>\n",
       "      <td>0.131976</td>\n",
       "      <td>0.131976</td>\n",
       "    </tr>\n",
       "    <tr>\n",
       "      <th>Phosphatidylinositol phosphate metabolism</th>\n",
       "      <td>0.000000</td>\n",
       "      <td>0.000000</td>\n",
       "      <td>0.000000</td>\n",
       "      <td>0.000000</td>\n",
       "      <td>0.000000</td>\n",
       "      <td>0.000000</td>\n",
       "      <td>0.000000</td>\n",
       "      <td>0.000000</td>\n",
       "      <td>0.000000</td>\n",
       "      <td>0.000000</td>\n",
       "      <td>0.025000</td>\n",
       "      <td>0.025000</td>\n",
       "      <td>0.025000</td>\n",
       "      <td>0.025000</td>\n",
       "    </tr>\n",
       "  </tbody>\n",
       "</table>\n",
       "</div>"
      ],
      "text/plain": [
       "                                                    A549_0.02  A549_0.2_ACE2  \\\n",
       "Alanine and aspartate metabolism                     0.000000       0.076923   \n",
       "Fatty acid oxidation                                 0.000000       0.002081   \n",
       "Folate metabolism                                    0.000000       0.101695   \n",
       "Glycerophospholipid metabolism                       0.109091       0.109091   \n",
       "Glycine, serine, alanine, and threonine metabolism   0.000000       0.042553   \n",
       "Inositol phosphate metabolism                        0.030769       0.000000   \n",
       "Methionine and cysteine metabolism                   0.000000       0.000000   \n",
       "Nucleotide interconversion                           0.000000       0.018293   \n",
       "Pyrimidine synthesis                                 0.000000       0.000000   \n",
       "Sphingolipid metabolism                              0.015038       0.015038   \n",
       "Starch and sucrose metabolism                        0.047619       0.000000   \n",
       "Transport, extracellular                             0.010558       0.016214   \n",
       "Phosphatidylinositol phosphate metabolism            0.000000       0.000000   \n",
       "\n",
       "                                                      A549_2  A549_2_ACE2  \\\n",
       "Alanine and aspartate metabolism                    0.000000     0.000000   \n",
       "Fatty acid oxidation                                0.000000     0.000000   \n",
       "Folate metabolism                                   0.000000     0.000000   \n",
       "Glycerophospholipid metabolism                      0.109091     0.115152   \n",
       "Glycine, serine, alanine, and threonine metabolism  0.000000     0.000000   \n",
       "Inositol phosphate metabolism                       0.030769     0.000000   \n",
       "Methionine and cysteine metabolism                  0.000000     0.065217   \n",
       "Nucleotide interconversion                          0.030488     0.256098   \n",
       "Pyrimidine synthesis                                0.047619     0.000000   \n",
       "Sphingolipid metabolism                             0.015038     0.015038   \n",
       "Starch and sucrose metabolism                       0.047619     0.095238   \n",
       "Transport, extracellular                            0.011312     0.036199   \n",
       "Phosphatidylinositol phosphate metabolism           0.000000     0.000000   \n",
       "\n",
       "                                                      NHBE_2   Calu3_2  \\\n",
       "Alanine and aspartate metabolism                    0.000000  0.000000   \n",
       "Fatty acid oxidation                                0.002081  0.002081   \n",
       "Folate metabolism                                   0.000000  0.000000   \n",
       "Glycerophospholipid metabolism                      0.115152  0.109091   \n",
       "Glycine, serine, alanine, and threonine metabolism  0.000000  0.000000   \n",
       "Inositol phosphate metabolism                       0.000000  0.000000   \n",
       "Methionine and cysteine metabolism                  0.065217  0.000000   \n",
       "Nucleotide interconversion                          0.256098  0.256098   \n",
       "Pyrimidine synthesis                                0.000000  0.000000   \n",
       "Sphingolipid metabolism                             0.015038  0.015038   \n",
       "Starch and sucrose metabolism                       0.095238  0.000000   \n",
       "Transport, extracellular                            0.050528  0.016214   \n",
       "Phosphatidylinositol phosphate metabolism           0.000000  0.000000   \n",
       "\n",
       "                                                    Calu3_4h  Calu3_8h  \\\n",
       "Alanine and aspartate metabolism                    0.000000  0.000000   \n",
       "Fatty acid oxidation                                0.002081  0.002081   \n",
       "Folate metabolism                                   0.000000  0.000000   \n",
       "Glycerophospholipid metabolism                      0.109091  0.109091   \n",
       "Glycine, serine, alanine, and threonine metabolism  0.000000  0.000000   \n",
       "Inositol phosphate metabolism                       0.030769  0.030769   \n",
       "Methionine and cysteine metabolism                  0.000000  0.000000   \n",
       "Nucleotide interconversion                          0.012195  0.012195   \n",
       "Pyrimidine synthesis                                0.000000  0.000000   \n",
       "Sphingolipid metabolism                             0.015038  0.015038   \n",
       "Starch and sucrose metabolism                       0.047619  0.047619   \n",
       "Transport, extracellular                            0.027149  0.070513   \n",
       "Phosphatidylinositol phosphate metabolism           0.000000  0.000000   \n",
       "\n",
       "                                                    Calu3_12h  Calu3_24h  \\\n",
       "Alanine and aspartate metabolism                     0.000000   0.000000   \n",
       "Fatty acid oxidation                                 0.002081   0.002081   \n",
       "Folate metabolism                                    0.000000   0.000000   \n",
       "Glycerophospholipid metabolism                       0.109091   0.115152   \n",
       "Glycine, serine, alanine, and threonine metabolism   0.000000   0.000000   \n",
       "Inositol phosphate metabolism                        0.030769   0.030769   \n",
       "Methionine and cysteine metabolism                   0.000000   0.000000   \n",
       "Nucleotide interconversion                           0.012195   0.012195   \n",
       "Pyrimidine synthesis                                 0.000000   0.000000   \n",
       "Sphingolipid metabolism                              0.015038   0.015038   \n",
       "Starch and sucrose metabolism                        0.047619   0.047619   \n",
       "Transport, extracellular                             0.070136   0.069759   \n",
       "Phosphatidylinositol phosphate metabolism            0.000000   0.000000   \n",
       "\n",
       "                                                    H1299_4h  H1299_12h  \\\n",
       "Alanine and aspartate metabolism                    0.000000   0.000000   \n",
       "Fatty acid oxidation                                0.002081   0.002081   \n",
       "Folate metabolism                                   0.000000   0.000000   \n",
       "Glycerophospholipid metabolism                      0.218182   0.218182   \n",
       "Glycine, serine, alanine, and threonine metabolism  0.000000   0.000000   \n",
       "Inositol phosphate metabolism                       0.030769   0.030769   \n",
       "Methionine and cysteine metabolism                  0.065217   0.065217   \n",
       "Nucleotide interconversion                          0.000000   0.000000   \n",
       "Pyrimidine synthesis                                0.000000   0.000000   \n",
       "Sphingolipid metabolism                             0.015038   0.015038   \n",
       "Starch and sucrose metabolism                       0.000000   0.000000   \n",
       "Transport, extracellular                            0.131222   0.131976   \n",
       "Phosphatidylinositol phosphate metabolism           0.025000   0.025000   \n",
       "\n",
       "                                                    H1299_24h  H1299_36h  \n",
       "Alanine and aspartate metabolism                     0.000000   0.000000  \n",
       "Fatty acid oxidation                                 0.002081   0.002081  \n",
       "Folate metabolism                                    0.000000   0.000000  \n",
       "Glycerophospholipid metabolism                       0.218182   0.218182  \n",
       "Glycine, serine, alanine, and threonine metabolism   0.000000   0.000000  \n",
       "Inositol phosphate metabolism                        0.030769   0.030769  \n",
       "Methionine and cysteine metabolism                   0.000000   0.065217  \n",
       "Nucleotide interconversion                           0.000000   0.000000  \n",
       "Pyrimidine synthesis                                 0.000000   0.000000  \n",
       "Sphingolipid metabolism                              0.015038   0.015038  \n",
       "Starch and sucrose metabolism                        0.000000   0.000000  \n",
       "Transport, extracellular                             0.131976   0.131976  \n",
       "Phosphatidylinositol phosphate metabolism            0.025000   0.025000  "
      ]
     },
     "execution_count": 133,
     "metadata": {},
     "output_type": "execute_result"
    }
   ],
   "source": [
    "der_T"
   ]
  },
  {
   "cell_type": "code",
   "execution_count": 93,
   "metadata": {},
   "outputs": [
    {
     "data": {
      "text/html": [
       "<div>\n",
       "<style scoped>\n",
       "    .dataframe tbody tr th:only-of-type {\n",
       "        vertical-align: middle;\n",
       "    }\n",
       "\n",
       "    .dataframe tbody tr th {\n",
       "        vertical-align: top;\n",
       "    }\n",
       "\n",
       "    .dataframe thead th {\n",
       "        text-align: right;\n",
       "    }\n",
       "</style>\n",
       "<table border=\"1\" class=\"dataframe\">\n",
       "  <thead>\n",
       "    <tr style=\"text-align: right;\">\n",
       "      <th></th>\n",
       "      <th>A549_0.02</th>\n",
       "      <th>A549_0.2_ACE2</th>\n",
       "      <th>A549_2</th>\n",
       "      <th>A549_2_ACE2</th>\n",
       "      <th>NHBE_2</th>\n",
       "      <th>Calu3_2</th>\n",
       "      <th>Calu3_4h</th>\n",
       "      <th>Calu3_8h</th>\n",
       "      <th>Calu3_12h</th>\n",
       "      <th>Calu3_24h</th>\n",
       "      <th>H1299_4h</th>\n",
       "      <th>H1299_12h</th>\n",
       "      <th>H1299_24h</th>\n",
       "      <th>H1299_36h</th>\n",
       "    </tr>\n",
       "  </thead>\n",
       "  <tbody>\n",
       "    <tr>\n",
       "      <th>Fatty acid oxidation</th>\n",
       "      <td>0.000000</td>\n",
       "      <td>0.002081</td>\n",
       "      <td>0.000000</td>\n",
       "      <td>0.000000</td>\n",
       "      <td>0.002081</td>\n",
       "      <td>0.002081</td>\n",
       "      <td>0.002081</td>\n",
       "      <td>0.002081</td>\n",
       "      <td>0.002081</td>\n",
       "      <td>0.002081</td>\n",
       "      <td>0.002081</td>\n",
       "      <td>0.002081</td>\n",
       "      <td>0.002081</td>\n",
       "      <td>0.002081</td>\n",
       "    </tr>\n",
       "    <tr>\n",
       "      <th>Glycine, serine, alanine, and threonine metabolism</th>\n",
       "      <td>0.000000</td>\n",
       "      <td>0.042553</td>\n",
       "      <td>0.000000</td>\n",
       "      <td>0.000000</td>\n",
       "      <td>0.000000</td>\n",
       "      <td>0.000000</td>\n",
       "      <td>0.000000</td>\n",
       "      <td>0.000000</td>\n",
       "      <td>0.000000</td>\n",
       "      <td>0.000000</td>\n",
       "      <td>0.000000</td>\n",
       "      <td>0.000000</td>\n",
       "      <td>0.000000</td>\n",
       "      <td>0.000000</td>\n",
       "    </tr>\n",
       "    <tr>\n",
       "      <th>Pyrimidine synthesis</th>\n",
       "      <td>0.000000</td>\n",
       "      <td>0.000000</td>\n",
       "      <td>0.047619</td>\n",
       "      <td>0.000000</td>\n",
       "      <td>0.000000</td>\n",
       "      <td>0.000000</td>\n",
       "      <td>0.000000</td>\n",
       "      <td>0.000000</td>\n",
       "      <td>0.000000</td>\n",
       "      <td>0.000000</td>\n",
       "      <td>0.000000</td>\n",
       "      <td>0.000000</td>\n",
       "      <td>0.000000</td>\n",
       "      <td>0.000000</td>\n",
       "    </tr>\n",
       "    <tr>\n",
       "      <th>Alanine and aspartate metabolism</th>\n",
       "      <td>0.000000</td>\n",
       "      <td>0.076923</td>\n",
       "      <td>0.000000</td>\n",
       "      <td>0.000000</td>\n",
       "      <td>0.000000</td>\n",
       "      <td>0.000000</td>\n",
       "      <td>0.000000</td>\n",
       "      <td>0.000000</td>\n",
       "      <td>0.000000</td>\n",
       "      <td>0.000000</td>\n",
       "      <td>0.000000</td>\n",
       "      <td>0.000000</td>\n",
       "      <td>0.000000</td>\n",
       "      <td>0.000000</td>\n",
       "    </tr>\n",
       "    <tr>\n",
       "      <th>Phosphatidylinositol phosphate metabolism</th>\n",
       "      <td>0.000000</td>\n",
       "      <td>0.000000</td>\n",
       "      <td>0.000000</td>\n",
       "      <td>0.000000</td>\n",
       "      <td>0.000000</td>\n",
       "      <td>0.000000</td>\n",
       "      <td>0.000000</td>\n",
       "      <td>0.000000</td>\n",
       "      <td>0.000000</td>\n",
       "      <td>0.000000</td>\n",
       "      <td>0.025000</td>\n",
       "      <td>0.025000</td>\n",
       "      <td>0.025000</td>\n",
       "      <td>0.025000</td>\n",
       "    </tr>\n",
       "    <tr>\n",
       "      <th>Folate metabolism</th>\n",
       "      <td>0.000000</td>\n",
       "      <td>0.101695</td>\n",
       "      <td>0.000000</td>\n",
       "      <td>0.000000</td>\n",
       "      <td>0.000000</td>\n",
       "      <td>0.000000</td>\n",
       "      <td>0.000000</td>\n",
       "      <td>0.000000</td>\n",
       "      <td>0.000000</td>\n",
       "      <td>0.000000</td>\n",
       "      <td>0.000000</td>\n",
       "      <td>0.000000</td>\n",
       "      <td>0.000000</td>\n",
       "      <td>0.000000</td>\n",
       "    </tr>\n",
       "    <tr>\n",
       "      <th>Sphingolipid metabolism</th>\n",
       "      <td>0.015038</td>\n",
       "      <td>0.015038</td>\n",
       "      <td>0.015038</td>\n",
       "      <td>0.015038</td>\n",
       "      <td>0.015038</td>\n",
       "      <td>0.015038</td>\n",
       "      <td>0.015038</td>\n",
       "      <td>0.015038</td>\n",
       "      <td>0.015038</td>\n",
       "      <td>0.015038</td>\n",
       "      <td>0.015038</td>\n",
       "      <td>0.015038</td>\n",
       "      <td>0.015038</td>\n",
       "      <td>0.015038</td>\n",
       "    </tr>\n",
       "    <tr>\n",
       "      <th>Inositol phosphate metabolism</th>\n",
       "      <td>0.030769</td>\n",
       "      <td>0.000000</td>\n",
       "      <td>0.030769</td>\n",
       "      <td>0.000000</td>\n",
       "      <td>0.000000</td>\n",
       "      <td>0.000000</td>\n",
       "      <td>0.030769</td>\n",
       "      <td>0.030769</td>\n",
       "      <td>0.030769</td>\n",
       "      <td>0.030769</td>\n",
       "      <td>0.030769</td>\n",
       "      <td>0.030769</td>\n",
       "      <td>0.030769</td>\n",
       "      <td>0.030769</td>\n",
       "    </tr>\n",
       "    <tr>\n",
       "      <th>Methionine and cysteine metabolism</th>\n",
       "      <td>0.000000</td>\n",
       "      <td>0.000000</td>\n",
       "      <td>0.000000</td>\n",
       "      <td>0.065217</td>\n",
       "      <td>0.065217</td>\n",
       "      <td>0.000000</td>\n",
       "      <td>0.000000</td>\n",
       "      <td>0.000000</td>\n",
       "      <td>0.000000</td>\n",
       "      <td>0.000000</td>\n",
       "      <td>0.065217</td>\n",
       "      <td>0.065217</td>\n",
       "      <td>0.000000</td>\n",
       "      <td>0.065217</td>\n",
       "    </tr>\n",
       "    <tr>\n",
       "      <th>Starch and sucrose metabolism</th>\n",
       "      <td>0.047619</td>\n",
       "      <td>0.000000</td>\n",
       "      <td>0.047619</td>\n",
       "      <td>0.095238</td>\n",
       "      <td>0.095238</td>\n",
       "      <td>0.000000</td>\n",
       "      <td>0.047619</td>\n",
       "      <td>0.047619</td>\n",
       "      <td>0.047619</td>\n",
       "      <td>0.047619</td>\n",
       "      <td>0.000000</td>\n",
       "      <td>0.000000</td>\n",
       "      <td>0.000000</td>\n",
       "      <td>0.000000</td>\n",
       "    </tr>\n",
       "    <tr>\n",
       "      <th>Nucleotide interconversion</th>\n",
       "      <td>0.000000</td>\n",
       "      <td>0.018293</td>\n",
       "      <td>0.030488</td>\n",
       "      <td>0.256098</td>\n",
       "      <td>0.256098</td>\n",
       "      <td>0.256098</td>\n",
       "      <td>0.012195</td>\n",
       "      <td>0.012195</td>\n",
       "      <td>0.012195</td>\n",
       "      <td>0.012195</td>\n",
       "      <td>0.000000</td>\n",
       "      <td>0.000000</td>\n",
       "      <td>0.000000</td>\n",
       "      <td>0.000000</td>\n",
       "    </tr>\n",
       "    <tr>\n",
       "      <th>Transport, extracellular</th>\n",
       "      <td>0.010558</td>\n",
       "      <td>0.016214</td>\n",
       "      <td>0.011312</td>\n",
       "      <td>0.036199</td>\n",
       "      <td>0.050528</td>\n",
       "      <td>0.016214</td>\n",
       "      <td>0.027149</td>\n",
       "      <td>0.070513</td>\n",
       "      <td>0.070136</td>\n",
       "      <td>0.069759</td>\n",
       "      <td>0.131222</td>\n",
       "      <td>0.131976</td>\n",
       "      <td>0.131976</td>\n",
       "      <td>0.131976</td>\n",
       "    </tr>\n",
       "    <tr>\n",
       "      <th>Glycerophospholipid metabolism</th>\n",
       "      <td>0.109091</td>\n",
       "      <td>0.109091</td>\n",
       "      <td>0.109091</td>\n",
       "      <td>0.115152</td>\n",
       "      <td>0.115152</td>\n",
       "      <td>0.109091</td>\n",
       "      <td>0.109091</td>\n",
       "      <td>0.109091</td>\n",
       "      <td>0.109091</td>\n",
       "      <td>0.115152</td>\n",
       "      <td>0.218182</td>\n",
       "      <td>0.218182</td>\n",
       "      <td>0.218182</td>\n",
       "      <td>0.218182</td>\n",
       "    </tr>\n",
       "  </tbody>\n",
       "</table>\n",
       "</div>"
      ],
      "text/plain": [
       "                                                    A549_0.02  A549_0.2_ACE2  \\\n",
       "Fatty acid oxidation                                 0.000000       0.002081   \n",
       "Glycine, serine, alanine, and threonine metabolism   0.000000       0.042553   \n",
       "Pyrimidine synthesis                                 0.000000       0.000000   \n",
       "Alanine and aspartate metabolism                     0.000000       0.076923   \n",
       "Phosphatidylinositol phosphate metabolism            0.000000       0.000000   \n",
       "Folate metabolism                                    0.000000       0.101695   \n",
       "Sphingolipid metabolism                              0.015038       0.015038   \n",
       "Inositol phosphate metabolism                        0.030769       0.000000   \n",
       "Methionine and cysteine metabolism                   0.000000       0.000000   \n",
       "Starch and sucrose metabolism                        0.047619       0.000000   \n",
       "Nucleotide interconversion                           0.000000       0.018293   \n",
       "Transport, extracellular                             0.010558       0.016214   \n",
       "Glycerophospholipid metabolism                       0.109091       0.109091   \n",
       "\n",
       "                                                      A549_2  A549_2_ACE2  \\\n",
       "Fatty acid oxidation                                0.000000     0.000000   \n",
       "Glycine, serine, alanine, and threonine metabolism  0.000000     0.000000   \n",
       "Pyrimidine synthesis                                0.047619     0.000000   \n",
       "Alanine and aspartate metabolism                    0.000000     0.000000   \n",
       "Phosphatidylinositol phosphate metabolism           0.000000     0.000000   \n",
       "Folate metabolism                                   0.000000     0.000000   \n",
       "Sphingolipid metabolism                             0.015038     0.015038   \n",
       "Inositol phosphate metabolism                       0.030769     0.000000   \n",
       "Methionine and cysteine metabolism                  0.000000     0.065217   \n",
       "Starch and sucrose metabolism                       0.047619     0.095238   \n",
       "Nucleotide interconversion                          0.030488     0.256098   \n",
       "Transport, extracellular                            0.011312     0.036199   \n",
       "Glycerophospholipid metabolism                      0.109091     0.115152   \n",
       "\n",
       "                                                      NHBE_2   Calu3_2  \\\n",
       "Fatty acid oxidation                                0.002081  0.002081   \n",
       "Glycine, serine, alanine, and threonine metabolism  0.000000  0.000000   \n",
       "Pyrimidine synthesis                                0.000000  0.000000   \n",
       "Alanine and aspartate metabolism                    0.000000  0.000000   \n",
       "Phosphatidylinositol phosphate metabolism           0.000000  0.000000   \n",
       "Folate metabolism                                   0.000000  0.000000   \n",
       "Sphingolipid metabolism                             0.015038  0.015038   \n",
       "Inositol phosphate metabolism                       0.000000  0.000000   \n",
       "Methionine and cysteine metabolism                  0.065217  0.000000   \n",
       "Starch and sucrose metabolism                       0.095238  0.000000   \n",
       "Nucleotide interconversion                          0.256098  0.256098   \n",
       "Transport, extracellular                            0.050528  0.016214   \n",
       "Glycerophospholipid metabolism                      0.115152  0.109091   \n",
       "\n",
       "                                                    Calu3_4h  Calu3_8h  \\\n",
       "Fatty acid oxidation                                0.002081  0.002081   \n",
       "Glycine, serine, alanine, and threonine metabolism  0.000000  0.000000   \n",
       "Pyrimidine synthesis                                0.000000  0.000000   \n",
       "Alanine and aspartate metabolism                    0.000000  0.000000   \n",
       "Phosphatidylinositol phosphate metabolism           0.000000  0.000000   \n",
       "Folate metabolism                                   0.000000  0.000000   \n",
       "Sphingolipid metabolism                             0.015038  0.015038   \n",
       "Inositol phosphate metabolism                       0.030769  0.030769   \n",
       "Methionine and cysteine metabolism                  0.000000  0.000000   \n",
       "Starch and sucrose metabolism                       0.047619  0.047619   \n",
       "Nucleotide interconversion                          0.012195  0.012195   \n",
       "Transport, extracellular                            0.027149  0.070513   \n",
       "Glycerophospholipid metabolism                      0.109091  0.109091   \n",
       "\n",
       "                                                    Calu3_12h  Calu3_24h  \\\n",
       "Fatty acid oxidation                                 0.002081   0.002081   \n",
       "Glycine, serine, alanine, and threonine metabolism   0.000000   0.000000   \n",
       "Pyrimidine synthesis                                 0.000000   0.000000   \n",
       "Alanine and aspartate metabolism                     0.000000   0.000000   \n",
       "Phosphatidylinositol phosphate metabolism            0.000000   0.000000   \n",
       "Folate metabolism                                    0.000000   0.000000   \n",
       "Sphingolipid metabolism                              0.015038   0.015038   \n",
       "Inositol phosphate metabolism                        0.030769   0.030769   \n",
       "Methionine and cysteine metabolism                   0.000000   0.000000   \n",
       "Starch and sucrose metabolism                        0.047619   0.047619   \n",
       "Nucleotide interconversion                           0.012195   0.012195   \n",
       "Transport, extracellular                             0.070136   0.069759   \n",
       "Glycerophospholipid metabolism                       0.109091   0.115152   \n",
       "\n",
       "                                                    H1299_4h  H1299_12h  \\\n",
       "Fatty acid oxidation                                0.002081   0.002081   \n",
       "Glycine, serine, alanine, and threonine metabolism  0.000000   0.000000   \n",
       "Pyrimidine synthesis                                0.000000   0.000000   \n",
       "Alanine and aspartate metabolism                    0.000000   0.000000   \n",
       "Phosphatidylinositol phosphate metabolism           0.025000   0.025000   \n",
       "Folate metabolism                                   0.000000   0.000000   \n",
       "Sphingolipid metabolism                             0.015038   0.015038   \n",
       "Inositol phosphate metabolism                       0.030769   0.030769   \n",
       "Methionine and cysteine metabolism                  0.065217   0.065217   \n",
       "Starch and sucrose metabolism                       0.000000   0.000000   \n",
       "Nucleotide interconversion                          0.000000   0.000000   \n",
       "Transport, extracellular                            0.131222   0.131976   \n",
       "Glycerophospholipid metabolism                      0.218182   0.218182   \n",
       "\n",
       "                                                    H1299_24h  H1299_36h  \n",
       "Fatty acid oxidation                                 0.002081   0.002081  \n",
       "Glycine, serine, alanine, and threonine metabolism   0.000000   0.000000  \n",
       "Pyrimidine synthesis                                 0.000000   0.000000  \n",
       "Alanine and aspartate metabolism                     0.000000   0.000000  \n",
       "Phosphatidylinositol phosphate metabolism            0.025000   0.025000  \n",
       "Folate metabolism                                    0.000000   0.000000  \n",
       "Sphingolipid metabolism                              0.015038   0.015038  \n",
       "Inositol phosphate metabolism                        0.030769   0.030769  \n",
       "Methionine and cysteine metabolism                   0.000000   0.065217  \n",
       "Starch and sucrose metabolism                        0.000000   0.000000  \n",
       "Nucleotide interconversion                           0.000000   0.000000  \n",
       "Transport, extracellular                             0.131976   0.131976  \n",
       "Glycerophospholipid metabolism                       0.218182   0.218182  "
      ]
     },
     "execution_count": 93,
     "metadata": {},
     "output_type": "execute_result"
    }
   ],
   "source": [
    "der_T.assign(m=der_T.mean(axis=1)).sort_values('m').drop('m', axis=1)"
   ]
  },
  {
   "cell_type": "code",
   "execution_count": null,
   "metadata": {},
   "outputs": [],
   "source": []
  },
  {
   "cell_type": "code",
   "execution_count": 138,
   "metadata": {},
   "outputs": [],
   "source": [
    "!convert -append Figs/SKO_Enrichr_Pathways.png Figs/SKO_Metabolic_Pathways.png Figs/Fig4.png"
   ]
  },
  {
   "cell_type": "code",
   "execution_count": null,
   "metadata": {},
   "outputs": [],
   "source": []
  }
 ],
 "metadata": {
  "kernelspec": {
   "display_name": "Python 3",
   "language": "python",
   "name": "python3"
  },
  "language_info": {
   "codemirror_mode": {
    "name": "ipython",
    "version": 3
   },
   "file_extension": ".py",
   "mimetype": "text/x-python",
   "name": "python",
   "nbconvert_exporter": "python",
   "pygments_lexer": "ipython3",
   "version": "3.7.4"
  }
 },
 "nbformat": 4,
 "nbformat_minor": 2
}
