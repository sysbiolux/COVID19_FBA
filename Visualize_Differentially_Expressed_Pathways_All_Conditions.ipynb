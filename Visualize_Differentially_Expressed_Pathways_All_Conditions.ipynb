{
 "cells": [
  {
   "cell_type": "code",
   "execution_count": 1,
   "metadata": {},
   "outputs": [],
   "source": [
    "import numpy as np\n",
    "import pandas as pd\n",
    "import seaborn as sns\n",
    "from matplotlib import pyplot as plt"
   ]
  },
  {
   "cell_type": "code",
   "execution_count": 2,
   "metadata": {},
   "outputs": [
    {
     "data": {
      "text/plain": [
       "MultiIndex([('Var2', 'count')],\n",
       "           )"
      ]
     },
     "execution_count": 2,
     "metadata": {},
     "output_type": "execute_result"
    }
   ],
   "source": [
    "# Read Recon pathways reactions for RECON3 subsystems\n",
    "pathway_df = pd.read_csv('RECON_Pathway_Reactions.csv')\n",
    "pathway_df.head()\n",
    "pathway_df_unq = pathway_df.groupby(['Var1']).agg(['count'])\n",
    "pathway_df_unq.columns"
   ]
  },
  {
   "cell_type": "code",
   "execution_count": null,
   "metadata": {},
   "outputs": [],
   "source": []
  },
  {
   "cell_type": "code",
   "execution_count": 3,
   "metadata": {},
   "outputs": [
    {
     "data": {
      "text/plain": [
       "MultiIndex([('Var2', 'count')],\n",
       "           )"
      ]
     },
     "execution_count": 3,
     "metadata": {},
     "output_type": "execute_result"
    }
   ],
   "source": [
    "pathway_df_unq.columns"
   ]
  },
  {
   "cell_type": "code",
   "execution_count": 4,
   "metadata": {},
   "outputs": [
    {
     "data": {
      "text/html": [
       "<div>\n",
       "<style scoped>\n",
       "    .dataframe tbody tr th:only-of-type {\n",
       "        vertical-align: middle;\n",
       "    }\n",
       "\n",
       "    .dataframe tbody tr th {\n",
       "        vertical-align: top;\n",
       "    }\n",
       "\n",
       "    .dataframe thead th {\n",
       "        text-align: right;\n",
       "    }\n",
       "</style>\n",
       "<table border=\"1\" class=\"dataframe\">\n",
       "  <thead>\n",
       "    <tr style=\"text-align: right;\">\n",
       "      <th></th>\n",
       "      <th>Var1</th>\n",
       "      <th>Var2</th>\n",
       "    </tr>\n",
       "  </thead>\n",
       "  <tbody>\n",
       "    <tr>\n",
       "      <th>0</th>\n",
       "      <td>Transport, lysosomal</td>\n",
       "      <td>5-Glutamyl-10Fthf Transport, Lysosomal</td>\n",
       "    </tr>\n",
       "    <tr>\n",
       "      <th>1</th>\n",
       "      <td>Transport, mitochondrial</td>\n",
       "      <td>5-Glutamyl-10Fthf Transport, Mitochondrial</td>\n",
       "    </tr>\n",
       "    <tr>\n",
       "      <th>2</th>\n",
       "      <td>Transport, lysosomal</td>\n",
       "      <td>6-Glutamyl-10Fthf Transport, Lysosomal</td>\n",
       "    </tr>\n",
       "    <tr>\n",
       "      <th>3</th>\n",
       "      <td>Transport, mitochondrial</td>\n",
       "      <td>6-Glutamyl-10Fthf Transport, Mitochondrial</td>\n",
       "    </tr>\n",
       "    <tr>\n",
       "      <th>4</th>\n",
       "      <td>Transport, lysosomal</td>\n",
       "      <td>7-Glutamyl-10Fthf Transport, Lysosomal</td>\n",
       "    </tr>\n",
       "    <tr>\n",
       "      <th>...</th>\n",
       "      <td>...</td>\n",
       "      <td>...</td>\n",
       "    </tr>\n",
       "    <tr>\n",
       "      <th>10595</th>\n",
       "      <td>Oxidative phosphorylation</td>\n",
       "      <td>CYOR_u10mi</td>\n",
       "    </tr>\n",
       "    <tr>\n",
       "      <th>10596</th>\n",
       "      <td>Transport, mitochondrial</td>\n",
       "      <td>Htmi</td>\n",
       "    </tr>\n",
       "    <tr>\n",
       "      <th>10597</th>\n",
       "      <td>Oxidative phosphorylation</td>\n",
       "      <td>NADH2_u10mi</td>\n",
       "    </tr>\n",
       "    <tr>\n",
       "      <th>10598</th>\n",
       "      <td>Oxidative phosphorylation</td>\n",
       "      <td>CYOOm3i</td>\n",
       "    </tr>\n",
       "    <tr>\n",
       "      <th>10599</th>\n",
       "      <td>Oxidative phosphorylation</td>\n",
       "      <td>CYOOm2i</td>\n",
       "    </tr>\n",
       "  </tbody>\n",
       "</table>\n",
       "<p>10600 rows × 2 columns</p>\n",
       "</div>"
      ],
      "text/plain": [
       "                            Var1                                        Var2\n",
       "0           Transport, lysosomal      5-Glutamyl-10Fthf Transport, Lysosomal\n",
       "1       Transport, mitochondrial  5-Glutamyl-10Fthf Transport, Mitochondrial\n",
       "2           Transport, lysosomal      6-Glutamyl-10Fthf Transport, Lysosomal\n",
       "3       Transport, mitochondrial  6-Glutamyl-10Fthf Transport, Mitochondrial\n",
       "4           Transport, lysosomal      7-Glutamyl-10Fthf Transport, Lysosomal\n",
       "...                          ...                                         ...\n",
       "10595  Oxidative phosphorylation                                  CYOR_u10mi\n",
       "10596   Transport, mitochondrial                                        Htmi\n",
       "10597  Oxidative phosphorylation                                 NADH2_u10mi\n",
       "10598  Oxidative phosphorylation                                     CYOOm3i\n",
       "10599  Oxidative phosphorylation                                     CYOOm2i\n",
       "\n",
       "[10600 rows x 2 columns]"
      ]
     },
     "execution_count": 4,
     "metadata": {},
     "output_type": "execute_result"
    }
   ],
   "source": [
    "pathway_df"
   ]
  },
  {
   "cell_type": "code",
   "execution_count": 5,
   "metadata": {
    "scrolled": true
   },
   "outputs": [
    {
     "data": {
      "text/html": [
       "<div>\n",
       "<style scoped>\n",
       "    .dataframe tbody tr th:only-of-type {\n",
       "        vertical-align: middle;\n",
       "    }\n",
       "\n",
       "    .dataframe tbody tr th {\n",
       "        vertical-align: top;\n",
       "    }\n",
       "\n",
       "    .dataframe thead th {\n",
       "        text-align: right;\n",
       "    }\n",
       "</style>\n",
       "<table border=\"1\" class=\"dataframe\">\n",
       "  <thead>\n",
       "    <tr style=\"text-align: right;\">\n",
       "      <th></th>\n",
       "      <th>Pathway</th>\n",
       "      <th>Down_regulated</th>\n",
       "      <th>Up_regulated</th>\n",
       "      <th>Phenotype</th>\n",
       "    </tr>\n",
       "  </thead>\n",
       "  <tbody>\n",
       "    <tr>\n",
       "      <th>0</th>\n",
       "      <td>Arginine and proline metabolism</td>\n",
       "      <td>0</td>\n",
       "      <td>2</td>\n",
       "      <td>Series1</td>\n",
       "    </tr>\n",
       "    <tr>\n",
       "      <th>1</th>\n",
       "      <td>Chondroitin synthesis</td>\n",
       "      <td>0</td>\n",
       "      <td>1</td>\n",
       "      <td>Series1</td>\n",
       "    </tr>\n",
       "    <tr>\n",
       "      <th>2</th>\n",
       "      <td>Oxidative phosphorylation</td>\n",
       "      <td>1</td>\n",
       "      <td>0</td>\n",
       "      <td>Series1</td>\n",
       "    </tr>\n",
       "    <tr>\n",
       "      <th>3</th>\n",
       "      <td>Urea cycle</td>\n",
       "      <td>0</td>\n",
       "      <td>1</td>\n",
       "      <td>Series1</td>\n",
       "    </tr>\n",
       "    <tr>\n",
       "      <th>4</th>\n",
       "      <td>Alanine and aspartate metabolism</td>\n",
       "      <td>2</td>\n",
       "      <td>1</td>\n",
       "      <td>Series16</td>\n",
       "    </tr>\n",
       "  </tbody>\n",
       "</table>\n",
       "</div>"
      ],
      "text/plain": [
       "                            Pathway  Down_regulated  Up_regulated Phenotype\n",
       "0   Arginine and proline metabolism               0             2   Series1\n",
       "1             Chondroitin synthesis               0             1   Series1\n",
       "2         Oxidative phosphorylation               1             0   Series1\n",
       "3                        Urea cycle               0             1   Series1\n",
       "4  Alanine and aspartate metabolism               2             1  Series16"
      ]
     },
     "execution_count": 5,
     "metadata": {},
     "output_type": "execute_result"
    }
   ],
   "source": [
    "der_df = pd.read_csv('output_summ/Differentially_Expressed_Reactions.csv')\n",
    "der_df.iloc[:,1] = der_df.iloc[:,1]*-1\n",
    "der_df.head()"
   ]
  },
  {
   "cell_type": "code",
   "execution_count": null,
   "metadata": {},
   "outputs": [],
   "source": []
  },
  {
   "cell_type": "code",
   "execution_count": 6,
   "metadata": {},
   "outputs": [
    {
     "data": {
      "text/plain": [
       "array(['Series1', 'Series16', 'Series5', 'Series6', 'Series7'],\n",
       "      dtype=object)"
      ]
     },
     "execution_count": 6,
     "metadata": {},
     "output_type": "execute_result"
    }
   ],
   "source": [
    "der_df.Phenotype.unique()"
   ]
  },
  {
   "cell_type": "code",
   "execution_count": 7,
   "metadata": {},
   "outputs": [
    {
     "data": {
      "text/plain": [
       "(245, 4)"
      ]
     },
     "execution_count": 7,
     "metadata": {},
     "output_type": "execute_result"
    }
   ],
   "source": [
    "der_df.shape"
   ]
  },
  {
   "cell_type": "markdown",
   "metadata": {},
   "source": [
    "#Calculate the percentage of rxns in a pathway\n",
    "for i in range(der_df.shape[0]):\n",
    "    pathway = der_df.iloc[i,0]\n",
    "    rxns_count = int(pathway_df_unq.loc[pathway,:].values)\n",
    "    der_df.iloc[i,1] = der_df.iloc[i,1]/rxns_count\n",
    "    der_df.iloc[i,2] = der_df.iloc[i,2]/rxns_count\n",
    "der_df.head()"
   ]
  },
  {
   "cell_type": "code",
   "execution_count": 8,
   "metadata": {},
   "outputs": [
    {
     "data": {
      "text/plain": [
       "<matplotlib.axes._subplots.AxesSubplot at 0x7f8458d0ac50>"
      ]
     },
     "execution_count": 8,
     "metadata": {},
     "output_type": "execute_result"
    },
    {
     "data": {
      "image/png": "[encoded data removed]",
      "text/plain": [
       "<Figure size 432x288 with 1 Axes>"
      ]
     },
     "metadata": {
      "needs_background": "light"
     },
     "output_type": "display_data"
    }
   ],
   "source": [
    "der_df.iloc[:,1].hist()"
   ]
  },
  {
   "cell_type": "code",
   "execution_count": 9,
   "metadata": {
    "scrolled": true
   },
   "outputs": [
    {
     "data": {
      "text/plain": [
       "<matplotlib.axes._subplots.AxesSubplot at 0x7f8459791c50>"
      ]
     },
     "execution_count": 9,
     "metadata": {},
     "output_type": "execute_result"
    },
    {
     "data": {
      "image/png": "[encoded data removed]",
      "text/plain": [
       "<Figure size 432x288 with 1 Axes>"
      ]
     },
     "metadata": {
      "needs_background": "light"
     },
     "output_type": "display_data"
    }
   ],
   "source": [
    "der_df.iloc[:,2].hist()"
   ]
  },
  {
   "cell_type": "code",
   "execution_count": 10,
   "metadata": {},
   "outputs": [],
   "source": [
    "#der_df = der_df.loc[np.logical_or(der_df.iloc[:,1]>3,der_df.iloc[:,2]>3),:]\n",
    "# Calculate the percentage of rxns in a pathway\n",
    "for i in range(der_df.shape[0]):\n",
    "    pathway = der_df.iloc[i,0]\n",
    "    rxns_count = int(pathway_df_unq.loc[pathway,:].values)\n",
    "    der_df.iloc[i,1] = der_df.iloc[i,1]/rxns_count\n",
    "    der_df.iloc[i,2] = der_df.iloc[i,2]/rxns_count"
   ]
  },
  {
   "cell_type": "code",
   "execution_count": 11,
   "metadata": {},
   "outputs": [
    {
     "data": {
      "text/plain": [
       "(245, 4)"
      ]
     },
     "execution_count": 11,
     "metadata": {},
     "output_type": "execute_result"
    }
   ],
   "source": [
    "der_df.shape"
   ]
  },
  {
   "cell_type": "code",
   "execution_count": 12,
   "metadata": {},
   "outputs": [
    {
     "data": {
      "text/plain": [
       "array(['Arginine and proline metabolism', 'Chondroitin synthesis',\n",
       "       'Oxidative phosphorylation', 'Urea cycle',\n",
       "       'Alanine and aspartate metabolism', 'Aminosugar metabolism',\n",
       "       'Androgen and estrogen synthesis and metabolism',\n",
       "       'Arachidonic acid metabolism', 'Beta-Alanine metabolism',\n",
       "       'Bile acid synthesis', 'Butanoate metabolism',\n",
       "       'Cholesterol metabolism', 'Chondroitin sulfate degradation',\n",
       "       'Citric acid cycle', 'CoA catabolism', 'Cytochrome metabolism',\n",
       "       'Drug metabolism', 'Eicosanoid metabolism', 'Fatty acid oxidation',\n",
       "       'Fatty acid synthesis', 'Folate metabolism',\n",
       "       'Fructose and mannose metabolism', 'Galactose metabolism',\n",
       "       'Glutamate metabolism', 'Glutathione metabolism',\n",
       "       'Glycerophospholipid metabolism',\n",
       "       'Glycine, serine, alanine, and threonine metabolism',\n",
       "       'Glycolysis/gluconeogenesis', 'Glycosphingolipid metabolism',\n",
       "       'Glyoxylate and dicarboxylate metabolism', 'Heme degradation',\n",
       "       'Heme synthesis', 'Heparan sulfate degradation',\n",
       "       'Histidine metabolism', 'Hyaluronan metabolism',\n",
       "       'Inositol phosphate metabolism', 'Keratan sulfate degradation',\n",
       "       'Keratan sulfate synthesis', 'Leukotriene metabolism',\n",
       "       'Linoleate metabolism', 'Lipoate metabolism', 'Lysine metabolism',\n",
       "       'Methionine and cysteine metabolism', 'Miscellaneous',\n",
       "       'N-glycan degradation', 'N-glycan metabolism',\n",
       "       'N-glycan synthesis', 'NAD metabolism',\n",
       "       'Nucleotide interconversion', 'O-glycan metabolism',\n",
       "       'Pentose phosphate pathway', 'Phenylalanine metabolism',\n",
       "       'Phosphatidylinositol phosphate metabolism',\n",
       "       'Propanoate metabolism', 'Purine catabolism', 'Purine synthesis',\n",
       "       'Pyrimidine catabolism', 'Pyrimidine synthesis',\n",
       "       'Pyruvate metabolism', 'ROS detoxification',\n",
       "       'Sphingolipid metabolism', 'Squalene and cholesterol synthesis',\n",
       "       'Starch and sucrose metabolism', 'Steroid metabolism',\n",
       "       'Taurine and hypotaurine metabolism',\n",
       "       'Tetrahydrobiopterin metabolism',\n",
       "       'Transport, endoplasmic reticular', 'Transport, extracellular',\n",
       "       'Transport, golgi apparatus', 'Transport, mitochondrial',\n",
       "       'Transport, nuclear', 'Transport, peroxisomal',\n",
       "       'Triacylglycerol synthesis', 'Tryptophan metabolism',\n",
       "       'Tyrosine metabolism', 'Ubiquinone synthesis',\n",
       "       'Valine, leucine, and isoleucine metabolism',\n",
       "       'Vitamin A metabolism', 'Vitamin B2 metabolism',\n",
       "       'Vitamin B6 metabolism', 'Blood group synthesis',\n",
       "       'Vitamin C metabolism', 'Transport, lysosomal'], dtype=object)"
      ]
     },
     "execution_count": 12,
     "metadata": {},
     "output_type": "execute_result"
    }
   ],
   "source": [
    "der_df.Pathway.unique()"
   ]
  },
  {
   "cell_type": "code",
   "execution_count": 13,
   "metadata": {},
   "outputs": [],
   "source": [
    "#der_df = der_df.loc[np.logical_or(der_df.iloc[:,1]>0.05,der_df.iloc[:,2]>0.05),:]"
   ]
  },
  {
   "cell_type": "code",
   "execution_count": 14,
   "metadata": {},
   "outputs": [
    {
     "data": {
      "text/plain": [
       "(245, 4)"
      ]
     },
     "execution_count": 14,
     "metadata": {},
     "output_type": "execute_result"
    }
   ],
   "source": [
    "der_df.shape"
   ]
  },
  {
   "cell_type": "code",
   "execution_count": 15,
   "metadata": {},
   "outputs": [
    {
     "data": {
      "text/html": [
       "<div>\n",
       "<style scoped>\n",
       "    .dataframe tbody tr th:only-of-type {\n",
       "        vertical-align: middle;\n",
       "    }\n",
       "\n",
       "    .dataframe tbody tr th {\n",
       "        vertical-align: top;\n",
       "    }\n",
       "\n",
       "    .dataframe thead th {\n",
       "        text-align: right;\n",
       "    }\n",
       "</style>\n",
       "<table border=\"1\" class=\"dataframe\">\n",
       "  <thead>\n",
       "    <tr style=\"text-align: right;\">\n",
       "      <th></th>\n",
       "      <th>Pathway</th>\n",
       "      <th>Down_regulated</th>\n",
       "      <th>Up_regulated</th>\n",
       "      <th>Phenotype</th>\n",
       "    </tr>\n",
       "  </thead>\n",
       "  <tbody>\n",
       "    <tr>\n",
       "      <th>0</th>\n",
       "      <td>Arginine and proline metabolism</td>\n",
       "      <td>0.000000</td>\n",
       "      <td>0.050000</td>\n",
       "      <td>Series1</td>\n",
       "    </tr>\n",
       "    <tr>\n",
       "      <th>1</th>\n",
       "      <td>Chondroitin synthesis</td>\n",
       "      <td>0.000000</td>\n",
       "      <td>0.022222</td>\n",
       "      <td>Series1</td>\n",
       "    </tr>\n",
       "    <tr>\n",
       "      <th>2</th>\n",
       "      <td>Oxidative phosphorylation</td>\n",
       "      <td>0.100000</td>\n",
       "      <td>0.000000</td>\n",
       "      <td>Series1</td>\n",
       "    </tr>\n",
       "    <tr>\n",
       "      <th>3</th>\n",
       "      <td>Urea cycle</td>\n",
       "      <td>0.000000</td>\n",
       "      <td>0.025000</td>\n",
       "      <td>Series1</td>\n",
       "    </tr>\n",
       "    <tr>\n",
       "      <th>4</th>\n",
       "      <td>Alanine and aspartate metabolism</td>\n",
       "      <td>0.153846</td>\n",
       "      <td>0.076923</td>\n",
       "      <td>Series16</td>\n",
       "    </tr>\n",
       "  </tbody>\n",
       "</table>\n",
       "</div>"
      ],
      "text/plain": [
       "                            Pathway  Down_regulated  Up_regulated Phenotype\n",
       "0   Arginine and proline metabolism        0.000000      0.050000   Series1\n",
       "1             Chondroitin synthesis        0.000000      0.022222   Series1\n",
       "2         Oxidative phosphorylation        0.100000      0.000000   Series1\n",
       "3                        Urea cycle        0.000000      0.025000   Series1\n",
       "4  Alanine and aspartate metabolism        0.153846      0.076923  Series16"
      ]
     },
     "execution_count": 15,
     "metadata": {},
     "output_type": "execute_result"
    }
   ],
   "source": [
    "der_df.head()"
   ]
  },
  {
   "cell_type": "code",
   "execution_count": 16,
   "metadata": {},
   "outputs": [
    {
     "data": {
      "text/plain": [
       "array(['Series1', 'Series16', 'Series5', 'Series6', 'Series7'],\n",
       "      dtype=object)"
      ]
     },
     "execution_count": 16,
     "metadata": {},
     "output_type": "execute_result"
    }
   ],
   "source": [
    "der_df.Phenotype.unique()"
   ]
  },
  {
   "cell_type": "code",
   "execution_count": 17,
   "metadata": {},
   "outputs": [
    {
     "data": {
      "text/html": [
       "<div>\n",
       "<style scoped>\n",
       "    .dataframe tbody tr th:only-of-type {\n",
       "        vertical-align: middle;\n",
       "    }\n",
       "\n",
       "    .dataframe tbody tr th {\n",
       "        vertical-align: top;\n",
       "    }\n",
       "\n",
       "    .dataframe thead th {\n",
       "        text-align: right;\n",
       "    }\n",
       "</style>\n",
       "<table border=\"1\" class=\"dataframe\">\n",
       "  <thead>\n",
       "    <tr style=\"text-align: right;\">\n",
       "      <th></th>\n",
       "      <th>Pathway</th>\n",
       "      <th>Down_regulated</th>\n",
       "      <th>Up_regulated</th>\n",
       "      <th>Phenotype</th>\n",
       "    </tr>\n",
       "  </thead>\n",
       "  <tbody>\n",
       "    <tr>\n",
       "      <th>187</th>\n",
       "      <td>Alanine and aspartate metabolism</td>\n",
       "      <td>0.076923</td>\n",
       "      <td>0.000000</td>\n",
       "      <td>Series7</td>\n",
       "    </tr>\n",
       "    <tr>\n",
       "      <th>188</th>\n",
       "      <td>Aminosugar metabolism</td>\n",
       "      <td>0.031250</td>\n",
       "      <td>0.000000</td>\n",
       "      <td>Series7</td>\n",
       "    </tr>\n",
       "    <tr>\n",
       "      <th>189</th>\n",
       "      <td>Arginine and proline metabolism</td>\n",
       "      <td>0.075000</td>\n",
       "      <td>0.000000</td>\n",
       "      <td>Series7</td>\n",
       "    </tr>\n",
       "    <tr>\n",
       "      <th>190</th>\n",
       "      <td>Bile acid synthesis</td>\n",
       "      <td>0.000000</td>\n",
       "      <td>0.010811</td>\n",
       "      <td>Series7</td>\n",
       "    </tr>\n",
       "    <tr>\n",
       "      <th>191</th>\n",
       "      <td>Blood group synthesis</td>\n",
       "      <td>0.021277</td>\n",
       "      <td>0.000000</td>\n",
       "      <td>Series7</td>\n",
       "    </tr>\n",
       "    <tr>\n",
       "      <th>192</th>\n",
       "      <td>Cholesterol metabolism</td>\n",
       "      <td>0.012397</td>\n",
       "      <td>0.210744</td>\n",
       "      <td>Series7</td>\n",
       "    </tr>\n",
       "    <tr>\n",
       "      <th>193</th>\n",
       "      <td>Chondroitin sulfate degradation</td>\n",
       "      <td>0.386364</td>\n",
       "      <td>0.000000</td>\n",
       "      <td>Series7</td>\n",
       "    </tr>\n",
       "    <tr>\n",
       "      <th>194</th>\n",
       "      <td>Citric acid cycle</td>\n",
       "      <td>0.100000</td>\n",
       "      <td>0.150000</td>\n",
       "      <td>Series7</td>\n",
       "    </tr>\n",
       "    <tr>\n",
       "      <th>195</th>\n",
       "      <td>Drug metabolism</td>\n",
       "      <td>0.001745</td>\n",
       "      <td>0.001745</td>\n",
       "      <td>Series7</td>\n",
       "    </tr>\n",
       "    <tr>\n",
       "      <th>196</th>\n",
       "      <td>Eicosanoid metabolism</td>\n",
       "      <td>0.010753</td>\n",
       "      <td>0.000000</td>\n",
       "      <td>Series7</td>\n",
       "    </tr>\n",
       "    <tr>\n",
       "      <th>197</th>\n",
       "      <td>Fatty acid oxidation</td>\n",
       "      <td>0.002081</td>\n",
       "      <td>0.111342</td>\n",
       "      <td>Series7</td>\n",
       "    </tr>\n",
       "    <tr>\n",
       "      <th>198</th>\n",
       "      <td>Fatty acid synthesis</td>\n",
       "      <td>0.000000</td>\n",
       "      <td>0.012552</td>\n",
       "      <td>Series7</td>\n",
       "    </tr>\n",
       "    <tr>\n",
       "      <th>199</th>\n",
       "      <td>Folate metabolism</td>\n",
       "      <td>0.000000</td>\n",
       "      <td>0.084746</td>\n",
       "      <td>Series7</td>\n",
       "    </tr>\n",
       "    <tr>\n",
       "      <th>200</th>\n",
       "      <td>Fructose and mannose metabolism</td>\n",
       "      <td>0.000000</td>\n",
       "      <td>0.043478</td>\n",
       "      <td>Series7</td>\n",
       "    </tr>\n",
       "    <tr>\n",
       "      <th>201</th>\n",
       "      <td>Galactose metabolism</td>\n",
       "      <td>0.000000</td>\n",
       "      <td>0.071429</td>\n",
       "      <td>Series7</td>\n",
       "    </tr>\n",
       "    <tr>\n",
       "      <th>202</th>\n",
       "      <td>Glutamate metabolism</td>\n",
       "      <td>0.062500</td>\n",
       "      <td>0.062500</td>\n",
       "      <td>Series7</td>\n",
       "    </tr>\n",
       "    <tr>\n",
       "      <th>203</th>\n",
       "      <td>Glutathione metabolism</td>\n",
       "      <td>0.125000</td>\n",
       "      <td>0.062500</td>\n",
       "      <td>Series7</td>\n",
       "    </tr>\n",
       "    <tr>\n",
       "      <th>204</th>\n",
       "      <td>Glycerophospholipid metabolism</td>\n",
       "      <td>0.163636</td>\n",
       "      <td>0.006061</td>\n",
       "      <td>Series7</td>\n",
       "    </tr>\n",
       "    <tr>\n",
       "      <th>205</th>\n",
       "      <td>Glycolysis/gluconeogenesis</td>\n",
       "      <td>0.095238</td>\n",
       "      <td>0.071429</td>\n",
       "      <td>Series7</td>\n",
       "    </tr>\n",
       "    <tr>\n",
       "      <th>206</th>\n",
       "      <td>Glycosphingolipid metabolism</td>\n",
       "      <td>0.225352</td>\n",
       "      <td>0.014085</td>\n",
       "      <td>Series7</td>\n",
       "    </tr>\n",
       "    <tr>\n",
       "      <th>207</th>\n",
       "      <td>Glyoxylate and dicarboxylate metabolism</td>\n",
       "      <td>0.214286</td>\n",
       "      <td>0.071429</td>\n",
       "      <td>Series7</td>\n",
       "    </tr>\n",
       "    <tr>\n",
       "      <th>208</th>\n",
       "      <td>Heme synthesis</td>\n",
       "      <td>0.000000</td>\n",
       "      <td>0.052632</td>\n",
       "      <td>Series7</td>\n",
       "    </tr>\n",
       "    <tr>\n",
       "      <th>209</th>\n",
       "      <td>Histidine metabolism</td>\n",
       "      <td>0.071429</td>\n",
       "      <td>0.000000</td>\n",
       "      <td>Series7</td>\n",
       "    </tr>\n",
       "    <tr>\n",
       "      <th>210</th>\n",
       "      <td>Hyaluronan metabolism</td>\n",
       "      <td>0.600000</td>\n",
       "      <td>0.000000</td>\n",
       "      <td>Series7</td>\n",
       "    </tr>\n",
       "    <tr>\n",
       "      <th>211</th>\n",
       "      <td>Inositol phosphate metabolism</td>\n",
       "      <td>0.123077</td>\n",
       "      <td>0.000000</td>\n",
       "      <td>Series7</td>\n",
       "    </tr>\n",
       "    <tr>\n",
       "      <th>212</th>\n",
       "      <td>Keratan sulfate degradation</td>\n",
       "      <td>0.407895</td>\n",
       "      <td>0.026316</td>\n",
       "      <td>Series7</td>\n",
       "    </tr>\n",
       "    <tr>\n",
       "      <th>213</th>\n",
       "      <td>Leukotriene metabolism</td>\n",
       "      <td>0.125000</td>\n",
       "      <td>0.000000</td>\n",
       "      <td>Series7</td>\n",
       "    </tr>\n",
       "    <tr>\n",
       "      <th>214</th>\n",
       "      <td>Lysine metabolism</td>\n",
       "      <td>0.064516</td>\n",
       "      <td>0.096774</td>\n",
       "      <td>Series7</td>\n",
       "    </tr>\n",
       "    <tr>\n",
       "      <th>215</th>\n",
       "      <td>Methionine and cysteine metabolism</td>\n",
       "      <td>0.000000</td>\n",
       "      <td>0.086957</td>\n",
       "      <td>Series7</td>\n",
       "    </tr>\n",
       "    <tr>\n",
       "      <th>216</th>\n",
       "      <td>Miscellaneous</td>\n",
       "      <td>0.065789</td>\n",
       "      <td>0.131579</td>\n",
       "      <td>Series7</td>\n",
       "    </tr>\n",
       "    <tr>\n",
       "      <th>217</th>\n",
       "      <td>N-glycan degradation</td>\n",
       "      <td>0.166667</td>\n",
       "      <td>0.000000</td>\n",
       "      <td>Series7</td>\n",
       "    </tr>\n",
       "    <tr>\n",
       "      <th>218</th>\n",
       "      <td>N-glycan metabolism</td>\n",
       "      <td>0.166667</td>\n",
       "      <td>0.000000</td>\n",
       "      <td>Series7</td>\n",
       "    </tr>\n",
       "    <tr>\n",
       "      <th>219</th>\n",
       "      <td>N-glycan synthesis</td>\n",
       "      <td>0.000000</td>\n",
       "      <td>0.111111</td>\n",
       "      <td>Series7</td>\n",
       "    </tr>\n",
       "    <tr>\n",
       "      <th>220</th>\n",
       "      <td>NAD metabolism</td>\n",
       "      <td>0.259259</td>\n",
       "      <td>0.000000</td>\n",
       "      <td>Series7</td>\n",
       "    </tr>\n",
       "    <tr>\n",
       "      <th>221</th>\n",
       "      <td>Nucleotide interconversion</td>\n",
       "      <td>0.420732</td>\n",
       "      <td>0.042683</td>\n",
       "      <td>Series7</td>\n",
       "    </tr>\n",
       "    <tr>\n",
       "      <th>222</th>\n",
       "      <td>Oxidative phosphorylation</td>\n",
       "      <td>0.200000</td>\n",
       "      <td>0.100000</td>\n",
       "      <td>Series7</td>\n",
       "    </tr>\n",
       "    <tr>\n",
       "      <th>223</th>\n",
       "      <td>Pentose phosphate pathway</td>\n",
       "      <td>0.073171</td>\n",
       "      <td>0.048780</td>\n",
       "      <td>Series7</td>\n",
       "    </tr>\n",
       "    <tr>\n",
       "      <th>224</th>\n",
       "      <td>Phenylalanine metabolism</td>\n",
       "      <td>0.194444</td>\n",
       "      <td>0.000000</td>\n",
       "      <td>Series7</td>\n",
       "    </tr>\n",
       "    <tr>\n",
       "      <th>225</th>\n",
       "      <td>Phosphatidylinositol phosphate metabolism</td>\n",
       "      <td>0.175000</td>\n",
       "      <td>0.000000</td>\n",
       "      <td>Series7</td>\n",
       "    </tr>\n",
       "    <tr>\n",
       "      <th>226</th>\n",
       "      <td>Propanoate metabolism</td>\n",
       "      <td>0.066667</td>\n",
       "      <td>0.000000</td>\n",
       "      <td>Series7</td>\n",
       "    </tr>\n",
       "    <tr>\n",
       "      <th>227</th>\n",
       "      <td>Purine synthesis</td>\n",
       "      <td>0.133333</td>\n",
       "      <td>0.000000</td>\n",
       "      <td>Series7</td>\n",
       "    </tr>\n",
       "    <tr>\n",
       "      <th>228</th>\n",
       "      <td>Pyrimidine synthesis</td>\n",
       "      <td>0.095238</td>\n",
       "      <td>0.047619</td>\n",
       "      <td>Series7</td>\n",
       "    </tr>\n",
       "    <tr>\n",
       "      <th>229</th>\n",
       "      <td>Pyruvate metabolism</td>\n",
       "      <td>0.093750</td>\n",
       "      <td>0.125000</td>\n",
       "      <td>Series7</td>\n",
       "    </tr>\n",
       "    <tr>\n",
       "      <th>230</th>\n",
       "      <td>Sphingolipid metabolism</td>\n",
       "      <td>0.075188</td>\n",
       "      <td>0.007519</td>\n",
       "      <td>Series7</td>\n",
       "    </tr>\n",
       "    <tr>\n",
       "      <th>231</th>\n",
       "      <td>Steroid metabolism</td>\n",
       "      <td>0.000000</td>\n",
       "      <td>0.011111</td>\n",
       "      <td>Series7</td>\n",
       "    </tr>\n",
       "    <tr>\n",
       "      <th>232</th>\n",
       "      <td>Tetrahydrobiopterin metabolism</td>\n",
       "      <td>0.166667</td>\n",
       "      <td>0.166667</td>\n",
       "      <td>Series7</td>\n",
       "    </tr>\n",
       "    <tr>\n",
       "      <th>233</th>\n",
       "      <td>Transport, extracellular</td>\n",
       "      <td>0.024510</td>\n",
       "      <td>0.008296</td>\n",
       "      <td>Series7</td>\n",
       "    </tr>\n",
       "    <tr>\n",
       "      <th>234</th>\n",
       "      <td>Transport, golgi apparatus</td>\n",
       "      <td>0.020408</td>\n",
       "      <td>0.010204</td>\n",
       "      <td>Series7</td>\n",
       "    </tr>\n",
       "    <tr>\n",
       "      <th>235</th>\n",
       "      <td>Transport, lysosomal</td>\n",
       "      <td>0.009524</td>\n",
       "      <td>0.000000</td>\n",
       "      <td>Series7</td>\n",
       "    </tr>\n",
       "    <tr>\n",
       "      <th>236</th>\n",
       "      <td>Transport, mitochondrial</td>\n",
       "      <td>0.004415</td>\n",
       "      <td>0.011038</td>\n",
       "      <td>Series7</td>\n",
       "    </tr>\n",
       "    <tr>\n",
       "      <th>237</th>\n",
       "      <td>Transport, nuclear</td>\n",
       "      <td>0.000000</td>\n",
       "      <td>0.014085</td>\n",
       "      <td>Series7</td>\n",
       "    </tr>\n",
       "    <tr>\n",
       "      <th>238</th>\n",
       "      <td>Tryptophan metabolism</td>\n",
       "      <td>0.044444</td>\n",
       "      <td>0.066667</td>\n",
       "      <td>Series7</td>\n",
       "    </tr>\n",
       "    <tr>\n",
       "      <th>239</th>\n",
       "      <td>Tyrosine metabolism</td>\n",
       "      <td>0.204301</td>\n",
       "      <td>0.010753</td>\n",
       "      <td>Series7</td>\n",
       "    </tr>\n",
       "    <tr>\n",
       "      <th>240</th>\n",
       "      <td>Urea cycle</td>\n",
       "      <td>0.050000</td>\n",
       "      <td>0.000000</td>\n",
       "      <td>Series7</td>\n",
       "    </tr>\n",
       "    <tr>\n",
       "      <th>241</th>\n",
       "      <td>Valine, leucine, and isoleucine metabolism</td>\n",
       "      <td>0.000000</td>\n",
       "      <td>0.044444</td>\n",
       "      <td>Series7</td>\n",
       "    </tr>\n",
       "    <tr>\n",
       "      <th>242</th>\n",
       "      <td>Vitamin A metabolism</td>\n",
       "      <td>0.042553</td>\n",
       "      <td>0.000000</td>\n",
       "      <td>Series7</td>\n",
       "    </tr>\n",
       "    <tr>\n",
       "      <th>243</th>\n",
       "      <td>Vitamin B2 metabolism</td>\n",
       "      <td>0.111111</td>\n",
       "      <td>0.000000</td>\n",
       "      <td>Series7</td>\n",
       "    </tr>\n",
       "    <tr>\n",
       "      <th>244</th>\n",
       "      <td>Vitamin C metabolism</td>\n",
       "      <td>0.100000</td>\n",
       "      <td>0.000000</td>\n",
       "      <td>Series7</td>\n",
       "    </tr>\n",
       "  </tbody>\n",
       "</table>\n",
       "</div>"
      ],
      "text/plain": [
       "                                        Pathway  Down_regulated  Up_regulated  \\\n",
       "187            Alanine and aspartate metabolism        0.076923      0.000000   \n",
       "188                       Aminosugar metabolism        0.031250      0.000000   \n",
       "189             Arginine and proline metabolism        0.075000      0.000000   \n",
       "190                         Bile acid synthesis        0.000000      0.010811   \n",
       "191                       Blood group synthesis        0.021277      0.000000   \n",
       "192                      Cholesterol metabolism        0.012397      0.210744   \n",
       "193             Chondroitin sulfate degradation        0.386364      0.000000   \n",
       "194                           Citric acid cycle        0.100000      0.150000   \n",
       "195                             Drug metabolism        0.001745      0.001745   \n",
       "196                       Eicosanoid metabolism        0.010753      0.000000   \n",
       "197                        Fatty acid oxidation        0.002081      0.111342   \n",
       "198                        Fatty acid synthesis        0.000000      0.012552   \n",
       "199                           Folate metabolism        0.000000      0.084746   \n",
       "200             Fructose and mannose metabolism        0.000000      0.043478   \n",
       "201                        Galactose metabolism        0.000000      0.071429   \n",
       "202                        Glutamate metabolism        0.062500      0.062500   \n",
       "203                      Glutathione metabolism        0.125000      0.062500   \n",
       "204              Glycerophospholipid metabolism        0.163636      0.006061   \n",
       "205                  Glycolysis/gluconeogenesis        0.095238      0.071429   \n",
       "206                Glycosphingolipid metabolism        0.225352      0.014085   \n",
       "207     Glyoxylate and dicarboxylate metabolism        0.214286      0.071429   \n",
       "208                              Heme synthesis        0.000000      0.052632   \n",
       "209                        Histidine metabolism        0.071429      0.000000   \n",
       "210                       Hyaluronan metabolism        0.600000      0.000000   \n",
       "211               Inositol phosphate metabolism        0.123077      0.000000   \n",
       "212                 Keratan sulfate degradation        0.407895      0.026316   \n",
       "213                      Leukotriene metabolism        0.125000      0.000000   \n",
       "214                           Lysine metabolism        0.064516      0.096774   \n",
       "215          Methionine and cysteine metabolism        0.000000      0.086957   \n",
       "216                               Miscellaneous        0.065789      0.131579   \n",
       "217                        N-glycan degradation        0.166667      0.000000   \n",
       "218                         N-glycan metabolism        0.166667      0.000000   \n",
       "219                          N-glycan synthesis        0.000000      0.111111   \n",
       "220                              NAD metabolism        0.259259      0.000000   \n",
       "221                  Nucleotide interconversion        0.420732      0.042683   \n",
       "222                   Oxidative phosphorylation        0.200000      0.100000   \n",
       "223                   Pentose phosphate pathway        0.073171      0.048780   \n",
       "224                    Phenylalanine metabolism        0.194444      0.000000   \n",
       "225   Phosphatidylinositol phosphate metabolism        0.175000      0.000000   \n",
       "226                       Propanoate metabolism        0.066667      0.000000   \n",
       "227                            Purine synthesis        0.133333      0.000000   \n",
       "228                        Pyrimidine synthesis        0.095238      0.047619   \n",
       "229                         Pyruvate metabolism        0.093750      0.125000   \n",
       "230                     Sphingolipid metabolism        0.075188      0.007519   \n",
       "231                          Steroid metabolism        0.000000      0.011111   \n",
       "232              Tetrahydrobiopterin metabolism        0.166667      0.166667   \n",
       "233                    Transport, extracellular        0.024510      0.008296   \n",
       "234                  Transport, golgi apparatus        0.020408      0.010204   \n",
       "235                        Transport, lysosomal        0.009524      0.000000   \n",
       "236                    Transport, mitochondrial        0.004415      0.011038   \n",
       "237                          Transport, nuclear        0.000000      0.014085   \n",
       "238                       Tryptophan metabolism        0.044444      0.066667   \n",
       "239                         Tyrosine metabolism        0.204301      0.010753   \n",
       "240                                  Urea cycle        0.050000      0.000000   \n",
       "241  Valine, leucine, and isoleucine metabolism        0.000000      0.044444   \n",
       "242                        Vitamin A metabolism        0.042553      0.000000   \n",
       "243                       Vitamin B2 metabolism        0.111111      0.000000   \n",
       "244                        Vitamin C metabolism        0.100000      0.000000   \n",
       "\n",
       "    Phenotype  \n",
       "187   Series7  \n",
       "188   Series7  \n",
       "189   Series7  \n",
       "190   Series7  \n",
       "191   Series7  \n",
       "192   Series7  \n",
       "193   Series7  \n",
       "194   Series7  \n",
       "195   Series7  \n",
       "196   Series7  \n",
       "197   Series7  \n",
       "198   Series7  \n",
       "199   Series7  \n",
       "200   Series7  \n",
       "201   Series7  \n",
       "202   Series7  \n",
       "203   Series7  \n",
       "204   Series7  \n",
       "205   Series7  \n",
       "206   Series7  \n",
       "207   Series7  \n",
       "208   Series7  \n",
       "209   Series7  \n",
       "210   Series7  \n",
       "211   Series7  \n",
       "212   Series7  \n",
       "213   Series7  \n",
       "214   Series7  \n",
       "215   Series7  \n",
       "216   Series7  \n",
       "217   Series7  \n",
       "218   Series7  \n",
       "219   Series7  \n",
       "220   Series7  \n",
       "221   Series7  \n",
       "222   Series7  \n",
       "223   Series7  \n",
       "224   Series7  \n",
       "225   Series7  \n",
       "226   Series7  \n",
       "227   Series7  \n",
       "228   Series7  \n",
       "229   Series7  \n",
       "230   Series7  \n",
       "231   Series7  \n",
       "232   Series7  \n",
       "233   Series7  \n",
       "234   Series7  \n",
       "235   Series7  \n",
       "236   Series7  \n",
       "237   Series7  \n",
       "238   Series7  \n",
       "239   Series7  \n",
       "240   Series7  \n",
       "241   Series7  \n",
       "242   Series7  \n",
       "243   Series7  \n",
       "244   Series7  "
      ]
     },
     "execution_count": 17,
     "metadata": {},
     "output_type": "execute_result"
    }
   ],
   "source": [
    "der_df.loc[der_df.Phenotype=='Series7',:]"
   ]
  },
  {
   "cell_type": "code",
   "execution_count": 18,
   "metadata": {},
   "outputs": [],
   "source": [
    "der_down = der_df.pivot_table(values='Down_regulated',index='Pathway', columns='Phenotype',aggfunc='mean',fill_value=None,dropna=False)\n",
    "der_up = der_df.pivot_table(values='Up_regulated',index='Pathway', columns='Phenotype',aggfunc='mean',fill_value=None,dropna=False)\n",
    "der_down = der_down.fillna(0)\n",
    "der_up = der_up.fillna(0)\n"
   ]
  },
  {
   "cell_type": "code",
   "execution_count": 19,
   "metadata": {},
   "outputs": [
    {
     "data": {
      "text/html": [
       "<div>\n",
       "<style scoped>\n",
       "    .dataframe tbody tr th:only-of-type {\n",
       "        vertical-align: middle;\n",
       "    }\n",
       "\n",
       "    .dataframe tbody tr th {\n",
       "        vertical-align: top;\n",
       "    }\n",
       "\n",
       "    .dataframe thead th {\n",
       "        text-align: right;\n",
       "    }\n",
       "</style>\n",
       "<table border=\"1\" class=\"dataframe\">\n",
       "  <thead>\n",
       "    <tr style=\"text-align: right;\">\n",
       "      <th>Phenotype</th>\n",
       "      <th>Series1</th>\n",
       "      <th>Series16</th>\n",
       "      <th>Series5</th>\n",
       "      <th>Series6</th>\n",
       "      <th>Series7</th>\n",
       "    </tr>\n",
       "    <tr>\n",
       "      <th>Pathway</th>\n",
       "      <th></th>\n",
       "      <th></th>\n",
       "      <th></th>\n",
       "      <th></th>\n",
       "      <th></th>\n",
       "    </tr>\n",
       "  </thead>\n",
       "  <tbody>\n",
       "    <tr>\n",
       "      <th>Alanine and aspartate metabolism</th>\n",
       "      <td>0.0</td>\n",
       "      <td>0.076923</td>\n",
       "      <td>0.0</td>\n",
       "      <td>0.0</td>\n",
       "      <td>0.0</td>\n",
       "    </tr>\n",
       "    <tr>\n",
       "      <th>Aminosugar metabolism</th>\n",
       "      <td>0.0</td>\n",
       "      <td>0.000000</td>\n",
       "      <td>0.0</td>\n",
       "      <td>0.0</td>\n",
       "      <td>0.0</td>\n",
       "    </tr>\n",
       "  </tbody>\n",
       "</table>\n",
       "</div>"
      ],
      "text/plain": [
       "Phenotype                         Series1  Series16  Series5  Series6  Series7\n",
       "Pathway                                                                       \n",
       "Alanine and aspartate metabolism      0.0  0.076923      0.0      0.0      0.0\n",
       "Aminosugar metabolism                 0.0  0.000000      0.0      0.0      0.0"
      ]
     },
     "execution_count": 19,
     "metadata": {},
     "output_type": "execute_result"
    }
   ],
   "source": [
    "der_up.head(2)"
   ]
  },
  {
   "cell_type": "code",
   "execution_count": 20,
   "metadata": {},
   "outputs": [
    {
     "data": {
      "text/plain": [
       "(83, 5)"
      ]
     },
     "execution_count": 20,
     "metadata": {},
     "output_type": "execute_result"
    }
   ],
   "source": [
    "der_up.shape"
   ]
  },
  {
   "cell_type": "code",
   "execution_count": 21,
   "metadata": {},
   "outputs": [
    {
     "data": {
      "text/plain": [
       "(83, 5)"
      ]
     },
     "execution_count": 21,
     "metadata": {},
     "output_type": "execute_result"
    }
   ],
   "source": [
    "der_down.shape"
   ]
  },
  {
   "cell_type": "code",
   "execution_count": 22,
   "metadata": {},
   "outputs": [],
   "source": [
    "#g = sns.clustermap(der_down,col_cluster=False,row_cluster=True,cmap=\"Blues\",figsize=(12,(.2*(len(der_down.index)))))\n",
    "#g.savefig('output_summ/Differentially_Expressed_Reactions_Down_Sorted.png', dpi=400,bbox_inches='tight')\n",
    "#g = sns.clustermap(der_up,col_cluster=False,row_cluster=True,cmap=\"Blues\", figsize=(12,(.2*(len(der_up.index)))))\n",
    "#g.savefig('output_summ/Differentially_Expressed_Reactions_Up_Sorted.png', dpi=400,bbox_inches='tight')"
   ]
  },
  {
   "cell_type": "code",
   "execution_count": 23,
   "metadata": {},
   "outputs": [],
   "source": [
    "der_up = der_up.loc[:,['Series6', 'Series5', 'Series16', 'Series1', 'Series7']]\n",
    "der_down = der_down.loc[:,[ 'Series6', 'Series5', 'Series16', 'Series1', 'Series7']]\n",
    "der_up.columns = ['A549_0.2_ACE2',  'A549_2','A549_2_ACE2','NHBE_2','Calu3_2']\n",
    "der_down.columns = [ 'A549_0.2_ACE2',  'A549_2','A549_2_ACE2','NHBE_2','Calu3_2']"
   ]
  },
  {
   "cell_type": "code",
   "execution_count": 24,
   "metadata": {},
   "outputs": [],
   "source": [
    "df_final = der_down.merge(der_up,on='Pathway')\n"
   ]
  },
  {
   "cell_type": "code",
   "execution_count": 25,
   "metadata": {},
   "outputs": [],
   "source": [
    "columns = df_final.columns\n",
    "columns = [x.replace('_x','') for x in columns]\n",
    "columns = [x.replace('_y','') for x in columns]\n",
    "df_final.index.name = ''\n",
    "df_final.columns = columns"
   ]
  },
  {
   "cell_type": "code",
   "execution_count": 26,
   "metadata": {},
   "outputs": [
    {
     "data": {
      "text/plain": [
       "(83, 10)"
      ]
     },
     "execution_count": 26,
     "metadata": {},
     "output_type": "execute_result"
    }
   ],
   "source": [
    "df_final.shape"
   ]
  },
  {
   "cell_type": "code",
   "execution_count": 27,
   "metadata": {},
   "outputs": [
    {
     "data": {
      "text/plain": [
       "Index(['A549_0.2_ACE2', 'A549_2', 'A549_2_ACE2', 'NHBE_2', 'Calu3_2',\n",
       "       'A549_0.2_ACE2', 'A549_2', 'A549_2_ACE2', 'NHBE_2', 'Calu3_2'],\n",
       "      dtype='object')"
      ]
     },
     "execution_count": 27,
     "metadata": {},
     "output_type": "execute_result"
    }
   ],
   "source": [
    "df_final.columns"
   ]
  },
  {
   "cell_type": "code",
   "execution_count": 28,
   "metadata": {},
   "outputs": [],
   "source": [
    "#df_final.columns = ['A549_2_ACE2_down', 'A549_2_down','A549_0.2_ACE2_down','Calu3_2_down',\n",
    "#                    'A549_2_ACE2_up', 'A549_2_up','A549_0.2_ACE2_up','Calu3_2_up']"
   ]
  },
  {
   "cell_type": "code",
   "execution_count": 29,
   "metadata": {},
   "outputs": [
    {
     "data": {
      "text/plain": [
       "Text(0.5, 1, 'Down-Regulated                    Up-Regulated')"
      ]
     },
     "execution_count": 29,
     "metadata": {},
     "output_type": "execute_result"
    },
    {
     "data": {
      "image/png": "[encoded data removed]",
      "text/plain": [
       "<Figure size 864x1613.52 with 4 Axes>"
      ]
     },
     "metadata": {
      "needs_background": "light"
     },
     "output_type": "display_data"
    }
   ],
   "source": [
    "g = sns.clustermap(df_final*100,col_cluster=False,row_cluster=True,mask=False,\n",
    "                   #standard_scale=0,\n",
    "                   cmap=\"Blues\",\n",
    "                   cbar_kws={'label':'Reactions per Pathway [%]'},#,\"orientation\": \"horizontal\"},\n",
    "                   cbar_pos=(0.07, .5, .02, .2),\n",
    "                   #square=True,\n",
    "                   figsize=(12,(.27*(len(df_final.index))))#,\n",
    "                   #dendrogram_ratio=(.1, .2),\n",
    "                  )\n",
    "#g.cax.set_visible(True)\n",
    "#l2=g.ax_heatmap.legend(loc='center left',bbox_to_anchor=(1.01,0.85),handles=legend_TN,frameon=True)\n",
    "#l2.set_title(title='tissue type',prop={'size':10})\n",
    "g.ax_row_dendrogram.set_visible(False)\n",
    "g.ax_col_dendrogram.set_visible(False)\n",
    "plt.setp(g.ax_heatmap.get_xticklabels(), rotation=55)\n",
    "g.ax_heatmap.axvline(5, 0, 1, linewidth=11, c='grey')\n",
    "g.ax_heatmap.set_title('Down-Regulated                    Up-Regulated')\n",
    "# set title and set font of title\n",
    "#ax.set_title(\"Number of traffic accidents per day & hour combination\", fontsize=30, fontweight=\"bold\")\n",
    "#plt.legend(handles, lut, title='Species',           bbox_to_anchor=(1, 1), bbox_transform=plt.gcf().transFigure, loc='upper right')\n",
    "#g.savefig('output_summ/Differentially_Expressed_Reactions_All_Sorted.png', dpi=400,bbox_inches='tight')\n",
    "#g.savefig('Figs/Differentially_Expressed_Reactions_All_Sorted.svg', dpi=400,bbox_inches='tight')"
   ]
  },
  {
   "cell_type": "code",
   "execution_count": null,
   "metadata": {},
   "outputs": [],
   "source": []
  }
 ],
 "metadata": {
  "kernelspec": {
   "display_name": "Python 3",
   "language": "python",
   "name": "python3"
  },
  "language_info": {
   "codemirror_mode": {
    "name": "ipython",
    "version": 3
   },
   "file_extension": ".py",
   "mimetype": "text/x-python",
   "name": "python",
   "nbconvert_exporter": "python",
   "pygments_lexer": "ipython3",
   "version": "3.7.4"
  }
 },
 "nbformat": 4,
 "nbformat_minor": 2
}
