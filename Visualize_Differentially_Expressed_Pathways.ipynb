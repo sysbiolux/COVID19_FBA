{
 "cells": [
  {
   "cell_type": "code",
   "execution_count": 3,
   "metadata": {},
   "outputs": [],
   "source": [
    "import numpy as np\n",
    "import pandas as pd\n",
    "import seaborn as sns\n",
    "from matplotlib import pyplot as plt"
   ]
  },
  {
   "cell_type": "code",
   "execution_count": 4,
   "metadata": {},
   "outputs": [
    {
     "data": {
      "text/plain": [
       "MultiIndex([('Var2', 'count')],\n",
       "           )"
      ]
     },
     "execution_count": 4,
     "metadata": {},
     "output_type": "execute_result"
    }
   ],
   "source": [
    "# Read Recon pathways reactions from RECON3 subsystems\n",
    "pathway_df = pd.read_csv('RECON_Pathway_Reactions.csv')\n",
    "pathway_df.head()\n",
    "pathway_df_unq = pathway_df.groupby(['Var1']).agg(['count'])\n",
    "pathway_df_unq.columns"
   ]
  },
  {
   "cell_type": "code",
   "execution_count": 5,
   "metadata": {},
   "outputs": [
    {
     "data": {
      "text/html": [
       "<div>\n",
       "<style scoped>\n",
       "    .dataframe tbody tr th:only-of-type {\n",
       "        vertical-align: middle;\n",
       "    }\n",
       "\n",
       "    .dataframe tbody tr th {\n",
       "        vertical-align: top;\n",
       "    }\n",
       "\n",
       "    .dataframe thead th {\n",
       "        text-align: right;\n",
       "    }\n",
       "</style>\n",
       "<table border=\"1\" class=\"dataframe\">\n",
       "  <thead>\n",
       "    <tr style=\"text-align: right;\">\n",
       "      <th></th>\n",
       "      <th>Var1</th>\n",
       "      <th>Var2</th>\n",
       "    </tr>\n",
       "  </thead>\n",
       "  <tbody>\n",
       "    <tr>\n",
       "      <th>0</th>\n",
       "      <td>Transport, lysosomal</td>\n",
       "      <td>5-Glutamyl-10Fthf Transport, Lysosomal</td>\n",
       "    </tr>\n",
       "    <tr>\n",
       "      <th>1</th>\n",
       "      <td>Transport, mitochondrial</td>\n",
       "      <td>5-Glutamyl-10Fthf Transport, Mitochondrial</td>\n",
       "    </tr>\n",
       "    <tr>\n",
       "      <th>2</th>\n",
       "      <td>Transport, lysosomal</td>\n",
       "      <td>6-Glutamyl-10Fthf Transport, Lysosomal</td>\n",
       "    </tr>\n",
       "    <tr>\n",
       "      <th>3</th>\n",
       "      <td>Transport, mitochondrial</td>\n",
       "      <td>6-Glutamyl-10Fthf Transport, Mitochondrial</td>\n",
       "    </tr>\n",
       "    <tr>\n",
       "      <th>4</th>\n",
       "      <td>Transport, lysosomal</td>\n",
       "      <td>7-Glutamyl-10Fthf Transport, Lysosomal</td>\n",
       "    </tr>\n",
       "  </tbody>\n",
       "</table>\n",
       "</div>"
      ],
      "text/plain": [
       "                       Var1                                        Var2\n",
       "0      Transport, lysosomal      5-Glutamyl-10Fthf Transport, Lysosomal\n",
       "1  Transport, mitochondrial  5-Glutamyl-10Fthf Transport, Mitochondrial\n",
       "2      Transport, lysosomal      6-Glutamyl-10Fthf Transport, Lysosomal\n",
       "3  Transport, mitochondrial  6-Glutamyl-10Fthf Transport, Mitochondrial\n",
       "4      Transport, lysosomal      7-Glutamyl-10Fthf Transport, Lysosomal"
      ]
     },
     "execution_count": 5,
     "metadata": {},
     "output_type": "execute_result"
    }
   ],
   "source": [
    "pathway_df.head()"
   ]
  },
  {
   "cell_type": "code",
   "execution_count": 6,
   "metadata": {
    "scrolled": true
   },
   "outputs": [
    {
     "data": {
      "text/html": [
       "<div>\n",
       "<style scoped>\n",
       "    .dataframe tbody tr th:only-of-type {\n",
       "        vertical-align: middle;\n",
       "    }\n",
       "\n",
       "    .dataframe tbody tr th {\n",
       "        vertical-align: top;\n",
       "    }\n",
       "\n",
       "    .dataframe thead th {\n",
       "        text-align: right;\n",
       "    }\n",
       "</style>\n",
       "<table border=\"1\" class=\"dataframe\">\n",
       "  <thead>\n",
       "    <tr style=\"text-align: right;\">\n",
       "      <th></th>\n",
       "      <th>Pathway</th>\n",
       "      <th>Down_regulated</th>\n",
       "      <th>Up_regulated</th>\n",
       "      <th>Phenotype</th>\n",
       "    </tr>\n",
       "  </thead>\n",
       "  <tbody>\n",
       "    <tr>\n",
       "      <th>0</th>\n",
       "      <td>Arginine and proline metabolism</td>\n",
       "      <td>0</td>\n",
       "      <td>2</td>\n",
       "      <td>Series1</td>\n",
       "    </tr>\n",
       "    <tr>\n",
       "      <th>1</th>\n",
       "      <td>Chondroitin synthesis</td>\n",
       "      <td>0</td>\n",
       "      <td>1</td>\n",
       "      <td>Series1</td>\n",
       "    </tr>\n",
       "    <tr>\n",
       "      <th>2</th>\n",
       "      <td>Oxidative phosphorylation</td>\n",
       "      <td>1</td>\n",
       "      <td>0</td>\n",
       "      <td>Series1</td>\n",
       "    </tr>\n",
       "    <tr>\n",
       "      <th>3</th>\n",
       "      <td>Urea cycle</td>\n",
       "      <td>0</td>\n",
       "      <td>1</td>\n",
       "      <td>Series1</td>\n",
       "    </tr>\n",
       "    <tr>\n",
       "      <th>4</th>\n",
       "      <td>Alanine and aspartate metabolism</td>\n",
       "      <td>2</td>\n",
       "      <td>1</td>\n",
       "      <td>Series16</td>\n",
       "    </tr>\n",
       "  </tbody>\n",
       "</table>\n",
       "</div>"
      ],
      "text/plain": [
       "                            Pathway  Down_regulated  Up_regulated Phenotype\n",
       "0   Arginine and proline metabolism               0             2   Series1\n",
       "1             Chondroitin synthesis               0             1   Series1\n",
       "2         Oxidative phosphorylation               1             0   Series1\n",
       "3                        Urea cycle               0             1   Series1\n",
       "4  Alanine and aspartate metabolism               2             1  Series16"
      ]
     },
     "execution_count": 6,
     "metadata": {},
     "output_type": "execute_result"
    }
   ],
   "source": [
    "der_df = pd.read_csv('./data/severity_study/Differentially_Expressed_Reactions.csv')\n",
    "der_df.iloc[:,1] = der_df.iloc[:,1]*-1\n",
    "der_df.head()"
   ]
  },
  {
   "cell_type": "code",
   "execution_count": 7,
   "metadata": {},
   "outputs": [
    {
     "data": {
      "text/plain": [
       "array(['Series1', 'Series16', 'Series5', 'Series6', 'Series7'],\n",
       "      dtype=object)"
      ]
     },
     "execution_count": 7,
     "metadata": {},
     "output_type": "execute_result"
    }
   ],
   "source": [
    "# Conditions with metabolic DER\n",
    "der_df.Phenotype.unique()"
   ]
  },
  {
   "cell_type": "code",
   "execution_count": 8,
   "metadata": {},
   "outputs": [
    {
     "data": {
      "text/plain": [
       "(245, 4)"
      ]
     },
     "execution_count": 8,
     "metadata": {},
     "output_type": "execute_result"
    }
   ],
   "source": [
    "der_df.shape"
   ]
  },
  {
   "cell_type": "code",
   "execution_count": 9,
   "metadata": {},
   "outputs": [],
   "source": [
    "der_df = der_df.loc[np.logical_or(der_df.iloc[:,1]>3,der_df.iloc[:,2]>3),:]\n",
    "# Calculate the percentage of rxns in a pathway\n",
    "for i in range(der_df.shape[0]):\n",
    "    pathway = der_df.iloc[i,0]\n",
    "    rxns_count = int(pathway_df_unq.loc[pathway,:].values)\n",
    "    der_df.iloc[i,1] = der_df.iloc[i,1]/rxns_count\n",
    "    der_df.iloc[i,2] = der_df.iloc[i,2]/rxns_count"
   ]
  },
  {
   "cell_type": "code",
   "execution_count": 10,
   "metadata": {},
   "outputs": [
    {
     "data": {
      "text/plain": [
       "(102, 4)"
      ]
     },
     "execution_count": 10,
     "metadata": {},
     "output_type": "execute_result"
    }
   ],
   "source": [
    "der_df.shape"
   ]
  },
  {
   "cell_type": "code",
   "execution_count": 11,
   "metadata": {},
   "outputs": [
    {
     "data": {
      "text/plain": [
       "array(['Aminosugar metabolism',\n",
       "       'Androgen and estrogen synthesis and metabolism',\n",
       "       'Arachidonic acid metabolism', 'Bile acid synthesis',\n",
       "       'Cholesterol metabolism', 'Chondroitin sulfate degradation',\n",
       "       'Chondroitin synthesis', 'Drug metabolism',\n",
       "       'Eicosanoid metabolism', 'Fatty acid oxidation',\n",
       "       'Fatty acid synthesis', 'Folate metabolism',\n",
       "       'Fructose and mannose metabolism', 'Galactose metabolism',\n",
       "       'Glutathione metabolism', 'Glycerophospholipid metabolism',\n",
       "       'Glycolysis/gluconeogenesis', 'Glycosphingolipid metabolism',\n",
       "       'Glyoxylate and dicarboxylate metabolism',\n",
       "       'Heparan sulfate degradation', 'Inositol phosphate metabolism',\n",
       "       'Keratan sulfate degradation', 'Keratan sulfate synthesis',\n",
       "       'Lysine metabolism', 'Methionine and cysteine metabolism',\n",
       "       'Miscellaneous', 'NAD metabolism', 'Nucleotide interconversion',\n",
       "       'Oxidative phosphorylation', 'Pentose phosphate pathway',\n",
       "       'Phenylalanine metabolism',\n",
       "       'Phosphatidylinositol phosphate metabolism',\n",
       "       'Propanoate metabolism', 'Purine catabolism',\n",
       "       'Pyrimidine catabolism', 'Pyruvate metabolism',\n",
       "       'Sphingolipid metabolism', 'Starch and sucrose metabolism',\n",
       "       'Steroid metabolism', 'Transport, endoplasmic reticular',\n",
       "       'Transport, extracellular', 'Transport, mitochondrial',\n",
       "       'Tryptophan metabolism', 'Tyrosine metabolism', 'Urea cycle',\n",
       "       'Valine, leucine, and isoleucine metabolism',\n",
       "       'Vitamin A metabolism'], dtype=object)"
      ]
     },
     "execution_count": 11,
     "metadata": {},
     "output_type": "execute_result"
    }
   ],
   "source": [
    "der_df.Pathway.unique()"
   ]
  },
  {
   "cell_type": "code",
   "execution_count": 12,
   "metadata": {},
   "outputs": [],
   "source": [
    "der_df = der_df.loc[np.logical_or(der_df.iloc[:,1]>0.05,der_df.iloc[:,2]>0.05),:]"
   ]
  },
  {
   "cell_type": "code",
   "execution_count": 13,
   "metadata": {},
   "outputs": [
    {
     "data": {
      "text/plain": [
       "(91, 4)"
      ]
     },
     "execution_count": 13,
     "metadata": {},
     "output_type": "execute_result"
    }
   ],
   "source": [
    "der_df.shape"
   ]
  },
  {
   "cell_type": "code",
   "execution_count": 14,
   "metadata": {},
   "outputs": [
    {
     "data": {
      "text/html": [
       "<div>\n",
       "<style scoped>\n",
       "    .dataframe tbody tr th:only-of-type {\n",
       "        vertical-align: middle;\n",
       "    }\n",
       "\n",
       "    .dataframe tbody tr th {\n",
       "        vertical-align: top;\n",
       "    }\n",
       "\n",
       "    .dataframe thead th {\n",
       "        text-align: right;\n",
       "    }\n",
       "</style>\n",
       "<table border=\"1\" class=\"dataframe\">\n",
       "  <thead>\n",
       "    <tr style=\"text-align: right;\">\n",
       "      <th></th>\n",
       "      <th>Pathway</th>\n",
       "      <th>Down_regulated</th>\n",
       "      <th>Up_regulated</th>\n",
       "      <th>Phenotype</th>\n",
       "    </tr>\n",
       "  </thead>\n",
       "  <tbody>\n",
       "    <tr>\n",
       "      <th>5</th>\n",
       "      <td>Aminosugar metabolism</td>\n",
       "      <td>0.187500</td>\n",
       "      <td>0.000000</td>\n",
       "      <td>Series16</td>\n",
       "    </tr>\n",
       "    <tr>\n",
       "      <th>6</th>\n",
       "      <td>Androgen and estrogen synthesis and metabolism</td>\n",
       "      <td>0.423077</td>\n",
       "      <td>0.000000</td>\n",
       "      <td>Series16</td>\n",
       "    </tr>\n",
       "    <tr>\n",
       "      <th>7</th>\n",
       "      <td>Arachidonic acid metabolism</td>\n",
       "      <td>0.170732</td>\n",
       "      <td>0.000000</td>\n",
       "      <td>Series16</td>\n",
       "    </tr>\n",
       "    <tr>\n",
       "      <th>10</th>\n",
       "      <td>Bile acid synthesis</td>\n",
       "      <td>0.318919</td>\n",
       "      <td>0.005405</td>\n",
       "      <td>Series16</td>\n",
       "    </tr>\n",
       "    <tr>\n",
       "      <th>13</th>\n",
       "      <td>Chondroitin sulfate degradation</td>\n",
       "      <td>0.545455</td>\n",
       "      <td>0.000000</td>\n",
       "      <td>Series16</td>\n",
       "    </tr>\n",
       "    <tr>\n",
       "      <th>...</th>\n",
       "      <td>...</td>\n",
       "      <td>...</td>\n",
       "      <td>...</td>\n",
       "      <td>...</td>\n",
       "    </tr>\n",
       "    <tr>\n",
       "      <th>224</th>\n",
       "      <td>Phenylalanine metabolism</td>\n",
       "      <td>0.194444</td>\n",
       "      <td>0.000000</td>\n",
       "      <td>Series7</td>\n",
       "    </tr>\n",
       "    <tr>\n",
       "      <th>225</th>\n",
       "      <td>Phosphatidylinositol phosphate metabolism</td>\n",
       "      <td>0.175000</td>\n",
       "      <td>0.000000</td>\n",
       "      <td>Series7</td>\n",
       "    </tr>\n",
       "    <tr>\n",
       "      <th>229</th>\n",
       "      <td>Pyruvate metabolism</td>\n",
       "      <td>0.093750</td>\n",
       "      <td>0.125000</td>\n",
       "      <td>Series7</td>\n",
       "    </tr>\n",
       "    <tr>\n",
       "      <th>230</th>\n",
       "      <td>Sphingolipid metabolism</td>\n",
       "      <td>0.075188</td>\n",
       "      <td>0.007519</td>\n",
       "      <td>Series7</td>\n",
       "    </tr>\n",
       "    <tr>\n",
       "      <th>239</th>\n",
       "      <td>Tyrosine metabolism</td>\n",
       "      <td>0.204301</td>\n",
       "      <td>0.010753</td>\n",
       "      <td>Series7</td>\n",
       "    </tr>\n",
       "  </tbody>\n",
       "</table>\n",
       "<p>91 rows × 4 columns</p>\n",
       "</div>"
      ],
      "text/plain": [
       "                                            Pathway  Down_regulated  \\\n",
       "5                             Aminosugar metabolism        0.187500   \n",
       "6    Androgen and estrogen synthesis and metabolism        0.423077   \n",
       "7                       Arachidonic acid metabolism        0.170732   \n",
       "10                              Bile acid synthesis        0.318919   \n",
       "13                  Chondroitin sulfate degradation        0.545455   \n",
       "..                                              ...             ...   \n",
       "224                        Phenylalanine metabolism        0.194444   \n",
       "225       Phosphatidylinositol phosphate metabolism        0.175000   \n",
       "229                             Pyruvate metabolism        0.093750   \n",
       "230                         Sphingolipid metabolism        0.075188   \n",
       "239                             Tyrosine metabolism        0.204301   \n",
       "\n",
       "     Up_regulated Phenotype  \n",
       "5        0.000000  Series16  \n",
       "6        0.000000  Series16  \n",
       "7        0.000000  Series16  \n",
       "10       0.005405  Series16  \n",
       "13       0.000000  Series16  \n",
       "..            ...       ...  \n",
       "224      0.000000   Series7  \n",
       "225      0.000000   Series7  \n",
       "229      0.125000   Series7  \n",
       "230      0.007519   Series7  \n",
       "239      0.010753   Series7  \n",
       "\n",
       "[91 rows x 4 columns]"
      ]
     },
     "execution_count": 14,
     "metadata": {},
     "output_type": "execute_result"
    }
   ],
   "source": [
    "der_df"
   ]
  },
  {
   "cell_type": "code",
   "execution_count": 15,
   "metadata": {},
   "outputs": [],
   "source": [
    "der_down = der_df.pivot_table(values='Down_regulated',index='Pathway', columns='Phenotype',aggfunc='mean',fill_value=None,dropna=False)\n",
    "der_up = der_df.pivot_table(values='Up_regulated',index='Pathway', columns='Phenotype',aggfunc='mean',fill_value=None,dropna=False)\n",
    "der_down = der_down.fillna(0)\n",
    "der_up = der_up.fillna(0)\n"
   ]
  },
  {
   "cell_type": "code",
   "execution_count": 16,
   "metadata": {},
   "outputs": [
    {
     "data": {
      "text/html": [
       "<div>\n",
       "<style scoped>\n",
       "    .dataframe tbody tr th:only-of-type {\n",
       "        vertical-align: middle;\n",
       "    }\n",
       "\n",
       "    .dataframe tbody tr th {\n",
       "        vertical-align: top;\n",
       "    }\n",
       "\n",
       "    .dataframe thead th {\n",
       "        text-align: right;\n",
       "    }\n",
       "</style>\n",
       "<table border=\"1\" class=\"dataframe\">\n",
       "  <thead>\n",
       "    <tr style=\"text-align: right;\">\n",
       "      <th>Phenotype</th>\n",
       "      <th>Series16</th>\n",
       "      <th>Series5</th>\n",
       "      <th>Series6</th>\n",
       "      <th>Series7</th>\n",
       "    </tr>\n",
       "    <tr>\n",
       "      <th>Pathway</th>\n",
       "      <th></th>\n",
       "      <th></th>\n",
       "      <th></th>\n",
       "      <th></th>\n",
       "    </tr>\n",
       "  </thead>\n",
       "  <tbody>\n",
       "    <tr>\n",
       "      <th>Aminosugar metabolism</th>\n",
       "      <td>0.0</td>\n",
       "      <td>0.0</td>\n",
       "      <td>0.0</td>\n",
       "      <td>0.0</td>\n",
       "    </tr>\n",
       "    <tr>\n",
       "      <th>Androgen and estrogen synthesis and metabolism</th>\n",
       "      <td>0.0</td>\n",
       "      <td>0.0</td>\n",
       "      <td>0.0</td>\n",
       "      <td>0.0</td>\n",
       "    </tr>\n",
       "  </tbody>\n",
       "</table>\n",
       "</div>"
      ],
      "text/plain": [
       "Phenotype                                       Series16  Series5  Series6  \\\n",
       "Pathway                                                                      \n",
       "Aminosugar metabolism                                0.0      0.0      0.0   \n",
       "Androgen and estrogen synthesis and metabolism       0.0      0.0      0.0   \n",
       "\n",
       "Phenotype                                       Series7  \n",
       "Pathway                                                  \n",
       "Aminosugar metabolism                               0.0  \n",
       "Androgen and estrogen synthesis and metabolism      0.0  "
      ]
     },
     "execution_count": 16,
     "metadata": {},
     "output_type": "execute_result"
    }
   ],
   "source": [
    "der_up.head(2)"
   ]
  },
  {
   "cell_type": "code",
   "execution_count": 17,
   "metadata": {},
   "outputs": [
    {
     "data": {
      "text/plain": [
       "(45, 4)"
      ]
     },
     "execution_count": 17,
     "metadata": {},
     "output_type": "execute_result"
    }
   ],
   "source": [
    "der_down.shape"
   ]
  },
  {
   "cell_type": "code",
   "execution_count": 18,
   "metadata": {},
   "outputs": [],
   "source": [
    "der_up = der_up.loc[:,['Series16', 'Series5', 'Series6', 'Series7']]\n",
    "der_down = der_down.loc[:,['Series16', 'Series5', 'Series6', 'Series7']]\n",
    "der_up.columns = ['A549_2_ACE2', 'A549_2','A549_0.2_ACE2','Calu3_2']\n",
    "der_down.columns = ['A549_2_ACE2', 'A549_2','A549_0.2_ACE2','Calu3_2']\n",
    "#['A549_2_ACE2', 'A549_2','A549_0.2_ACE2','Calu3_2']\n",
    "\n",
    "#['A549_0.2_ACE2',  'A549_2','A549_2_ACE2','Calu3_2']\n",
    "#['Series6', 'Series5', 'Series16', 'Series7']\n",
    "df_final = der_down.merge(der_up,on='Pathway')"
   ]
  },
  {
   "cell_type": "code",
   "execution_count": 19,
   "metadata": {},
   "outputs": [],
   "source": [
    "columns = df_final.columns\n",
    "columns = [x.replace('_x','') for x in columns]\n",
    "columns = [x.replace('_y','') for x in columns]\n",
    "df_final.index.name = ''\n",
    "df_final.columns = columns"
   ]
  },
  {
   "cell_type": "code",
   "execution_count": 20,
   "metadata": {},
   "outputs": [
    {
     "data": {
      "text/plain": [
       "Index(['A549_2_ACE2', 'A549_2', 'A549_0.2_ACE2', 'Calu3_2', 'A549_2_ACE2',\n",
       "       'A549_2', 'A549_0.2_ACE2', 'Calu3_2'],\n",
       "      dtype='object')"
      ]
     },
     "execution_count": 20,
     "metadata": {},
     "output_type": "execute_result"
    }
   ],
   "source": [
    "df_final.columns"
   ]
  },
  {
   "cell_type": "code",
   "execution_count": 21,
   "metadata": {},
   "outputs": [],
   "source": [
    "#df_final.columns = ['A549_2_ACE2_down', 'A549_2_down','A549_0.2_ACE2_down','Calu3_2_down',\n",
    "#                    'A549_2_ACE2_up', 'A549_2_up','A549_0.2_ACE2_up','Calu3_2_up']"
   ]
  },
  {
   "cell_type": "code",
   "execution_count": 22,
   "metadata": {},
   "outputs": [
    {
     "data": {
      "image/png": "[encoded data removed]",
      "text/plain": [
       "<Figure size 864x874.8 with 4 Axes>"
      ]
     },
     "metadata": {
      "needs_background": "light"
     },
     "output_type": "display_data"
    }
   ],
   "source": [
    "g = sns.clustermap(df_final*100,col_cluster=False,row_cluster=True,mask=False,\n",
    "                   #standard_scale=0,\n",
    "                   cmap=\"Blues\",\n",
    "                   cbar_kws={'label':'Reactions per Pathway [%]'},#,\"orientation\": \"horizontal\"},\n",
    "                   cbar_pos=(0.07, .5, .02, .2),\n",
    "                   #square=True,\n",
    "                   figsize=(12,(.27*(len(df_final.index))))#,\n",
    "                   #dendrogram_ratio=(.1, .2),\n",
    "                  )\n",
    "#g.cax.set_visible(True)\n",
    "#l2=g.ax_heatmap.legend(loc='center left',bbox_to_anchor=(1.01,0.85),handles=legend_TN,frameon=True)\n",
    "#l2.set_title(title='tissue type',prop={'size':10})\n",
    "g.ax_row_dendrogram.set_visible(False)\n",
    "g.ax_col_dendrogram.set_visible(False)\n",
    "plt.setp(g.ax_heatmap.get_xticklabels(), rotation=55)\n",
    "g.ax_heatmap.axvline(4, 0, 1, linewidth=11, c='grey')\n",
    "g.ax_heatmap.set_title('Down-Regulated                                 Up-Regulated')\n",
    "\n",
    "# set title and set font of title\n",
    "#ax.set_title(\"Number of traffic accidents per day & hour combination\", fontsize=30, fontweight=\"bold\")\n",
    "#plt.legend(handles, lut, title='Species',           bbox_to_anchor=(1, 1), bbox_transform=plt.gcf().transFigure, loc='upper right')\n",
    "g.savefig('Figs/Differentially_Expressed_Reactions_All_Sorted.svg', dpi=400,bbox_inches='tight')\n",
    "g.savefig('Figs/Differentially_Expressed_Reactions_All_Sorted.png', dpi=400,bbox_inches='tight')"
   ]
  }
 ],
 "metadata": {
  "kernelspec": {
   "display_name": "Python 3",
   "language": "python",
   "name": "python3"
  },
  "language_info": {
   "codemirror_mode": {
    "name": "ipython",
    "version": 3
   },
   "file_extension": ".py",
   "mimetype": "text/x-python",
   "name": "python",
   "nbconvert_exporter": "python",
   "pygments_lexer": "ipython3",
   "version": "3.7.4"
  }
 },
 "nbformat": 4,
 "nbformat_minor": 2
}
