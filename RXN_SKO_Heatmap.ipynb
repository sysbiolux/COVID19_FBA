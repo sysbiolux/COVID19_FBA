{
 "cells": [
  {
   "cell_type": "code",
   "execution_count": 116,
   "metadata": {},
   "outputs": [],
   "source": [
    "import pandas as pd\n",
    "import numpy as np\n",
    "import seaborn as sns"
   ]
  },
  {
   "cell_type": "code",
   "execution_count": 117,
   "metadata": {},
   "outputs": [],
   "source": [
    "df = pd.read_csv('output_summ/Lung_Rxn_SKO_Summary_0.3.csv')\n",
    "df.columns = ['Series','Safe_down_rxns','Toxic_down_rxns','','']\n",
    "df = df.iloc[:,:3]\n",
    "df['all_rxns'] = df['Safe_down_rxns'].astype('str')+','+df['Toxic_down_rxns'].astype('str')"
   ]
  },
  {
   "cell_type": "code",
   "execution_count": 118,
   "metadata": {},
   "outputs": [
    {
     "data": {
      "text/html": [
       "<div>\n",
       "<style scoped>\n",
       "    .dataframe tbody tr th:only-of-type {\n",
       "        vertical-align: middle;\n",
       "    }\n",
       "\n",
       "    .dataframe tbody tr th {\n",
       "        vertical-align: top;\n",
       "    }\n",
       "\n",
       "    .dataframe thead th {\n",
       "        text-align: right;\n",
       "    }\n",
       "</style>\n",
       "<table border=\"1\" class=\"dataframe\">\n",
       "  <thead>\n",
       "    <tr style=\"text-align: right;\">\n",
       "      <th></th>\n",
       "      <th>Series</th>\n",
       "      <th>Safe_down_rxns</th>\n",
       "      <th>Toxic_down_rxns</th>\n",
       "      <th>all_rxns</th>\n",
       "    </tr>\n",
       "  </thead>\n",
       "  <tbody>\n",
       "    <tr>\n",
       "      <th>0</th>\n",
       "      <td>s1</td>\n",
       "      <td>EX_pe_hs(e),EX_sph1p(e),PEt,SPH1Pte,r0787</td>\n",
       "      <td>CLS_hs,DATPtn,DCTPtn,DGTPtn,DSAT,DTTPtn,ENO,EX...</td>\n",
       "      <td>EX_pe_hs(e),EX_sph1p(e),PEt,SPH1Pte,r0787,CLS_...</td>\n",
       "    </tr>\n",
       "    <tr>\n",
       "      <th>1</th>\n",
       "      <td>s15</td>\n",
       "      <td>ADKd,CDIPTr,CHOLt4,CTPS2,DAGK_hs,DTMPK,DTTPtn,...</td>\n",
       "      <td>CLS_hs,DATPtn,DCTPtn,DGTPtn,DSAT,ENO,EX_his_L(...</td>\n",
       "      <td>ADKd,CDIPTr,CHOLt4,CTPS2,DAGK_hs,DTMPK,DTTPtn,...</td>\n",
       "    </tr>\n",
       "    <tr>\n",
       "      <th>2</th>\n",
       "      <td>s16</td>\n",
       "      <td>DAGK_hs,DTTPtn,EX_HC00250(e),EX_citr_L(e),EX_l...</td>\n",
       "      <td>CLS_hs,DATPtn,DCTPtn,DGTPtn,DSAT,ENO,EX_his_L(...</td>\n",
       "      <td>DAGK_hs,DTTPtn,EX_HC00250(e),EX_citr_L(e),EX_l...</td>\n",
       "    </tr>\n",
       "    <tr>\n",
       "      <th>3</th>\n",
       "      <td>s2</td>\n",
       "      <td>EX_pe_hs(e),EX_sph1p(e),PEt,SPH1Pte,r0787</td>\n",
       "      <td>CLS_hs,DATPtn,DCTPtn,DGTPtn,DSAT,DTTPtn,ENO,EX...</td>\n",
       "      <td>EX_pe_hs(e),EX_sph1p(e),PEt,SPH1Pte,r0787,CLS_...</td>\n",
       "    </tr>\n",
       "    <tr>\n",
       "      <th>4</th>\n",
       "      <td>s5</td>\n",
       "      <td>DTMPK,EX_pe_hs(e),GK1,PEt,TRDR</td>\n",
       "      <td>CLS_hs,DATPtn,DCTPtn,DGTPtn,DSAT,EX_gln_L(e),E...</td>\n",
       "      <td>DTMPK,EX_pe_hs(e),GK1,PEt,TRDR,CLS_hs,DATPtn,D...</td>\n",
       "    </tr>\n",
       "  </tbody>\n",
       "</table>\n",
       "</div>"
      ],
      "text/plain": [
       "  Series                                     Safe_down_rxns  \\\n",
       "0     s1          EX_pe_hs(e),EX_sph1p(e),PEt,SPH1Pte,r0787   \n",
       "1    s15  ADKd,CDIPTr,CHOLt4,CTPS2,DAGK_hs,DTMPK,DTTPtn,...   \n",
       "2    s16  DAGK_hs,DTTPtn,EX_HC00250(e),EX_citr_L(e),EX_l...   \n",
       "3     s2          EX_pe_hs(e),EX_sph1p(e),PEt,SPH1Pte,r0787   \n",
       "4     s5                     DTMPK,EX_pe_hs(e),GK1,PEt,TRDR   \n",
       "\n",
       "                                     Toxic_down_rxns  \\\n",
       "0  CLS_hs,DATPtn,DCTPtn,DGTPtn,DSAT,DTTPtn,ENO,EX...   \n",
       "1  CLS_hs,DATPtn,DCTPtn,DGTPtn,DSAT,ENO,EX_his_L(...   \n",
       "2  CLS_hs,DATPtn,DCTPtn,DGTPtn,DSAT,ENO,EX_his_L(...   \n",
       "3  CLS_hs,DATPtn,DCTPtn,DGTPtn,DSAT,DTTPtn,ENO,EX...   \n",
       "4  CLS_hs,DATPtn,DCTPtn,DGTPtn,DSAT,EX_gln_L(e),E...   \n",
       "\n",
       "                                            all_rxns  \n",
       "0  EX_pe_hs(e),EX_sph1p(e),PEt,SPH1Pte,r0787,CLS_...  \n",
       "1  ADKd,CDIPTr,CHOLt4,CTPS2,DAGK_hs,DTMPK,DTTPtn,...  \n",
       "2  DAGK_hs,DTTPtn,EX_HC00250(e),EX_citr_L(e),EX_l...  \n",
       "3  EX_pe_hs(e),EX_sph1p(e),PEt,SPH1Pte,r0787,CLS_...  \n",
       "4  DTMPK,EX_pe_hs(e),GK1,PEt,TRDR,CLS_hs,DATPtn,D...  "
      ]
     },
     "execution_count": 118,
     "metadata": {},
     "output_type": "execute_result"
    }
   ],
   "source": [
    "df.head()"
   ]
  },
  {
   "cell_type": "code",
   "execution_count": 88,
   "metadata": {},
   "outputs": [],
   "source": [
    "df = df.astype('object')"
   ]
  },
  {
   "cell_type": "code",
   "execution_count": 89,
   "metadata": {},
   "outputs": [],
   "source": [
    "df = df.loc[~df.Series.isin( ['s15','s16d','mac']),:]"
   ]
  },
  {
   "cell_type": "code",
   "execution_count": 90,
   "metadata": {},
   "outputs": [],
   "source": [
    "df_uniques = df.groupby('Series').agg({'Safe_down_rxns': lambda x: list(x),'Safe_down_rxns': lambda x: list(x),\n",
    "                                     'Toxic_down_rxns': lambda x: list(x),'Toxic_down_rxns': lambda x: list(x),\n",
    "                                      'all_rxns': lambda x: list(x),'all_rxns': lambda x: list(x)})"
   ]
  },
  {
   "cell_type": "code",
   "execution_count": 91,
   "metadata": {},
   "outputs": [],
   "source": [
    "#df_uniques['all_rxns'] = df_uniques['Safe_down_rxns'].astype('str')+','+df_uniques['Toxic_down_rxns'].astype('str')"
   ]
  },
  {
   "cell_type": "code",
   "execution_count": 92,
   "metadata": {},
   "outputs": [],
   "source": [
    "#df_uniques['all_rxns'] = df_uniques['all_rxns'].apply(lambda x: x.replace('nan,','').replace('[','').replace(']','').replace(\"'\",''))"
   ]
  },
  {
   "cell_type": "code",
   "execution_count": 93,
   "metadata": {},
   "outputs": [
    {
     "data": {
      "text/html": [
       "<div>\n",
       "<style scoped>\n",
       "    .dataframe tbody tr th:only-of-type {\n",
       "        vertical-align: middle;\n",
       "    }\n",
       "\n",
       "    .dataframe tbody tr th {\n",
       "        vertical-align: top;\n",
       "    }\n",
       "\n",
       "    .dataframe thead th {\n",
       "        text-align: right;\n",
       "    }\n",
       "</style>\n",
       "<table border=\"1\" class=\"dataframe\">\n",
       "  <thead>\n",
       "    <tr style=\"text-align: right;\">\n",
       "      <th></th>\n",
       "      <th>Safe_down_rxns</th>\n",
       "      <th>Toxic_down_rxns</th>\n",
       "      <th>all_rxns</th>\n",
       "    </tr>\n",
       "    <tr>\n",
       "      <th>Series</th>\n",
       "      <th></th>\n",
       "      <th></th>\n",
       "      <th></th>\n",
       "    </tr>\n",
       "  </thead>\n",
       "  <tbody>\n",
       "    <tr>\n",
       "      <th>s1</th>\n",
       "      <td>[EX_pe_hs(e),EX_sph1p(e),PEt,SPH1Pte,r0787, CY...</td>\n",
       "      <td>[CLS_hs,DATPtn,DCTPtn,DGTPtn,DSAT,DTTPtn,ENO,E...</td>\n",
       "      <td>[EX_pe_hs(e),EX_sph1p(e),PEt,SPH1Pte,r0787,CLS...</td>\n",
       "    </tr>\n",
       "    <tr>\n",
       "      <th>s16</th>\n",
       "      <td>[DAGK_hs,DTTPtn,EX_HC00250(e),EX_citr_L(e),EX_...</td>\n",
       "      <td>[CLS_hs,DATPtn,DCTPtn,DGTPtn,DSAT,ENO,EX_his_L...</td>\n",
       "      <td>[DAGK_hs,DTTPtn,EX_HC00250(e),EX_citr_L(e),EX_...</td>\n",
       "    </tr>\n",
       "    <tr>\n",
       "      <th>s2</th>\n",
       "      <td>[EX_pe_hs(e),EX_sph1p(e),PEt,SPH1Pte,r0787, AL...</td>\n",
       "      <td>[CLS_hs,DATPtn,DCTPtn,DGTPtn,DSAT,DTTPtn,ENO,E...</td>\n",
       "      <td>[EX_pe_hs(e),EX_sph1p(e),PEt,SPH1Pte,r0787,CLS...</td>\n",
       "    </tr>\n",
       "    <tr>\n",
       "      <th>s5</th>\n",
       "      <td>[DTMPK,EX_pe_hs(e),GK1,PEt,TRDR, CLS_hs,CYSTGL...</td>\n",
       "      <td>[CLS_hs,DATPtn,DCTPtn,DGTPtn,DSAT,EX_gln_L(e),...</td>\n",
       "      <td>[DTMPK,EX_pe_hs(e),GK1,PEt,TRDR,CLS_hs,DATPtn,...</td>\n",
       "    </tr>\n",
       "    <tr>\n",
       "      <th>s6</th>\n",
       "      <td>[DTMPK,EX_pe_hs(e),GK1,PEt,TRDR, DAGK_hs,sink_...</td>\n",
       "      <td>[CLS_hs,DATPtn,DCTPtn,DGTPtn,DSAT,EX_gln_L(e),...</td>\n",
       "      <td>[DTMPK,EX_pe_hs(e),GK1,PEt,TRDR,CLS_hs,DATPtn,...</td>\n",
       "    </tr>\n",
       "    <tr>\n",
       "      <th>s7</th>\n",
       "      <td>[CYTDt,EX_pe_hs(e),PEt,RTOTALFATPc, CYTDt,EX_l...</td>\n",
       "      <td>[CLS_hs,DATPtn,DCTPtn,DGTPtn,DSAT,EX_lys_L(e),...</td>\n",
       "      <td>[CYTDt,EX_pe_hs(e),PEt,RTOTALFATPc,CLS_hs,DATP...</td>\n",
       "    </tr>\n",
       "  </tbody>\n",
       "</table>\n",
       "</div>"
      ],
      "text/plain": [
       "                                           Safe_down_rxns  \\\n",
       "Series                                                      \n",
       "s1      [EX_pe_hs(e),EX_sph1p(e),PEt,SPH1Pte,r0787, CY...   \n",
       "s16     [DAGK_hs,DTTPtn,EX_HC00250(e),EX_citr_L(e),EX_...   \n",
       "s2      [EX_pe_hs(e),EX_sph1p(e),PEt,SPH1Pte,r0787, AL...   \n",
       "s5      [DTMPK,EX_pe_hs(e),GK1,PEt,TRDR, CLS_hs,CYSTGL...   \n",
       "s6      [DTMPK,EX_pe_hs(e),GK1,PEt,TRDR, DAGK_hs,sink_...   \n",
       "s7      [CYTDt,EX_pe_hs(e),PEt,RTOTALFATPc, CYTDt,EX_l...   \n",
       "\n",
       "                                          Toxic_down_rxns  \\\n",
       "Series                                                      \n",
       "s1      [CLS_hs,DATPtn,DCTPtn,DGTPtn,DSAT,DTTPtn,ENO,E...   \n",
       "s16     [CLS_hs,DATPtn,DCTPtn,DGTPtn,DSAT,ENO,EX_his_L...   \n",
       "s2      [CLS_hs,DATPtn,DCTPtn,DGTPtn,DSAT,DTTPtn,ENO,E...   \n",
       "s5      [CLS_hs,DATPtn,DCTPtn,DGTPtn,DSAT,EX_gln_L(e),...   \n",
       "s6      [CLS_hs,DATPtn,DCTPtn,DGTPtn,DSAT,EX_gln_L(e),...   \n",
       "s7      [CLS_hs,DATPtn,DCTPtn,DGTPtn,DSAT,EX_lys_L(e),...   \n",
       "\n",
       "                                                 all_rxns  \n",
       "Series                                                     \n",
       "s1      [EX_pe_hs(e),EX_sph1p(e),PEt,SPH1Pte,r0787,CLS...  \n",
       "s16     [DAGK_hs,DTTPtn,EX_HC00250(e),EX_citr_L(e),EX_...  \n",
       "s2      [EX_pe_hs(e),EX_sph1p(e),PEt,SPH1Pte,r0787,CLS...  \n",
       "s5      [DTMPK,EX_pe_hs(e),GK1,PEt,TRDR,CLS_hs,DATPtn,...  \n",
       "s6      [DTMPK,EX_pe_hs(e),GK1,PEt,TRDR,CLS_hs,DATPtn,...  \n",
       "s7      [CYTDt,EX_pe_hs(e),PEt,RTOTALFATPc,CLS_hs,DATP...  "
      ]
     },
     "execution_count": 93,
     "metadata": {},
     "output_type": "execute_result"
    }
   ],
   "source": [
    "df_uniques"
   ]
  },
  {
   "cell_type": "code",
   "execution_count": 94,
   "metadata": {},
   "outputs": [],
   "source": [
    "df_uniques['all_rxns'] = df_uniques['all_rxns'].apply(lambda x: np.unique(np.concatenate([y.split(',') for y in x if y!='nan'])))\n",
    "df_uniques['Safe_down_rxns'] = df_uniques['Safe_down_rxns'].apply(lambda x: np.unique(np.concatenate([str(y).split(',') for y in x if str(y)])))\n",
    "df_uniques['Toxic_down_rxns'] = df_uniques['Toxic_down_rxns'].apply(lambda x: np.unique(np.concatenate([str(y).split(',') for y in x if str(y)!='nan'])))"
   ]
  },
  {
   "cell_type": "code",
   "execution_count": 95,
   "metadata": {},
   "outputs": [
    {
     "data": {
      "text/html": [
       "<div>\n",
       "<style scoped>\n",
       "    .dataframe tbody tr th:only-of-type {\n",
       "        vertical-align: middle;\n",
       "    }\n",
       "\n",
       "    .dataframe tbody tr th {\n",
       "        vertical-align: top;\n",
       "    }\n",
       "\n",
       "    .dataframe thead th {\n",
       "        text-align: right;\n",
       "    }\n",
       "</style>\n",
       "<table border=\"1\" class=\"dataframe\">\n",
       "  <thead>\n",
       "    <tr style=\"text-align: right;\">\n",
       "      <th></th>\n",
       "      <th>Safe_down_rxns</th>\n",
       "      <th>Toxic_down_rxns</th>\n",
       "      <th>all_rxns</th>\n",
       "    </tr>\n",
       "    <tr>\n",
       "      <th>Series</th>\n",
       "      <th></th>\n",
       "      <th></th>\n",
       "      <th></th>\n",
       "    </tr>\n",
       "  </thead>\n",
       "  <tbody>\n",
       "    <tr>\n",
       "      <th>s1</th>\n",
       "      <td>[CYSTALArBATtc, EX_Lcystin[e], EX_lys_L[e], EX...</td>\n",
       "      <td>[CLS_hs, DAGK_hs, DATPtn, DCTPtn, DGTPtn, DSAT...</td>\n",
       "      <td>[CLS_hs, CYSTALArBATtc, DAGK_hs, DATPtn, DCTPt...</td>\n",
       "    </tr>\n",
       "    <tr>\n",
       "      <th>s16</th>\n",
       "      <td>[CRMte, CYSTALArBATtc, DAGK_hs, DTTPtn, EX_HC0...</td>\n",
       "      <td>[CLS_hs, DATPtn, DCTPtn, DGTPtn, DSAT, ENO, EX...</td>\n",
       "      <td>[CLS_hs, CRMte, CYSTALArBATtc, DAGK_hs, DATPtn...</td>\n",
       "    </tr>\n",
       "    <tr>\n",
       "      <th>s2</th>\n",
       "      <td>[ALAR, CYSTGLUex, EX_pe_hs(e), EX_sph1p(e), PE...</td>\n",
       "      <td>[CLS_hs, DATPtn, DCTPtn, DGTPtn, DSAT, DTTPtn,...</td>\n",
       "      <td>[ALAR, CLS_hs, CYSTGLUex, DATPtn, DCTPtn, DGTP...</td>\n",
       "    </tr>\n",
       "    <tr>\n",
       "      <th>s5</th>\n",
       "      <td>[CLS_hs, CYSTGLUex, DTMPK, EX_pe_hs(e), EX_trp...</td>\n",
       "      <td>[CLS_hs, DAGK_hs, DATPtn, DCTPtn, DGTPtn, DSAT...</td>\n",
       "      <td>[CLS_hs, CYSTGLUex, DAGK_hs, DATPtn, DCTPtn, D...</td>\n",
       "    </tr>\n",
       "    <tr>\n",
       "      <th>s6</th>\n",
       "      <td>[DAGK_hs, DTMPK, EX_pe_hs(e), GK1, PEt, TRDR, ...</td>\n",
       "      <td>[CLS_hs, DATPtn, DCTPtn, DGTPtn, DSAT, EX_gln_...</td>\n",
       "      <td>[CLS_hs, DAGK_hs, DATPtn, DCTPtn, DGTPtn, DSAT...</td>\n",
       "    </tr>\n",
       "    <tr>\n",
       "      <th>s7</th>\n",
       "      <td>[CYTDt, EX_lysargleu[e], EX_pe_hs(e), EX_pe_hs...</td>\n",
       "      <td>[CLS_hs, DATPtn, DCTPtn, DGTPtn, DSAT, EX_lys_...</td>\n",
       "      <td>[CLS_hs, CYTDt, DATPtn, DCTPtn, DGTPtn, DSAT, ...</td>\n",
       "    </tr>\n",
       "  </tbody>\n",
       "</table>\n",
       "</div>"
      ],
      "text/plain": [
       "                                           Safe_down_rxns  \\\n",
       "Series                                                      \n",
       "s1      [CYSTALArBATtc, EX_Lcystin[e], EX_lys_L[e], EX...   \n",
       "s16     [CRMte, CYSTALArBATtc, DAGK_hs, DTTPtn, EX_HC0...   \n",
       "s2      [ALAR, CYSTGLUex, EX_pe_hs(e), EX_sph1p(e), PE...   \n",
       "s5      [CLS_hs, CYSTGLUex, DTMPK, EX_pe_hs(e), EX_trp...   \n",
       "s6      [DAGK_hs, DTMPK, EX_pe_hs(e), GK1, PEt, TRDR, ...   \n",
       "s7      [CYTDt, EX_lysargleu[e], EX_pe_hs(e), EX_pe_hs...   \n",
       "\n",
       "                                          Toxic_down_rxns  \\\n",
       "Series                                                      \n",
       "s1      [CLS_hs, DAGK_hs, DATPtn, DCTPtn, DGTPtn, DSAT...   \n",
       "s16     [CLS_hs, DATPtn, DCTPtn, DGTPtn, DSAT, ENO, EX...   \n",
       "s2      [CLS_hs, DATPtn, DCTPtn, DGTPtn, DSAT, DTTPtn,...   \n",
       "s5      [CLS_hs, DAGK_hs, DATPtn, DCTPtn, DGTPtn, DSAT...   \n",
       "s6      [CLS_hs, DATPtn, DCTPtn, DGTPtn, DSAT, EX_gln_...   \n",
       "s7      [CLS_hs, DATPtn, DCTPtn, DGTPtn, DSAT, EX_lys_...   \n",
       "\n",
       "                                                 all_rxns  \n",
       "Series                                                     \n",
       "s1      [CLS_hs, CYSTALArBATtc, DAGK_hs, DATPtn, DCTPt...  \n",
       "s16     [CLS_hs, CRMte, CYSTALArBATtc, DAGK_hs, DATPtn...  \n",
       "s2      [ALAR, CLS_hs, CYSTGLUex, DATPtn, DCTPtn, DGTP...  \n",
       "s5      [CLS_hs, CYSTGLUex, DAGK_hs, DATPtn, DCTPtn, D...  \n",
       "s6      [CLS_hs, DAGK_hs, DATPtn, DCTPtn, DGTPtn, DSAT...  \n",
       "s7      [CLS_hs, CYTDt, DATPtn, DCTPtn, DGTPtn, DSAT, ...  "
      ]
     },
     "execution_count": 95,
     "metadata": {},
     "output_type": "execute_result"
    }
   ],
   "source": [
    "df_uniques"
   ]
  },
  {
   "cell_type": "code",
   "execution_count": 96,
   "metadata": {},
   "outputs": [
    {
     "data": {
      "text/plain": [
       "array(['CLS_hs', 'CYSTALArBATtc', 'DAGK_hs', 'DATPtn', 'DCTPtn', 'DGTPtn',\n",
       "       'DSAT', 'DTTPtn', 'ENO', 'EX_HC00250(e)', 'EX_Lcystin[e]',\n",
       "       'EX_asn_L(e)', 'EX_his_L(e)', 'EX_ile_L(e)', 'EX_inost(e)',\n",
       "       'EX_inost[e]', 'EX_leu_L(e)', 'EX_lys_L(e)', 'EX_lys_L[e]',\n",
       "       'EX_met_L(e)', 'EX_pe_hs(e)', 'EX_phe_L(e)', 'EX_ps_hs[e]',\n",
       "       'EX_sph1p(e)', 'EX_thr_L(e)', 'EX_trp_L(e)', 'EX_val_L(e)', 'GK1',\n",
       "       'INSTt4', 'PEt', 'PGM', 'PSSA1_hs', 'PSt3', 'RE2954C', 'RNDR1',\n",
       "       'RTOTALFATPc', 'SMS', 'SPH1Pte', 'TRDR', 'biomass_maintenance',\n",
       "       'biomass_reaction', 'r0027', 'r0193', 'r0276', 'r0787', 'r0940',\n",
       "       'sink_asn_L[c]', 'sink_thr_L[c]'], dtype='<U19')"
      ]
     },
     "execution_count": 96,
     "metadata": {},
     "output_type": "execute_result"
    }
   ],
   "source": [
    "df_uniques.all_rxns[0]"
   ]
  },
  {
   "cell_type": "code",
   "execution_count": 97,
   "metadata": {},
   "outputs": [
    {
     "data": {
      "text/plain": [
       "['ALAR',\n",
       " 'CLS_hs',\n",
       " 'CRMte',\n",
       " 'CYSTALArBATtc',\n",
       " 'CYSTGLUex',\n",
       " 'CYTDt',\n",
       " 'DAGK_hs',\n",
       " 'DATPtn',\n",
       " 'DCTPtn',\n",
       " 'DGTPtn',\n",
       " 'DSAT',\n",
       " 'DTMPK']"
      ]
     },
     "execution_count": 97,
     "metadata": {},
     "output_type": "execute_result"
    }
   ],
   "source": [
    "all_rxns = np.concatenate(df_uniques.iloc[:,[1,2]].values.tolist())\n",
    "all_rxns = np.unique(np.concatenate(all_rxns)) #[x.split(',') for x in all_rxns if x!='nan']\n",
    "all_rxns = [x for x in all_rxns if x not in ['biomass_maintenance','biomass_reaction']]\n",
    "all_rxns[:12]"
   ]
  },
  {
   "cell_type": "code",
   "execution_count": 98,
   "metadata": {},
   "outputs": [
    {
     "data": {
      "text/html": [
       "<div>\n",
       "<style scoped>\n",
       "    .dataframe tbody tr th:only-of-type {\n",
       "        vertical-align: middle;\n",
       "    }\n",
       "\n",
       "    .dataframe tbody tr th {\n",
       "        vertical-align: top;\n",
       "    }\n",
       "\n",
       "    .dataframe thead th {\n",
       "        text-align: right;\n",
       "    }\n",
       "</style>\n",
       "<table border=\"1\" class=\"dataframe\">\n",
       "  <thead>\n",
       "    <tr style=\"text-align: right;\">\n",
       "      <th></th>\n",
       "      <th>rxn</th>\n",
       "      <th>rxnNames</th>\n",
       "      <th>subSystem</th>\n",
       "    </tr>\n",
       "  </thead>\n",
       "  <tbody>\n",
       "    <tr>\n",
       "      <th>0</th>\n",
       "      <td>10FTHF5GLUtl</td>\n",
       "      <td>5-glutamyl-10FTHF transport, lysosomal</td>\n",
       "      <td>Transport, lysosomal</td>\n",
       "    </tr>\n",
       "    <tr>\n",
       "      <th>1</th>\n",
       "      <td>10FTHF5GLUtm</td>\n",
       "      <td>5-glutamyl-10FTHF transport, mitochondrial</td>\n",
       "      <td>Transport, mitochondrial</td>\n",
       "    </tr>\n",
       "    <tr>\n",
       "      <th>2</th>\n",
       "      <td>10FTHF6GLUtl</td>\n",
       "      <td>6-glutamyl-10FTHF transport, lysosomal</td>\n",
       "      <td>Transport, lysosomal</td>\n",
       "    </tr>\n",
       "    <tr>\n",
       "      <th>3</th>\n",
       "      <td>10FTHF6GLUtm</td>\n",
       "      <td>6-glutamyl-10FTHF transport, mitochondrial</td>\n",
       "      <td>Transport, mitochondrial</td>\n",
       "    </tr>\n",
       "    <tr>\n",
       "      <th>4</th>\n",
       "      <td>10FTHF7GLUtl</td>\n",
       "      <td>7-glutamyl-10FTHF transport, lysosomal</td>\n",
       "      <td>Transport, lysosomal</td>\n",
       "    </tr>\n",
       "  </tbody>\n",
       "</table>\n",
       "</div>"
      ],
      "text/plain": [
       "            rxn                                    rxnNames  \\\n",
       "0  10FTHF5GLUtl      5-glutamyl-10FTHF transport, lysosomal   \n",
       "1  10FTHF5GLUtm  5-glutamyl-10FTHF transport, mitochondrial   \n",
       "2  10FTHF6GLUtl      6-glutamyl-10FTHF transport, lysosomal   \n",
       "3  10FTHF6GLUtm  6-glutamyl-10FTHF transport, mitochondrial   \n",
       "4  10FTHF7GLUtl      7-glutamyl-10FTHF transport, lysosomal   \n",
       "\n",
       "                  subSystem  \n",
       "0      Transport, lysosomal  \n",
       "1  Transport, mitochondrial  \n",
       "2      Transport, lysosomal  \n",
       "3  Transport, mitochondrial  \n",
       "4      Transport, lysosomal  "
      ]
     },
     "execution_count": 98,
     "metadata": {},
     "output_type": "execute_result"
    }
   ],
   "source": [
    "# Replace reaction ids by its subsystem\n",
    "rxn_name = pd.read_csv('RECON_models_rxn_names.csv')\n",
    "rxn_name.head()"
   ]
  },
  {
   "cell_type": "code",
   "execution_count": 99,
   "metadata": {},
   "outputs": [
    {
     "data": {
      "text/plain": [
       "array(['Alanine and aspartate metabolism',\n",
       "       'Glycerophospholipid metabolism', 'Transport, extracellular',\n",
       "       'Transport, nuclear', 'Sphingolipid metabolism',\n",
       "       'Nucleotide interconversion', 'Glycolysis/gluconeogenesis',\n",
       "       'Exchange/demand reaction', 'Methionine and cysteine metabolism',\n",
       "       'Cysteine Metabolism', 'Purine catabolism', 'Pyrimidine synthesis',\n",
       "       'Peptide metabolism'], dtype=object)"
      ]
     },
     "execution_count": 99,
     "metadata": {},
     "output_type": "execute_result"
    }
   ],
   "source": [
    "all_subSys = rxn_name.loc[rxn_name.rxn.isin(all_rxns),'subSystem'].unique()\n",
    "all_subSys"
   ]
  },
  {
   "cell_type": "code",
   "execution_count": 100,
   "metadata": {},
   "outputs": [],
   "source": [
    "df_sparse = pd.DataFrame(np.zeros((len(all_subSys),len(df_uniques.index))),columns =df_uniques.index,index=all_subSys)"
   ]
  },
  {
   "cell_type": "code",
   "execution_count": 101,
   "metadata": {},
   "outputs": [],
   "source": [
    "# Builind a  matrix of percentage of shared rxns of a pathway in a phenotype\n",
    "\n",
    "for i in range(df_sparse.shape[0]):\n",
    "    for k in range(df_sparse.shape[1]):\n",
    "        subSys = all_subSys[i]\n",
    "        pheno = df_uniques.index[k]\n",
    "        pheno_rxns = df_uniques.all_rxns[k]\n",
    "        subSys_rxns = rxn_name.loc[rxn_name.subSystem ==subSys,'rxn']\n",
    "        shared_rxns = [x for x in subSys_rxns if x in pheno_rxns]\n",
    "        pathway_percentage =len( shared_rxns) / len(subSys_rxns)\n",
    "        df_sparse.iloc[i,k] = pathway_percentage"
   ]
  },
  {
   "cell_type": "markdown",
   "metadata": {},
   "source": [
    "for i in range(df_sparse.shape[0]):\n",
    "    for k in range(df_sparse.shape[1]):\n",
    "        rxn = all_rxns[i]\n",
    "        pheno = df_uniques.index[k]\n",
    "        if rxn in df_uniques.loc[pheno,'Toxic_down_rxns']:\n",
    "            df_sparse.iloc[i,k] = 1\n",
    "        elif rxn in df_uniques.loc[pheno,'Safe_down_rxns']:\n",
    "            df_sparse.iloc[i,k] = 2\n",
    "        else:\n",
    "            df_sparse.iloc[i,k] = 0"
   ]
  },
  {
   "cell_type": "code",
   "execution_count": 102,
   "metadata": {},
   "outputs": [],
   "source": [
    "#Remove biomass reactions\n",
    "#df_sparse = df_sparse.loc[~df_sparse.index.str.lower().str.contains('biomass'),:]"
   ]
  },
  {
   "cell_type": "code",
   "execution_count": 103,
   "metadata": {},
   "outputs": [
    {
     "data": {
      "text/plain": [
       "Index(['s1', 's16', 's2', 's5', 's6', 's7'], dtype='object', name='Series')"
      ]
     },
     "execution_count": 103,
     "metadata": {},
     "output_type": "execute_result"
    }
   ],
   "source": [
    "df_sparse.columns"
   ]
  },
  {
   "cell_type": "code",
   "execution_count": 105,
   "metadata": {},
   "outputs": [],
   "source": [
    "df_sparse = df_sparse.loc[:,['s2', 's6', 's5', 's16', 's1', 's7']]\n",
    "df_sparse.columns = [ 'A549_.02', 'A549_.2_ACE2',  'A549_2','A549_2_ACE2','NHBE_2','Calu3_2']"
   ]
  },
  {
   "cell_type": "code",
   "execution_count": 106,
   "metadata": {},
   "outputs": [
    {
     "data": {
      "text/html": [
       "<div>\n",
       "<style scoped>\n",
       "    .dataframe tbody tr th:only-of-type {\n",
       "        vertical-align: middle;\n",
       "    }\n",
       "\n",
       "    .dataframe tbody tr th {\n",
       "        vertical-align: top;\n",
       "    }\n",
       "\n",
       "    .dataframe thead th {\n",
       "        text-align: right;\n",
       "    }\n",
       "</style>\n",
       "<table border=\"1\" class=\"dataframe\">\n",
       "  <thead>\n",
       "    <tr style=\"text-align: right;\">\n",
       "      <th></th>\n",
       "      <th>A549_.02</th>\n",
       "      <th>A549_.2_ACE2</th>\n",
       "      <th>A549_2</th>\n",
       "      <th>A549_2_ACE2</th>\n",
       "      <th>NHBE_2</th>\n",
       "      <th>Calu3_2</th>\n",
       "    </tr>\n",
       "  </thead>\n",
       "  <tbody>\n",
       "    <tr>\n",
       "      <th>Alanine and aspartate metabolism</th>\n",
       "      <td>0.076923</td>\n",
       "      <td>0.000000</td>\n",
       "      <td>0.000000</td>\n",
       "      <td>0.000000</td>\n",
       "      <td>0.000000</td>\n",
       "      <td>0.000000</td>\n",
       "    </tr>\n",
       "    <tr>\n",
       "      <th>Glycerophospholipid metabolism</th>\n",
       "      <td>0.009569</td>\n",
       "      <td>0.019139</td>\n",
       "      <td>0.019139</td>\n",
       "      <td>0.028708</td>\n",
       "      <td>0.028708</td>\n",
       "      <td>0.009569</td>\n",
       "    </tr>\n",
       "    <tr>\n",
       "      <th>Transport, extracellular</th>\n",
       "      <td>0.003007</td>\n",
       "      <td>0.002005</td>\n",
       "      <td>0.002255</td>\n",
       "      <td>0.004260</td>\n",
       "      <td>0.003508</td>\n",
       "      <td>0.002506</td>\n",
       "    </tr>\n",
       "    <tr>\n",
       "      <th>Transport, nuclear</th>\n",
       "      <td>0.066116</td>\n",
       "      <td>0.049587</td>\n",
       "      <td>0.049587</td>\n",
       "      <td>0.066116</td>\n",
       "      <td>0.066116</td>\n",
       "      <td>0.049587</td>\n",
       "    </tr>\n",
       "    <tr>\n",
       "      <th>Sphingolipid metabolism</th>\n",
       "      <td>0.028571</td>\n",
       "      <td>0.019048</td>\n",
       "      <td>0.019048</td>\n",
       "      <td>0.033333</td>\n",
       "      <td>0.028571</td>\n",
       "      <td>0.019048</td>\n",
       "    </tr>\n",
       "    <tr>\n",
       "      <th>Nucleotide interconversion</th>\n",
       "      <td>0.018462</td>\n",
       "      <td>0.024615</td>\n",
       "      <td>0.024615</td>\n",
       "      <td>0.018462</td>\n",
       "      <td>0.018462</td>\n",
       "      <td>0.018462</td>\n",
       "    </tr>\n",
       "    <tr>\n",
       "      <th>Glycolysis/gluconeogenesis</th>\n",
       "      <td>0.074074</td>\n",
       "      <td>0.000000</td>\n",
       "      <td>0.000000</td>\n",
       "      <td>0.049383</td>\n",
       "      <td>0.049383</td>\n",
       "      <td>0.000000</td>\n",
       "    </tr>\n",
       "    <tr>\n",
       "      <th>Exchange/demand reaction</th>\n",
       "      <td>0.009117</td>\n",
       "      <td>0.008288</td>\n",
       "      <td>0.008288</td>\n",
       "      <td>0.009946</td>\n",
       "      <td>0.009532</td>\n",
       "      <td>0.004973</td>\n",
       "    </tr>\n",
       "    <tr>\n",
       "      <th>Methionine and cysteine metabolism</th>\n",
       "      <td>0.041667</td>\n",
       "      <td>0.000000</td>\n",
       "      <td>0.027778</td>\n",
       "      <td>0.041667</td>\n",
       "      <td>0.041667</td>\n",
       "      <td>0.000000</td>\n",
       "    </tr>\n",
       "    <tr>\n",
       "      <th>Cysteine Metabolism</th>\n",
       "      <td>0.333333</td>\n",
       "      <td>0.000000</td>\n",
       "      <td>0.000000</td>\n",
       "      <td>0.333333</td>\n",
       "      <td>0.333333</td>\n",
       "      <td>0.000000</td>\n",
       "    </tr>\n",
       "    <tr>\n",
       "      <th>Purine catabolism</th>\n",
       "      <td>0.000000</td>\n",
       "      <td>0.000000</td>\n",
       "      <td>0.000000</td>\n",
       "      <td>0.033333</td>\n",
       "      <td>0.033333</td>\n",
       "      <td>0.000000</td>\n",
       "    </tr>\n",
       "    <tr>\n",
       "      <th>Pyrimidine synthesis</th>\n",
       "      <td>0.052632</td>\n",
       "      <td>0.000000</td>\n",
       "      <td>0.000000</td>\n",
       "      <td>0.052632</td>\n",
       "      <td>0.052632</td>\n",
       "      <td>0.000000</td>\n",
       "    </tr>\n",
       "    <tr>\n",
       "      <th>Peptide metabolism</th>\n",
       "      <td>0.000000</td>\n",
       "      <td>0.008264</td>\n",
       "      <td>0.004132</td>\n",
       "      <td>0.004132</td>\n",
       "      <td>0.000000</td>\n",
       "      <td>0.008264</td>\n",
       "    </tr>\n",
       "  </tbody>\n",
       "</table>\n",
       "</div>"
      ],
      "text/plain": [
       "                                    A549_.02  A549_.2_ACE2    A549_2  \\\n",
       "Alanine and aspartate metabolism    0.076923      0.000000  0.000000   \n",
       "Glycerophospholipid metabolism      0.009569      0.019139  0.019139   \n",
       "Transport, extracellular            0.003007      0.002005  0.002255   \n",
       "Transport, nuclear                  0.066116      0.049587  0.049587   \n",
       "Sphingolipid metabolism             0.028571      0.019048  0.019048   \n",
       "Nucleotide interconversion          0.018462      0.024615  0.024615   \n",
       "Glycolysis/gluconeogenesis          0.074074      0.000000  0.000000   \n",
       "Exchange/demand reaction            0.009117      0.008288  0.008288   \n",
       "Methionine and cysteine metabolism  0.041667      0.000000  0.027778   \n",
       "Cysteine Metabolism                 0.333333      0.000000  0.000000   \n",
       "Purine catabolism                   0.000000      0.000000  0.000000   \n",
       "Pyrimidine synthesis                0.052632      0.000000  0.000000   \n",
       "Peptide metabolism                  0.000000      0.008264  0.004132   \n",
       "\n",
       "                                    A549_2_ACE2    NHBE_2   Calu3_2  \n",
       "Alanine and aspartate metabolism       0.000000  0.000000  0.000000  \n",
       "Glycerophospholipid metabolism         0.028708  0.028708  0.009569  \n",
       "Transport, extracellular               0.004260  0.003508  0.002506  \n",
       "Transport, nuclear                     0.066116  0.066116  0.049587  \n",
       "Sphingolipid metabolism                0.033333  0.028571  0.019048  \n",
       "Nucleotide interconversion             0.018462  0.018462  0.018462  \n",
       "Glycolysis/gluconeogenesis             0.049383  0.049383  0.000000  \n",
       "Exchange/demand reaction               0.009946  0.009532  0.004973  \n",
       "Methionine and cysteine metabolism     0.041667  0.041667  0.000000  \n",
       "Cysteine Metabolism                    0.333333  0.333333  0.000000  \n",
       "Purine catabolism                      0.033333  0.033333  0.000000  \n",
       "Pyrimidine synthesis                   0.052632  0.052632  0.000000  \n",
       "Peptide metabolism                     0.004132  0.000000  0.008264  "
      ]
     },
     "execution_count": 106,
     "metadata": {},
     "output_type": "execute_result"
    }
   ],
   "source": [
    "df_sparse"
   ]
  },
  {
   "cell_type": "code",
   "execution_count": 107,
   "metadata": {},
   "outputs": [],
   "source": [
    "#df_sparse = df_sparse.drop(index=['nan'])"
   ]
  },
  {
   "cell_type": "code",
   "execution_count": 108,
   "metadata": {},
   "outputs": [],
   "source": [
    "from matplotlib import pyplot as plt\n",
    "#g = sns.clustermap(df_sparse,col_cluster=False)\n",
    "#g.savefig('Enrichment/DEGs/L1K_Clustered.png', dpi=400,bbox_inches='tight')"
   ]
  },
  {
   "cell_type": "code",
   "execution_count": 109,
   "metadata": {},
   "outputs": [],
   "source": [
    "#rxn_name = rxn_name.loc[rxn_name.rxn.drop_duplicates().index,:].reset_index(drop=True)"
   ]
  },
  {
   "cell_type": "code",
   "execution_count": 110,
   "metadata": {},
   "outputs": [],
   "source": [
    "#all_rxns_unmapped_idx = np.where([len(x) == 0  for x in all_rxns_names])[0]\n",
    "#all_rxns_unmapped = all_rxns[all_rxns_unmapped_idx]\n",
    "#for i in range(len(all_rxns_unmapped)):\n",
    "#    all_rxns_names[all_rxns_unmapped_idx[i]]  = all_rxns_unmapped[i]\n",
    "#all_rxns_names = np.concatenate([all_rxns_names])"
   ]
  },
  {
   "cell_type": "code",
   "execution_count": 111,
   "metadata": {
    "scrolled": true
   },
   "outputs": [],
   "source": [
    "#rxn_name = pd.read_csv('bigg_models_reactions.txt',sep='\\t')\n",
    "#all_rxns_names_2 = [ rxn_name.loc[rxn_name.bigg_id==x,'name'].values for x in all_rxns_unmapped]"
   ]
  },
  {
   "cell_type": "code",
   "execution_count": 113,
   "metadata": {},
   "outputs": [
    {
     "data": {
      "image/png": "[encoded data removed]",
      "text/plain": [
       "<Figure size 720x2880 with 4 Axes>"
      ]
     },
     "metadata": {
      "needs_background": "light"
     },
     "output_type": "display_data"
    }
   ],
   "source": [
    "cm = sns.clustermap(df_sparse,col_cluster=False,  yticklabels=True, figsize=(10,40))"
   ]
  },
  {
   "cell_type": "code",
   "execution_count": 115,
   "metadata": {},
   "outputs": [
    {
     "data": {
      "image/png": "[encoded data removed]",
      "text/plain": [
       "<Figure size 720x720 with 4 Axes>"
      ]
     },
     "metadata": {
      "needs_background": "light"
     },
     "output_type": "display_data"
    }
   ],
   "source": [
    "g = sns.clustermap(df_sparse,\n",
    "                   col_cluster=False,\n",
    "                   row_cluster=True,\n",
    "                   mask=False,\n",
    "                   #standard_scale=0,\n",
    "                   yticklabels=True,\n",
    "                   cmap=\"Blues\",\n",
    "                   #square=True,\n",
    "                   #figsize=(12,(.3*(len(enrich_coverage_all.index))))\n",
    "                  )\n",
    "g.cax.set_visible(False)\n",
    "g.ax_row_dendrogram.set_visible(False)\n",
    "g.ax_col_dendrogram.set_visible(False)\n",
    "g.ax_heatmap.set_xticklabels(g.ax_heatmap.get_xmajorticklabels(), fontsize = 11, rotation=0)\n",
    "g.ax_heatmap.set_yticklabels(g.ax_heatmap.get_ymajorticklabels(), fontsize = 14, rotation=0)\n",
    "#g.savefig('enrichment/SKO_Lung_1_Enrichment.png', dpi=400,bbox_inches='tight')\n",
    "g.savefig('Figs/RKO_Lung_1_Enrichment.svg', dpi=400,bbox_inches='tight')\n",
    "g.savefig('Figs/RKO_Lung_1_Enrichment.png', dpi=400,bbox_inches='tight')"
   ]
  },
  {
   "cell_type": "code",
   "execution_count": null,
   "metadata": {},
   "outputs": [],
   "source": []
  }
 ],
 "metadata": {
  "kernelspec": {
   "display_name": "Python 3",
   "language": "python",
   "name": "python3"
  },
  "language_info": {
   "codemirror_mode": {
    "name": "ipython",
    "version": 3
   },
   "file_extension": ".py",
   "mimetype": "text/x-python",
   "name": "python",
   "nbconvert_exporter": "python",
   "pygments_lexer": "ipython3",
   "version": "3.7.4"
  }
 },
 "nbformat": 4,
 "nbformat_minor": 2
}
